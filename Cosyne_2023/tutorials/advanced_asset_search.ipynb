{
 "cells": [
  {
   "cell_type": "code",
   "execution_count": 1,
   "id": "62326652-fb78-4838-9bbd-6f29e09793fc",
   "metadata": {
    "tags": []
   },
   "outputs": [],
   "source": [
    "import json\n",
    "import numpy as np\n",
    "from dandi.dandiapi import DandiAPIClient\n",
    "from tqdm.notebook import tqdm\n",
    "from pandas import Timedelta"
   ]
  },
  {
   "cell_type": "code",
   "execution_count": 2,
   "id": "3c949acf-7661-41ec-801b-7f7aec844ee0",
   "metadata": {
    "tags": []
   },
   "outputs": [],
   "source": [
    "client = DandiAPIClient()\n",
    "dandisets = list(client.get_dandisets())"
   ]
  },
  {
   "cell_type": "markdown",
   "id": "6a226e74-0f13-40c6-9e8d-9a3eb3fbd3ad",
   "metadata": {
    "tags": []
   },
   "source": [
    "# More specific identification of NWB dandisets\n",
    "\n",
    "The simpler tutorial simply tested if NWB was in the name of any of the data standards for a dandiset.\n",
    "\n",
    "The more official and precise method is to use the specific RRID of NWB, which is `\"RRID:SCR_015242\"`."
   ]
  },
  {
   "cell_type": "code",
   "execution_count": 3,
   "id": "01b611f1-6d7f-40d7-8922-26eb1c5b2264",
   "metadata": {
    "tags": []
   },
   "outputs": [
    {
     "data": {
      "application/vnd.jupyter.widget-view+json": {
       "model_id": "9e5105cff45345d48f75e3183735ebca",
       "version_major": 2,
       "version_minor": 0
      },
      "text/plain": [
       "  0%|          | 0/222 [00:00<?, ?it/s]"
      ]
     },
     "metadata": {},
     "output_type": "display_data"
    },
    {
     "name": "stdout",
     "output_type": "stream",
     "text": [
      "There are currently 128 NWB datasets on DANDI!\n"
     ]
    }
   ],
   "source": [
    "nwb_dandisets = []\n",
    "\n",
    "for dandiset in tqdm(dandisets):\n",
    "    raw_metadata = dandiset.get_raw_metadata()\n",
    "\n",
    "    if any(\n",
    "        data_standard['identifier'] == \"RRID:SCR_015242\"  # this is the RRID for NWB\n",
    "        for data_standard in raw_metadata['assetsSummary'].get('dataStandard', [])\n",
    "    ):\n",
    "        nwb_dandisets.append(dandiset)\n",
    "print(f\"There are currently {len(nwb_dandisets)} NWB datasets on DANDI!\")"
   ]
  },
  {
   "cell_type": "markdown",
   "id": "e7962c8a-f93c-4de2-aa9a-bee6516da634",
   "metadata": {
    "tags": []
   },
   "source": [
    "# Average age of subjects used in a dandiset\n",
    "\n",
    "Let's consider a more advanced calculation - calculating the average age of the the subjects used in a particular dandiset.\n",
    "\n",
    "For this we will be diretly accessing the asset level fields `wasAttributedTo` as a key of the `asset_metadata`, instead of as an attribute.\n",
    "\n",
    "We will also have to do some manual data manipulation to parse the form of the ISO 8601; you can read more about the standard at https://en.wikipedia.org/wiki/ISO_8601"
   ]
  },
  {
   "cell_type": "code",
   "execution_count": 5,
   "id": "f5dbbb89-0b66-4557-8cea-829e92a4f4fd",
   "metadata": {
    "tags": []
   },
   "outputs": [
    {
     "data": {
      "application/vnd.jupyter.widget-view+json": {
       "model_id": "1a1096ea9af3401aad128566791760b2",
       "version_major": 2,
       "version_minor": 0
      },
      "text/plain": [
       "  0%|          | 0/42 [00:00<?, ?it/s]"
      ]
     },
     "metadata": {},
     "output_type": "display_data"
    },
    {
     "ename": "NameError",
     "evalue": "name 'age_as_timedelta' is not defined",
     "output_type": "error",
     "traceback": [
      "\u001b[0;31m---------------------------------------------------------------------------\u001b[0m",
      "\u001b[0;31mNameError\u001b[0m                                 Traceback (most recent call last)",
      "Cell \u001b[0;32mIn[5], line 26\u001b[0m\n\u001b[1;32m     24\u001b[0m             age_as_time_delta \u001b[38;5;241m=\u001b[39m Timedelta(subject_metadata[\u001b[38;5;124m\"\u001b[39m\u001b[38;5;124mage\u001b[39m\u001b[38;5;124m\"\u001b[39m][\u001b[38;5;124m\"\u001b[39m\u001b[38;5;124mvalue\u001b[39m\u001b[38;5;124m\"\u001b[39m])\n\u001b[1;32m     25\u001b[0m             \u001b[38;5;28;01mif\u001b[39;00m age_as_time_delta\u001b[38;5;241m.\u001b[39mtotal_seconds():  \u001b[38;5;66;03m# Skip if the age is null\u001b[39;00m\n\u001b[0;32m---> 26\u001b[0m                 all_subject_ages_in_days\u001b[38;5;241m.\u001b[39mappend(\u001b[43mtimedelta_to_fractional_days\u001b[49m\u001b[43m(\u001b[49m\u001b[43mtime_delta\u001b[49m\u001b[38;5;241;43m=\u001b[39;49m\u001b[43mage_as_time_delta\u001b[49m\u001b[43m)\u001b[49m)\n\u001b[1;32m     27\u001b[0m \u001b[38;5;28mprint\u001b[39m(\u001b[38;5;124mf\u001b[39m\u001b[38;5;124m\"\u001b[39m\u001b[38;5;124mThe average age of the subjects in dandiset #398 is: \u001b[39m\u001b[38;5;132;01m{\u001b[39;00mnp\u001b[38;5;241m.\u001b[39mmean(all_subject_ages_in_days)\u001b[38;5;132;01m}\u001b[39;00m\u001b[38;5;124m days\u001b[39m\u001b[38;5;124m\"\u001b[39m)\n",
      "Cell \u001b[0;32mIn[5], line 12\u001b[0m, in \u001b[0;36mtimedelta_to_fractional_days\u001b[0;34m(time_delta)\u001b[0m\n\u001b[1;32m      5\u001b[0m \u001b[38;5;28;01mdef\u001b[39;00m \u001b[38;5;21mtimedelta_to_fractional_days\u001b[39m(time_delta: Timedelta):\n\u001b[1;32m      6\u001b[0m \u001b[38;5;250m    \u001b[39m\u001b[38;5;124;03m\"\"\"\u001b[39;00m\n\u001b[1;32m      7\u001b[0m \u001b[38;5;124;03m    Defining a helper function which returns the duration of a Timedelta in float-valued days.\u001b[39;00m\n\u001b[1;32m      8\u001b[0m \u001b[38;5;124;03m    \u001b[39;00m\n\u001b[1;32m      9\u001b[0m \u001b[38;5;124;03m    This is because a Timedelta can only return either its `.days` (integer, rounded down) or\u001b[39;00m\n\u001b[1;32m     10\u001b[0m \u001b[38;5;124;03m    its `total_seconds()`.\u001b[39;00m\n\u001b[1;32m     11\u001b[0m \u001b[38;5;124;03m    \"\"\"\u001b[39;00m\n\u001b[0;32m---> 12\u001b[0m     \u001b[38;5;28;01mreturn\u001b[39;00m \u001b[43mage_as_timedelta\u001b[49m\u001b[38;5;241m.\u001b[39mtotal_seconds() \u001b[38;5;241m/\u001b[39m (  \u001b[38;5;66;03m# Evaluate using the total number of seconds\u001b[39;00m\n\u001b[1;32m     13\u001b[0m         \u001b[38;5;241m60\u001b[39m \u001b[38;5;241m*\u001b[39m  \u001b[38;5;66;03m# 60 seconds per minute\u001b[39;00m\n\u001b[1;32m     14\u001b[0m         \u001b[38;5;241m60\u001b[39m \u001b[38;5;241m*\u001b[39m  \u001b[38;5;66;03m# 60 minutes per hour\u001b[39;00m\n\u001b[1;32m     15\u001b[0m         \u001b[38;5;241m24\u001b[39m  \u001b[38;5;66;03m# 24 hours per day (ignoring daylight savings time)\u001b[39;00m\n\u001b[1;32m     16\u001b[0m     )\n",
      "\u001b[0;31mNameError\u001b[0m: name 'age_as_timedelta' is not defined"
     ]
    }
   ],
   "source": [
    "dandiset = client.get_dandiset(\"000398\")\n",
    "all_subject_ages_in_days = []\n",
    "assets = list(dandiset.get_assets())\n",
    "\n",
    "def timedelta_to_fractional_days(time_delta: Timedelta):\n",
    "    \"\"\"\n",
    "    Defining a helper function which returns the duration of a Timedelta in float-valued days.\n",
    "    \n",
    "    This is because a Timedelta can only return either its `.days` (integer, rounded down) or\n",
    "    its `total_seconds()`.\n",
    "    \"\"\"\n",
    "    return age_as_timedelta.total_seconds() / (  # Evaluate using the total number of seconds\n",
    "        60 *  # 60 seconds per minute\n",
    "        60 *  # 60 minutes per hour\n",
    "        24  # 24 hours per day (ignoring daylight savings time)\n",
    "    )\n",
    "\n",
    "for asset in tqdm(assets):\n",
    "    raw_metadata = asset.get_raw_metadata()\n",
    "    subjects = raw_metadata[\"wasAttributedTo\"]\n",
    "\n",
    "    for subject_metadata in subjects:\n",
    "        if \"age\" in subject_metadata:\n",
    "            age_as_time_delta = Timedelta(subject_metadata[\"age\"][\"value\"])\n",
    "            if age_as_time_delta.total_seconds():  # Skip if the age is null\n",
    "                all_subject_ages_in_days.append(timedelta_to_fractional_days(time_delta=age_as_time_delta))\n",
    "print(f\"The average age of the subjects in dandiset #398 is: {np.mean(all_subject_ages_in_days)} days\")"
   ]
  },
  {
   "cell_type": "markdown",
   "id": "49ddd863-c310-4798-b9fb-3e36bace49dd",
   "metadata": {},
   "source": [
    "# Maybe a parallelized loop over multiple dandisets\n",
    "# counting something like the distribution of subject species used for ecephys experiments"
   ]
  },
  {
   "cell_type": "code",
   "execution_count": null,
   "id": "07afbc13-ecc0-44ca-9200-dafc2494e8e7",
   "metadata": {},
   "outputs": [],
   "source": []
  },
  {
   "cell_type": "markdown",
   "id": "56643220-eef1-4dbb-a104-c378897649c4",
   "metadata": {
    "tags": []
   },
   "source": [
    "# Going beyond\n",
    "These examples show a few types of queries, but since the metadata structures are quite rich on both the dandiset and asset levels, they enable many complex queries beyond the examples here.\n",
    "\n",
    "These metadata structures are also expanding over time as DANDI becomes more strict about what counts as essential metadata.\n",
    "\n",
    "The `.get_raw_metadata` method of both `client.get_dandiset(...)` and `client.get_dandiset(...).get_assets()` provides a nice view into the available fields.\n",
    "\n",
    "Note: for any attribute, it is recommended to first check that it is not `None` before checking for its value."
   ]
  },
  {
   "cell_type": "code",
   "execution_count": null,
   "id": "c76b44d5-9e47-48b2-927c-125bb4dfc5ee",
   "metadata": {
    "tags": []
   },
   "outputs": [],
   "source": [
    "print(json.dumps(dandisets[0].get_raw_metadata(), indent=4))"
   ]
  },
  {
   "cell_type": "code",
   "execution_count": null,
   "id": "ff061749-dd12-4cc8-a70a-ad42b8ed862c",
   "metadata": {},
   "outputs": [],
   "source": [
    "print(json.dumps(assets[0].get_raw_metadata(), indent=4))"
   ]
  },
  {
   "cell_type": "code",
   "execution_count": null,
   "id": "21f004d3-1b3d-496c-b71f-2f4061cc95c8",
   "metadata": {},
   "outputs": [],
   "source": []
  }
 ],
 "metadata": {
  "kernelspec": {
   "display_name": "Python 3 (ipykernel)",
   "language": "python",
   "name": "python3"
  },
  "language_info": {
   "codemirror_mode": {
    "name": "ipython",
    "version": 3
   },
   "file_extension": ".py",
   "mimetype": "text/x-python",
   "name": "python",
   "nbconvert_exporter": "python",
   "pygments_lexer": "ipython3",
   "version": "3.10.9"
  }
 },
 "nbformat": 4,
 "nbformat_minor": 5
}
