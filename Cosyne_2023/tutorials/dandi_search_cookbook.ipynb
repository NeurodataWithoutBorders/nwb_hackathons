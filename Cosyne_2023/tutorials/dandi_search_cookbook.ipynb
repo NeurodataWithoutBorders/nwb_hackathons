{
 "cells": [
  {
   "cell_type": "code",
   "execution_count": 4,
   "id": "62326652-fb78-4838-9bbd-6f29e09793fc",
   "metadata": {},
   "outputs": [],
   "source": [
    "from dandi.dandiapi import DandiAPIClient\n",
    "from tqdm.notebook import tqdm"
   ]
  },
  {
   "cell_type": "code",
   "execution_count": 5,
   "id": "3c949acf-7661-41ec-801b-7f7aec844ee0",
   "metadata": {},
   "outputs": [],
   "source": [
    "client = DandiAPIClient()\n",
    "dandisets = list(client.get_dandisets())"
   ]
  },
  {
   "cell_type": "markdown",
   "id": "6a226e74-0f13-40c6-9e8d-9a3eb3fbd3ad",
   "metadata": {
    "tags": []
   },
   "source": [
    "# Identify NWB dandisets\n",
    "Most dandisets hold NWB-formatted data, but DANDI also hold data of other formats. Let's start by filtering down to only the dandisets that contain at least one NWB file. We can do this by querying the metadata of each dandiset, which tells us the data formats within in `raw_metadata[\"assetsSummary\"][\"dataStandard\"]`. We'll use the RRID of NWB, which is `\"RRID:SCR_015242\"` and return all dandisets where this RRID is in the list of data standards. If no data has been uploaded to that dandiset, the \"dataStandard\" field is not present. We handle this by using the `.get` method to iterate over an empty list."
   ]
  },
  {
   "cell_type": "code",
   "execution_count": 8,
   "id": "01b611f1-6d7f-40d7-8922-26eb1c5b2264",
   "metadata": {},
   "outputs": [
    {
     "data": {
      "application/vnd.jupyter.widget-view+json": {
       "model_id": "9ceaa9a1bfa24490a1269e3622b80127",
       "version_major": 2,
       "version_minor": 0
      },
      "text/plain": [
       "  0%|          | 0/210 [00:00<?, ?it/s]"
      ]
     },
     "metadata": {},
     "output_type": "display_data"
    },
    {
     "data": {
      "text/plain": [
       "119"
      ]
     },
     "execution_count": 8,
     "metadata": {},
     "output_type": "execute_result"
    }
   ],
   "source": [
    "nwb_dandisets = []\n",
    "\n",
    "for dandiset in tqdm(dandisets):\n",
    "    raw_metadata = dandiset.get_raw_metadata()\n",
    "    if any(\n",
    "        x['identifier'] == 'RRID:SCR_015242'  # this is the RRID for NWB\n",
    "        for x in raw_metadata['assetsSummary'].get('dataStandard', [])\n",
    "    ):\n",
    "        nwb_dandisets.append(dandiset)\n",
    "len(nwb_dandisets)"
   ]
  },
  {
   "cell_type": "markdown",
   "id": "77b3784a-6428-47df-88ff-d028f32366dd",
   "metadata": {
    "tags": []
   },
   "source": [
    "# Filtering dandisets: species\n",
    "Let's use the nwb_dandisets list from the previous recipe and filter down to only NWB dandisets that have mouse data. You can find this information in `raw_metadata[\"assetsSummary\"][\"species\"]`. We'll use the same `.get` trick as above for if no data has been uploaded. This code will return dandisets that contain mouse data."
   ]
  },
  {
   "cell_type": "code",
   "execution_count": 9,
   "id": "3a665b84-bfa4-49b4-9251-3468c10484d8",
   "metadata": {},
   "outputs": [
    {
     "data": {
      "application/vnd.jupyter.widget-view+json": {
       "model_id": "947c5785529b44dfb21c2e4e4a3b22c5",
       "version_major": 2,
       "version_minor": 0
      },
      "text/plain": [
       "  0%|          | 0/119 [00:00<?, ?it/s]"
      ]
     },
     "metadata": {},
     "output_type": "display_data"
    },
    {
     "data": {
      "text/plain": [
       "58"
      ]
     },
     "execution_count": 9,
     "metadata": {},
     "output_type": "execute_result"
    }
   ],
   "source": [
    "mouse_nwb_dandisets = []\n",
    "\n",
    "for dandiset in tqdm(nwb_dandisets):\n",
    "    raw_metadata = dandiset.get_raw_metadata()\n",
    "    if any(\n",
    "        \"mouse\" in x[\"name\"]\n",
    "        for x in raw_metadata[\"assetsSummary\"].get(\"species\", [])):\n",
    "        mouse_nwb_dandisets.append(dandiset)\n",
    "len(mouse_nwb_dandisets)"
   ]
  },
  {
   "cell_type": "markdown",
   "id": "e7962c8a-f93c-4de2-aa9a-bee6516da634",
   "metadata": {
    "tags": []
   },
   "source": [
    "# Filtering by session: species and sex\n",
    "Let's say you have identified a dandiset of interest, \"000005\", and you want to identify all of the sessions on female mice. You can do this by querying asset-level metadata. Assets correspond to individual NWB files, and contain metadata extracted from those files. The metadata of each asset contains a `.wasAttributedTo` attribute, which is a list of `Participant` objects corresponding to the subjects for that session. Usually, there is only one subject, but we can iterate over the list in case there are more. Next we want to check the species and sex for each subject. We do that by first testing that attribute exists (is not `None`) and then checking the value of its `name` parameter. This code returns a list of all assets (NWB files) for which that is at least one subject that is a female mouse."
   ]
  },
  {
   "cell_type": "code",
   "execution_count": 26,
   "id": "e0017ebf-e2b6-4157-a37f-6c32f1b8869b",
   "metadata": {},
   "outputs": [
    {
     "data": {
      "application/vnd.jupyter.widget-view+json": {
       "model_id": "ff90ab062fc4446eb3c94f530a4dca99",
       "version_major": 2,
       "version_minor": 0
      },
      "text/plain": [
       "  0%|          | 0/148 [00:00<?, ?it/s]"
      ]
     },
     "metadata": {},
     "output_type": "display_data"
    },
    {
     "name": "stdout",
     "output_type": "stream",
     "text": [
      "69/148\n"
     ]
    }
   ],
   "source": [
    "dandiset = client.get_dandiset(\"000005\")\n",
    "female_mouse_nwb_sessions = []\n",
    "assets = list(dandiset.get_assets())\n",
    "for asset in tqdm(assets):\n",
    "    asset_metadata = asset.get_metadata()\n",
    "    subjects = asset_metadata.wasAttributedTo\n",
    "    if any(\n",
    "        subject.species and \"mouse\" in subject.species.name.lower() \\\n",
    "        and subject.sex and subject.sex.name == \"Female\"\n",
    "        for subject in subjects\n",
    "    ):\n",
    "        female_mouse_nwb_sessions.append(asset)\n",
    "print(f\"{len(male_mouse_nwb_sessions)}/{len(assets)}\")"
   ]
  },
  {
   "cell_type": "markdown",
   "id": "56643220-eef1-4dbb-a104-c378897649c4",
   "metadata": {
    "tags": []
   },
   "source": [
    "# Going beyond\n",
    "These examples show a few common queries, but there is much more. The metadata structures are quite rich on both the dandiset and asset level, and they enable many complex queries beyond the examples here. The `.get_raw_metadata` methods of each provides a nice view into the available fields. For any attribute, it is recommended to first check that it is not `None`, then checking for its value."
   ]
  },
  {
   "cell_type": "code",
   "execution_count": 27,
   "id": "c76b44d5-9e47-48b2-927c-125bb4dfc5ee",
   "metadata": {},
   "outputs": [
    {
     "data": {
      "text/plain": [
       "{'id': 'DANDI:000005/0.220126.1853',\n",
       " 'doi': '10.48324/dandi.000005/0.220126.1853',\n",
       " 'url': 'https://dandiarchive.org/dandiset/000005/0.220126.1853',\n",
       " 'name': 'Electrophysiology data from thalamic and cortical neurons during somatosensation',\n",
       " 'about': [{'name': 'dorsal plus ventral thalamus',\n",
       "   'schemaKey': 'Anatomy',\n",
       "   'identifier': 'UBERON:0001897'}],\n",
       " 'access': [{'status': 'dandi:OpenAccess',\n",
       "   'schemaKey': 'AccessRequirements',\n",
       "   'contactPoint': {'schemaKey': 'ContactPoint'}}],\n",
       " 'license': ['spdx:CC-BY-4.0'],\n",
       " 'version': '0.220126.1853',\n",
       " '@context': 'https://raw.githubusercontent.com/dandi/schema/master/releases/0.6.0/context.json',\n",
       " 'citation': 'Yu, Jianing; Gutnisky, Diego A; Hires, S Andrew; Svoboda, Karel (2022) Electrophysiology data from thalamic and cortical neurons during somatosensation (Version 0.220126.1853) [Data set]. DANDI archive. https://doi.org/10.48324/dandi.000005/0.220126.1853',\n",
       " 'keywords': [],\n",
       " 'protocol': [],\n",
       " 'schemaKey': 'Dandiset',\n",
       " 'identifier': 'DANDI:000005',\n",
       " 'repository': 'https://dandiarchive.org/',\n",
       " 'contributor': [{'name': 'Yu, Jianing',\n",
       "   'roleName': ['dcite:Author'],\n",
       "   'schemaKey': 'Person',\n",
       "   'affiliation': [{'name': 'Janelia Research Campus, Howard Hughes Medical Institute',\n",
       "     'schemaKey': 'Affiliation',\n",
       "     'includeInCitation': False}],\n",
       "   'includeInCitation': True},\n",
       "  {'name': 'Gutnisky, Diego A',\n",
       "   'roleName': ['dcite:Author'],\n",
       "   'schemaKey': 'Person',\n",
       "   'affiliation': [{'name': 'Janelia Research Campus, Howard Hughes Medical Institute',\n",
       "     'schemaKey': 'Affiliation',\n",
       "     'includeInCitation': False}],\n",
       "   'includeInCitation': True},\n",
       "  {'name': 'Hires, S Andrew',\n",
       "   'roleName': ['dcite:Author'],\n",
       "   'schemaKey': 'Person',\n",
       "   'affiliation': [{'name': 'Janelia Research Campus, Howard Hughes Medical Institute',\n",
       "     'schemaKey': 'Affiliation',\n",
       "     'includeInCitation': False}],\n",
       "   'includeInCitation': True},\n",
       "  {'name': 'Svoboda, Karel',\n",
       "   'roleName': ['dcite:Author', 'dcite:ContactPerson'],\n",
       "   'schemaKey': 'Person',\n",
       "   'identifier': '0000-0002-6670-7362',\n",
       "   'affiliation': [{'name': 'Janelia Research Campus, Howard Hughes Medical Institute',\n",
       "     'roleName': [],\n",
       "     'schemaKey': 'Affiliation',\n",
       "     'identifier': 'https://ror.org/013sk6x84',\n",
       "     'contactPoint': [],\n",
       "     'includeInCitation': False}],\n",
       "   'includeInCitation': True}],\n",
       " 'dateCreated': '2020-03-16T22:52:44.757000+00:00',\n",
       " 'description': 'intracellular and extracellular electrophysiology recordings performed on mouse barrel cortex and ventral posterolateral nucleus (vpm) in whisker-based object locating task.',\n",
       " 'publishedBy': {'id': 'urn:uuid:2d3f280e-e2ec-412d-a645-a6068b39edc6',\n",
       "  'name': 'DANDI publish',\n",
       "  'endDate': '2022-01-26T18:53:25.564691+00:00',\n",
       "  'schemaKey': 'PublishActivity',\n",
       "  'startDate': '2022-01-26T18:53:25.564691+00:00',\n",
       "  'wasAssociatedWith': [{'id': 'urn:uuid:d97e4246-aa84-4b17-a7ed-15ae6c6ec912',\n",
       "    'name': 'DANDI API',\n",
       "    'version': '0.1.0',\n",
       "    'schemaKey': 'Software',\n",
       "    'identifier': 'RRID:SCR_017571'}]},\n",
       " 'studyTarget': [],\n",
       " 'assetsSummary': {'species': [{'name': 'House mouse',\n",
       "    'schemaKey': 'SpeciesType',\n",
       "    'identifier': 'http://purl.obolibrary.org/obo/NCBITaxon_10090'}],\n",
       "  'approach': [{'name': 'electrophysiological approach',\n",
       "    'schemaKey': 'ApproachType'},\n",
       "   {'name': 'optogenetic approach', 'schemaKey': 'ApproachType'}],\n",
       "  'schemaKey': 'AssetsSummary',\n",
       "  'dataStandard': [{'name': 'Neurodata Without Borders (NWB)',\n",
       "    'schemaKey': 'StandardsType',\n",
       "    'identifier': 'RRID:SCR_015242'}],\n",
       "  'numberOfBytes': 46436686324,\n",
       "  'numberOfFiles': 148,\n",
       "  'numberOfSubjects': 55,\n",
       "  'variableMeasured': ['CurrentClampStimulusSeries',\n",
       "   'CurrentClampSeries',\n",
       "   'OptogeneticSeries',\n",
       "   'ElectrodeGroup',\n",
       "   'Units'],\n",
       "  'measurementTechnique': [{'name': 'current clamp technique',\n",
       "    'schemaKey': 'MeasurementTechniqueType'},\n",
       "   {'name': 'surgical technique', 'schemaKey': 'MeasurementTechniqueType'},\n",
       "   {'name': 'spike sorting technique',\n",
       "    'schemaKey': 'MeasurementTechniqueType'}]},\n",
       " 'datePublished': '2022-01-26T18:53:25.564691+00:00',\n",
       " 'schemaVersion': '0.6.0',\n",
       " 'ethicsApproval': [],\n",
       " 'wasGeneratedBy': [],\n",
       " 'relatedResource': [{'url': 'https://doi.org/10.1038/nn.4412',\n",
       "   'name': 'Layer 4 fast-spiking interneurons filter thalamocortical signals during active somatosensation',\n",
       "   'relation': 'dcite:IsDescribedBy',\n",
       "   'schemaKey': 'Resource',\n",
       "   'identifier': 'doi:10.1038/nn.4412'}],\n",
       " 'manifestLocation': ['https://dandiarchive.s3.amazonaws.com/dandisets/000005/0.220126.1853/assets.yaml']}"
      ]
     },
     "execution_count": 27,
     "metadata": {},
     "output_type": "execute_result"
    }
   ],
   "source": [
    "dandiset.get_raw_metadata()"
   ]
  },
  {
   "cell_type": "code",
   "execution_count": 31,
   "id": "ff061749-dd12-4cc8-a70a-ad42b8ed862c",
   "metadata": {},
   "outputs": [
    {
     "data": {
      "text/plain": [
       "{'id': 'dandiasset:0d621aa7-077d-4977-acc9-f23e36d8fb9f',\n",
       " 'path': 'sub-anm337496/sub-anm337496_ses-20160524_behavior+icephys+ogen.nwb',\n",
       " 'access': [{'status': 'dandi:OpenAccess', 'schemaKey': 'AccessRequirements'}],\n",
       " 'digest': {'dandi:sha2-256': 'ba86d2fb8333ea8dabeb4c13c1524f6d37f89b296abd2481a62b76491aca8000',\n",
       "  'dandi:dandi-etag': '12fd426232fe7fc6001b9163e51b3707-17'},\n",
       " '@context': 'https://raw.githubusercontent.com/dandi/schema/master/releases/0.4.4/context.json',\n",
       " 'approach': [{'name': 'electrophysiological approach',\n",
       "   'schemaKey': 'ApproachType'}],\n",
       " 'keywords': ['barrel cortex',\n",
       "  'thalamus',\n",
       "  'whiskers',\n",
       "  'extracellular electrophysiology',\n",
       "  'intracellular electrophysiology',\n",
       "  'optogenetic perturbations'],\n",
       " 'schemaKey': 'Asset',\n",
       " 'contentUrl': ['https://api.dandiarchive.org/api/assets/0d621aa7-077d-4977-acc9-f23e36d8fb9f/download/',\n",
       "  'https://dandiarchive.s3.amazonaws.com/blobs/406/fec/406feca8-9859-49c0-85dd-530896438179'],\n",
       " 'identifier': '0d621aa7-077d-4977-acc9-f23e36d8fb9f',\n",
       " 'repository': 'https://dandiarchive.org/',\n",
       " 'contentSize': 1130814448,\n",
       " 'publishedBy': {'id': 'urn:uuid:81f502ca-4da2-4a9f-952e-1e710795cfdb',\n",
       "  'name': 'DANDI publish',\n",
       "  'endDate': '2022-01-26T18:53:26.826599+00:00',\n",
       "  'schemaKey': 'PublishActivity',\n",
       "  'startDate': '2022-01-26T18:53:26.826599+00:00',\n",
       "  'wasAssociatedWith': [{'id': 'urn:uuid:800ad256-d595-41e8-905c-4cfffd06e40f',\n",
       "    'name': 'DANDI API',\n",
       "    'version': '0.1.0',\n",
       "    'schemaKey': 'Software',\n",
       "    'identifier': 'RRID:SCR_017571'}]},\n",
       " 'dateModified': '2021-07-01T16:40:54.226167-04:00',\n",
       " 'datePublished': '2022-01-26T18:53:26.826599+00:00',\n",
       " 'schemaVersion': '0.4.4',\n",
       " 'encodingFormat': 'application/x-nwb',\n",
       " 'wasGeneratedBy': [{'id': 'urn:uuid:fed44b0a-95c5-4ae1-b580-d17f5cfd128c',\n",
       "   'name': 'Metadata generation',\n",
       "   'schemaKey': 'Activity',\n",
       "   'description': 'Metadata generated by DANDI cli',\n",
       "   'wasAssociatedWith': [{'url': 'https://github.com/dandi/dandi-cli',\n",
       "     'name': 'DANDI Command Line Interface',\n",
       "     'version': '0.22.0',\n",
       "     'schemaKey': 'Software',\n",
       "     'identifier': 'RRID:SCR_019009'}]}],\n",
       " 'wasAttributedTo': [{'sex': {'name': 'Male',\n",
       "    'schemaKey': 'SexType',\n",
       "    'identifier': 'http://purl.obolibrary.org/obo/PATO_0000384'},\n",
       "   'species': {'name': 'House mouse',\n",
       "    'schemaKey': 'SpeciesType',\n",
       "    'identifier': 'http://purl.obolibrary.org/obo/NCBITaxon_10090'},\n",
       "   'genotype': 'Ai32',\n",
       "   'schemaKey': 'Participant',\n",
       "   'identifier': 'anm337496'}],\n",
       " 'blobDateModified': '2020-10-21T10:27:47.045539-04:00',\n",
       " 'variableMeasured': [{'value': 'CurrentClampStimulusSeries',\n",
       "   'schemaKey': 'PropertyValue'},\n",
       "  {'value': 'CurrentClampSeries', 'schemaKey': 'PropertyValue'}],\n",
       " 'measurementTechnique': [{'name': 'current clamp technique',\n",
       "   'schemaKey': 'MeasurementTechniqueType'}]}"
      ]
     },
     "execution_count": 31,
     "metadata": {},
     "output_type": "execute_result"
    }
   ],
   "source": [
    "asset.get_raw_metadata()"
   ]
  },
  {
   "cell_type": "code",
   "execution_count": null,
   "id": "21f004d3-1b3d-496c-b71f-2f4061cc95c8",
   "metadata": {},
   "outputs": [],
   "source": []
  }
 ],
 "metadata": {
  "kernelspec": {
   "display_name": "Python 3 (ipykernel)",
   "language": "python",
   "name": "python3"
  },
  "language_info": {
   "codemirror_mode": {
    "name": "ipython",
    "version": 3
   },
   "file_extension": ".py",
   "mimetype": "text/x-python",
   "name": "python",
   "nbconvert_exporter": "python",
   "pygments_lexer": "ipython3",
   "version": "3.10.8"
  }
 },
 "nbformat": 4,
 "nbformat_minor": 5
}
