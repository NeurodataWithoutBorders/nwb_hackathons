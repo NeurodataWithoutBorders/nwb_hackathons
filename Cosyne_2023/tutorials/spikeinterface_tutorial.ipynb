{
  "cells": [
    {
      "cell_type": "code",
      "execution_count": null,
      "metadata": {
        "collapsed": false
      },
      "outputs": [],
      "source": [
        "%matplotlib inline"
      ]
    },
    {
      "cell_type": "markdown",
      "metadata": {},
      "source": [
        "\n# Getting started tutorial\n\nIn this introductory example, you will see how to use the SpikeInterface to perform a full electrophysiology analysis.\nWe will first create some simulated data, and we will then perform some pre-processing, run a couple of spike sorting\nalgorithms, inspect and validate the results, export to Phy, and compare spike sorters.\n"
      ]
    },
    {
      "cell_type": "code",
      "execution_count": null,
      "metadata": {
        "collapsed": false
      },
      "outputs": [],
      "source": [
        "import matplotlib.pyplot as plt"
      ]
    },
    {
      "cell_type": "markdown",
      "metadata": {},
      "source": [
        "The spikeinterface module by itself import only the spikeinterface.core submodule\nwhich is not useful for end user\n\n"
      ]
    },
    {
      "cell_type": "code",
      "execution_count": null,
      "metadata": {
        "collapsed": false
      },
      "outputs": [],
      "source": [
        "import spikeinterface"
      ]
    },
    {
      "cell_type": "markdown",
      "metadata": {},
      "source": [
        "We need to import one by one different submodules separately (preferred).\nThere several modules:\n\n- :code:`extractors` : file IO\n- :code:`preprocessing` : preprocessing \n- :code:`sorters` : Python wrappers of spike sorters\n- :code:`postprocessing` : postprocessing\n- :code:`qualitymetrics` : quality metrics on units found by sorter \n- :code:`comparison` : comparison of spike sorting output\n- :code:`widgets` : visualization\n\n"
      ]
    },
    {
      "cell_type": "code",
      "execution_count": null,
      "metadata": {
        "collapsed": false
      },
      "outputs": [],
      "source": [
        "import spikeinterface as si  # import core only\nimport spikeinterface.extractors as se\nimport spikeinterface.sorters as ss\nimport spikeinterface.comparison as sc\nimport spikeinterface.widgets as sw"
      ]
    },
    {
      "cell_type": "markdown",
      "metadata": {},
      "source": [
        "We can also import all submodules at once with this\n this internally import core+extractors+preprocessing+sorters+postprocessing+\n qualitymetrics+comparison+widgets+exporters\n\nThis is useful for notebooks but this is a more heavy import because internally many more dependency\nare imported (scipy/sklearn/networkx/matplotlib/h5py...)\n\n"
      ]
    },
    {
      "cell_type": "code",
      "execution_count": null,
      "metadata": {
        "collapsed": false
      },
      "outputs": [],
      "source": [
        "import spikeinterface.full as si"
      ]
    },
    {
      "cell_type": "markdown",
      "metadata": {},
      "source": [
        "First, let's download a simulated dataset from the\n'https://gin.g-node.org/NeuralEnsemble/ephy_testing_data' repo\n\nThen we can open it. Note that [MEArec](https://mearec.readthedocs.io) simulated file\ncontains both \"recording\" and a \"sorting\" object.\n\n"
      ]
    },
    {
      "cell_type": "code",
      "execution_count": null,
      "metadata": {
        "collapsed": false
      },
      "outputs": [],
      "source": [
        "local_path = si.download_dataset(remote_path='mearec/mearec_test_10s.h5')\nrecording, sorting_true = se.read_mearec(local_path)\nprint(recording)\nprint(sorting_true)"
      ]
    },
    {
      "cell_type": "markdown",
      "metadata": {},
      "source": [
        ":code:`recording` is a :py:class:`~spikeinterface.core.BaseRecording` object, which extracts information about\nchannel ids,  channel locations (if present), the sampling frequency of the recording, and the extracellular\ntraces. :code:`sorting_true` is a :py:class:`~spikeinterface.core.BaseSorting` object, which contains information\nabout spike-sorting related information,  including unit ids, spike trains, etc. Since the data are simulated,\n:code:`sorting_true` has ground-truth information of the spiking activity of each unit.\n\nLet's use the :py:mod:`spikeinterface.widgets` module to visualize the traces and the raster plots.\n\n"
      ]
    },
    {
      "cell_type": "code",
      "execution_count": null,
      "metadata": {
        "collapsed": false
      },
      "outputs": [],
      "source": [
        "w_ts = sw.plot_timeseries(recording, time_range=(0, 5))\nw_rs = sw.plot_rasters(sorting_true, time_range=(0, 5))"
      ]
    },
    {
      "cell_type": "markdown",
      "metadata": {},
      "source": [
        "This is how you retrieve info from a :py:class:`~spikeinterface.core.BaseRecording`...\n\n"
      ]
    },
    {
      "cell_type": "code",
      "execution_count": null,
      "metadata": {
        "collapsed": false
      },
      "outputs": [],
      "source": [
        "channel_ids = recording.get_channel_ids()\nfs = recording.get_sampling_frequency()\nnum_chan = recording.get_num_channels()\nnum_seg = recording.get_num_segments()\n\nprint('Channel ids:', channel_ids)\nprint('Sampling frequency:', fs)\nprint('Number of channels:', num_chan)\nprint('Number of segments:', num_seg)"
      ]
    },
    {
      "cell_type": "markdown",
      "metadata": {},
      "source": [
        "...and a :py:class:`~spikeinterface.core.BaseSorting`\n\n"
      ]
    },
    {
      "cell_type": "code",
      "execution_count": null,
      "metadata": {
        "collapsed": false
      },
      "outputs": [],
      "source": [
        "num_seg = recording.get_num_segments()\nunit_ids = sorting_true.get_unit_ids()\nspike_train = sorting_true.get_unit_spike_train(unit_id=unit_ids[0])\n\nprint('Number of segments:', num_seg)\nprint('Unit ids:', unit_ids)\nprint('Spike train of first unit:', spike_train)"
      ]
    },
    {
      "cell_type": "markdown",
      "metadata": {},
      "source": [
        "SpikeInterface internally uses the :probeinterface:`ProbeInterface <>` to handle :py:class:`~probeinterface.Probe` and\n:py:class:`~probeinterface.ProbeGroup`. So any probe in the probeinterface collections can be download and set to a\nRecording object. In this case, the MEArec dataset already handles a Probe and we don't need to set it.\n\n"
      ]
    },
    {
      "cell_type": "code",
      "execution_count": null,
      "metadata": {
        "collapsed": false
      },
      "outputs": [],
      "source": [
        "probe = recording.get_probe()\nprint(probe)\n\nfrom probeinterface.plotting import plot_probe\n\nplot_probe(probe)"
      ]
    },
    {
      "cell_type": "markdown",
      "metadata": {},
      "source": [
        "Using the :py:mod:`spikeinterface.preprocessing`, you can perform preprocessing on the recordings.\nEach pre-processing function also returns a :py:class:`~spikeinterface.core.BaseRecording`,\nwhich makes it easy to build pipelines. Here, we filter the recording and apply common median reference (CMR).\nAll these preprocessing steps are \"lazy\". The computation is done on demand when we call\n`recording.get_traces(...)` or when we save the object to disk.\n\n"
      ]
    },
    {
      "cell_type": "code",
      "execution_count": null,
      "metadata": {
        "collapsed": false
      },
      "outputs": [],
      "source": [
        "recording_cmr = recording\nrecording_f = si.bandpass_filter(recording, freq_min=300, freq_max=6000)\nprint(recording_f)\nrecording_cmr = si.common_reference(recording_f, reference='global', operator='median')\nprint(recording_cmr)\n\n# this computes and saves the recording after applying the preprocessing chain\nrecording_preprocessed = recording_cmr.save(format='binary')\nprint(recording_preprocessed)"
      ]
    },
    {
      "cell_type": "markdown",
      "metadata": {},
      "source": [
        "Now you are ready to spike sort using the :py:mod:`spikeinterface.sorters` module!\nLet's first check which sorters are implemented and which are installed\n\n"
      ]
    },
    {
      "cell_type": "code",
      "execution_count": null,
      "metadata": {
        "collapsed": false
      },
      "outputs": [],
      "source": [
        "print('Available sorters', ss.available_sorters())\nprint('Installed sorters', ss.installed_sorters())"
      ]
    },
    {
      "cell_type": "markdown",
      "metadata": {},
      "source": [
        "The :code:`ss.installed_sorters()` will list the sorters installed in the machine.\nWe can see we have HerdingSpikes and Tridesclous installed.\nSpike sorters come with a set of parameters that users can change.\nThe available parameters are dictionaries and can be accessed with:\n\n"
      ]
    },
    {
      "cell_type": "code",
      "execution_count": null,
      "metadata": {
        "collapsed": false
      },
      "outputs": [],
      "source": [
        "print(ss.get_default_params('herdingspikes'))\nprint(ss.get_default_params('tridesclous'))"
      ]
    },
    {
      "cell_type": "markdown",
      "metadata": {},
      "source": [
        "Let's run herdingspikes and change one of the parameter, say, the detect_threshold:\n\n"
      ]
    },
    {
      "cell_type": "code",
      "execution_count": null,
      "metadata": {
        "collapsed": false
      },
      "outputs": [],
      "source": [
        "sorting_HS = ss.run_herdingspikes(recording=recording_preprocessed, detect_threshold=4)\nprint(sorting_HS)"
      ]
    },
    {
      "cell_type": "markdown",
      "metadata": {},
      "source": [
        "Alternatively we can pass full dictionary containing the parameters:\n\n"
      ]
    },
    {
      "cell_type": "code",
      "execution_count": null,
      "metadata": {
        "collapsed": false
      },
      "outputs": [],
      "source": [
        "other_params = ss.get_default_params('herdingspikes')\nother_params['detect_threshold'] = 5\n\n# parameters set by params dictionary\nsorting_HS_2 = ss.run_herdingspikes(recording=recording_preprocessed, output_folder=\"redringspikes_output2\",\n                                    **other_params)\nprint(sorting_HS_2)"
      ]
    },
    {
      "cell_type": "markdown",
      "metadata": {},
      "source": [
        "Let's run tridesclous as well, with default parameters:\n\n"
      ]
    },
    {
      "cell_type": "code",
      "execution_count": null,
      "metadata": {
        "collapsed": false
      },
      "outputs": [],
      "source": [
        "sorting_TDC = ss.run_tridesclous(recording=recording_preprocessed)"
      ]
    },
    {
      "cell_type": "markdown",
      "metadata": {},
      "source": [
        "The :code:`sorting_HS` and :code:`sorting_TDC` are :py:class:`~spikeinterface.core.BaseSorting`\nobjects. We can print the units found using:\n\n"
      ]
    },
    {
      "cell_type": "code",
      "execution_count": null,
      "metadata": {
        "collapsed": false
      },
      "outputs": [],
      "source": [
        "print('Units found by herdingspikes:', sorting_HS.get_unit_ids())\nprint('Units found by tridesclous:', sorting_TDC.get_unit_ids())"
      ]
    },
    {
      "cell_type": "markdown",
      "metadata": {},
      "source": [
        "SpikeInterface provides a efficient way to extractor waveform snippets from paired recording/sorting objects.\nThe :py:class:`~spikeinterface.core.WaveformExtractor` class samples some spikes (:code:`max_spikes_per_unit=500`)\nfor each cluster and stores them on disk. These waveforms per cluster are helpful to compute the average waveform,\nor \"template\", for each unit and then to compute, for example, quality metrics.\n\n"
      ]
    },
    {
      "cell_type": "code",
      "execution_count": null,
      "metadata": {
        "collapsed": false
      },
      "outputs": [],
      "source": [
        "we_TDC = si.WaveformExtractor.create(recording_preprocessed, sorting_TDC, 'waveforms', remove_if_exists=True)\nwe_TDC.set_params(ms_before=3., ms_after=4., max_spikes_per_unit=500)\nwe_TDC.run_extract_waveforms(n_jobs=-1, chunk_size=30000)\nprint(we_TDC)\n\nunit_id0 = sorting_TDC.unit_ids[0]\nwavefroms = we_TDC.get_waveforms(unit_id0)\nprint(wavefroms.shape)\n\ntemplate = we_TDC.get_template(unit_id0)\nprint(template.shape)"
      ]
    },
    {
      "cell_type": "markdown",
      "metadata": {},
      "source": [
        "Once we have the  `WaveformExtractor` object\nwe can post-process, validate, and curate the results. With\nthe :py:mod:`spikeinterface.postprocessing` submodule, one can, for example,\nget waveforms, templates, maximum channels, PCA scores, or export the data\nto Phy. [Phy](https://github.com/cortex-lab/phy) is a GUI for manual\ncuration of the spike sorting output. To export to phy you can run:\n\n"
      ]
    },
    {
      "cell_type": "code",
      "execution_count": null,
      "metadata": {
        "collapsed": false
      },
      "outputs": [],
      "source": [
        "from spikeinterface.exporters import export_to_phy\n\nexport_to_phy(we_TDC, './phy_folder_for_TDC',\n              compute_pc_features=False, compute_amplitudes=True)"
      ]
    },
    {
      "cell_type": "markdown",
      "metadata": {},
      "source": [
        "Then you can run the template-gui with: :code:`phy template-gui phy/params.py`\nand manually curate the results.\n\n"
      ]
    },
    {
      "cell_type": "markdown",
      "metadata": {},
      "source": [
        "Quality metrics for the spike sorting output are very important to asses the spike sorting performance.\nThe :py:mod:`spikeinterface.qualitymetrics` module implements several quality metrics\nto assess the goodness of sorted units. Among those, for example,\nare signal-to-noise ratio, ISI violation ratio, isolation distance, and many more.\nTheses metrics are built on top of WaveformExtractor class and return a dictionary with the unit ids as keys:\n\n"
      ]
    },
    {
      "cell_type": "code",
      "execution_count": null,
      "metadata": {
        "collapsed": false
      },
      "outputs": [],
      "source": [
        "snrs = si.compute_snrs(we_TDC)\nprint(snrs)\nsi_violations_ratio, isi_violations_rate, isi_violations_count = si.compute_isi_violations(we_TDC, isi_threshold_ms=1.5)\nprint(si_violations_ratio)\nprint(isi_violations_rate)\nprint(isi_violations_count)"
      ]
    },
    {
      "cell_type": "markdown",
      "metadata": {},
      "source": [
        "All theses quality metrics can be computed in one shot and returned as\na :code:`pandas.Dataframe`\n\n"
      ]
    },
    {
      "cell_type": "code",
      "execution_count": null,
      "metadata": {
        "collapsed": false
      },
      "outputs": [],
      "source": [
        "metrics = si.compute_quality_metrics(we_TDC, metric_names=['snr', 'isi_violation', 'amplitude_cutoff'])\nprint(metrics)"
      ]
    },
    {
      "cell_type": "markdown",
      "metadata": {},
      "source": [
        "Quality metrics can be also used to automatically curate the spike sorting\noutput. For example, you can select sorted units with a SNR above a\ncertain threshold:\n\n"
      ]
    },
    {
      "cell_type": "code",
      "execution_count": null,
      "metadata": {
        "collapsed": false
      },
      "outputs": [],
      "source": [
        "keep_mask = (metrics['snr'] > 7.5) & (metrics['isi_violations_rate'] < 0.01)\nprint(keep_mask)\n\nkeep_unit_ids = keep_mask[keep_mask].index.values\nprint(keep_unit_ids)\n\ncurated_sorting = sorting_TDC.select_units(keep_unit_ids)\nprint(curated_sorting)"
      ]
    },
    {
      "cell_type": "markdown",
      "metadata": {},
      "source": [
        "The final part of this tutorial deals with comparing spike sorting outputs.\nWe can either (1) compare the spike sorting results with the ground-truth\nsorting :code:`sorting_true`, (2) compare the output of two (HerdingSpikes\nand Tridesclous), or (3) compare the output of multiple sorters:\n\n"
      ]
    },
    {
      "cell_type": "code",
      "execution_count": null,
      "metadata": {
        "collapsed": false
      },
      "outputs": [],
      "source": [
        "comp_gt_TDC = sc.compare_sorter_to_ground_truth(gt_sorting=sorting_true, tested_sorting=sorting_TDC)\ncomp_TDC_HS = sc.compare_two_sorters(sorting1=sorting_TDC, sorting2=sorting_HS)\ncomp_multi = sc.compare_multiple_sorters(sorting_list=[sorting_TDC, sorting_HS],\n                                         name_list=['tdc', 'hs'])"
      ]
    },
    {
      "cell_type": "markdown",
      "metadata": {},
      "source": [
        "When comparing with a ground-truth sorting extractor (1), you can get the sorting performance and plot a confusion\nmatrix\n\n"
      ]
    },
    {
      "cell_type": "code",
      "execution_count": null,
      "metadata": {
        "collapsed": false
      },
      "outputs": [],
      "source": [
        "comp_gt_TDC.get_performance()\nw_conf = sw.plot_confusion_matrix(comp_gt_TDC)\nw_agr = sw.plot_agreement_matrix(comp_gt_TDC)"
      ]
    },
    {
      "cell_type": "markdown",
      "metadata": {},
      "source": [
        "When comparing two sorters (2), we can see the matching of units between sorters.\nUnits which are not matched has -1 as unit id:\n\n"
      ]
    },
    {
      "cell_type": "code",
      "execution_count": null,
      "metadata": {
        "collapsed": false
      },
      "outputs": [],
      "source": [
        "comp_TDC_HS.hungarian_match_12"
      ]
    },
    {
      "cell_type": "markdown",
      "metadata": {},
      "source": [
        "or the reverse:\n\n"
      ]
    },
    {
      "cell_type": "code",
      "execution_count": null,
      "metadata": {
        "collapsed": false
      },
      "outputs": [],
      "source": [
        "comp_TDC_HS.hungarian_match_21"
      ]
    },
    {
      "cell_type": "markdown",
      "metadata": {},
      "source": [
        "When comparing multiple sorters (3), you can extract a :code:`SortingExtractor` object with units in agreement\nbetween sorters. You can also plot a graph showing how the units are matched between the sorters.\n\n"
      ]
    },
    {
      "cell_type": "code",
      "execution_count": null,
      "metadata": {
        "collapsed": false
      },
      "outputs": [],
      "source": [
        "sorting_agreement = comp_multi.get_agreement_sorting(minimum_agreement_count=2)\n\nprint('Units in agreement between Klusta and Mountainsort4:', sorting_agreement.get_unit_ids())\n\nw_multi = sw.plot_multicomp_graph(comp_multi)\n\nplt.show()"
      ]
    }
  ],
  "metadata": {
    "kernelspec": {
      "display_name": "Python 3",
      "language": "python",
      "name": "python3"
    },
    "language_info": {
      "codemirror_mode": {
        "name": "ipython",
        "version": 3
      },
      "file_extension": ".py",
      "mimetype": "text/x-python",
      "name": "python",
      "nbconvert_exporter": "python",
      "pygments_lexer": "ipython3",
      "version": "3.8.13"
    }
  },
  "nbformat": 4,
  "nbformat_minor": 0
}
