{
 "cells": [
  {
   "cell_type": "code",
   "execution_count": 1,
   "id": "62326652-fb78-4838-9bbd-6f29e09793fc",
   "metadata": {
    "tags": []
   },
   "outputs": [],
   "source": [
    "import json\n",
    "from dandi.dandiapi import DandiAPIClient\n",
    "from tqdm.notebook import tqdm"
   ]
  },
  {
   "cell_type": "code",
   "execution_count": 2,
   "id": "3c949acf-7661-41ec-801b-7f7aec844ee0",
   "metadata": {
    "tags": []
   },
   "outputs": [],
   "source": [
    "client = DandiAPIClient()\n",
    "dandisets = list(client.get_dandisets())"
   ]
  },
  {
   "cell_type": "markdown",
   "id": "6a226e74-0f13-40c6-9e8d-9a3eb3fbd3ad",
   "metadata": {
    "tags": []
   },
   "source": [
    "# Identify NWB dandisets\n",
    "Most dandisets hold NWB-formatted data, but DANDI also hold data of other formats.\n",
    "\n",
    "Let's start by filtering down to only the dandisets that contain at least one NWB file.\n",
    "\n",
    "We can do this by querying the metadata of each dandiset, which tells us the data formats within in `raw_metadata[\"assetsSummary\"][\"dataStandard\"]`.\n",
    "\n",
    "If no data has been uploaded to that dandiset, the \"dataStandard\" field is not present.\n",
    "\n",
    "We handle this by using the `.get` method to iterate over an empty list."
   ]
  },
  {
   "cell_type": "code",
   "execution_count": 3,
   "id": "4663d6eb-bf20-4414-85e2-239b19bf7299",
   "metadata": {
    "tags": []
   },
   "outputs": [
    {
     "data": {
      "application/vnd.jupyter.widget-view+json": {
       "model_id": "627d81e109f7429d9d1e502a725c9b36",
       "version_major": 2,
       "version_minor": 0
      },
      "text/plain": [
       "  0%|          | 0/220 [00:00<?, ?it/s]"
      ]
     },
     "metadata": {},
     "output_type": "display_data"
    },
    {
     "name": "stdout",
     "output_type": "stream",
     "text": [
      "There are currently 126 NWB datasets on DANDI!\n"
     ]
    }
   ],
   "source": [
    "nwb_dandisets = []\n",
    "\n",
    "for dandiset in tqdm(dandisets):\n",
    "    raw_metadata = dandiset.get_raw_metadata()\n",
    "\n",
    "    if any(\n",
    "        \"NWB\" in data_standard[\"name\"]\n",
    "        for data_standard in raw_metadata[\"assetsSummary\"].get(\"dataStandard\", [])\n",
    "    ):\n",
    "        nwb_dandisets.append(dandiset)\n",
    "print(f\"There are currently {len(nwb_dandisets)} NWB datasets on DANDI!\")"
   ]
  },
  {
   "cell_type": "markdown",
   "id": "77b3784a-6428-47df-88ff-d028f32366dd",
   "metadata": {
    "tags": []
   },
   "source": [
    "# Filtering dandisets: species\n",
    "Let's use the `nwb_dandisets` list from the previous recipe and see which of them used mice in their study.\n",
    "\n",
    "You can find this information in `raw_metadata[\"assetsSummary\"][\"species\"]`.\n",
    "\n",
    "We'll use the same `.get` trick as above for if no data has been uploaded."
   ]
  },
  {
   "cell_type": "code",
   "execution_count": 4,
   "id": "3a665b84-bfa4-49b4-9251-3468c10484d8",
   "metadata": {
    "tags": []
   },
   "outputs": [
    {
     "data": {
      "application/vnd.jupyter.widget-view+json": {
       "model_id": "336da89e232849db833c3d3762867a8d",
       "version_major": 2,
       "version_minor": 0
      },
      "text/plain": [
       "  0%|          | 0/126 [00:00<?, ?it/s]"
      ]
     },
     "metadata": {},
     "output_type": "display_data"
    },
    {
     "name": "stdout",
     "output_type": "stream",
     "text": [
      "There are currently 61 NWB datasets on DANDI that use mice!\n"
     ]
    }
   ],
   "source": [
    "mouse_nwb_dandisets = []\n",
    "\n",
    "for dandiset in tqdm(nwb_dandisets):\n",
    "    raw_metadata = dandiset.get_raw_metadata()\n",
    "\n",
    "    if any(\n",
    "        \"mouse\" in species[\"name\"]\n",
    "        for species in raw_metadata[\"assetsSummary\"].get(\"species\", [])\n",
    "    ):\n",
    "        mouse_nwb_dandisets.append(dandiset)\n",
    "print(f\"There are currently {len(mouse_nwb_dandisets)} NWB datasets on DANDI that use mice!\")"
   ]
  },
  {
   "cell_type": "markdown",
   "id": "e7962c8a-f93c-4de2-aa9a-bee6516da634",
   "metadata": {
    "tags": []
   },
   "source": [
    "# Filtering by session: species and sex\n",
    "Let's say you have identified a dandiset of interest, \"000005\", and you want to identify all of the sessions on female mice.\n",
    "\n",
    "You can do this by querying asset-level metadata.\n",
    "\n",
    "Assets correspond to individual NWB files, and contain metadata extracted from those files.\n",
    "\n",
    "The metadata of each asset contains a `.wasAttributedTo` attribute, which is a list of `Participant` objects corresponding to the subjects for that session.\n",
    "\n",
    "We do that by first testing that attribute exists (is not `None` - some older dandisets may not have included it) and then checking the value of its `name` parameter."
   ]
  },
  {
   "cell_type": "code",
   "execution_count": 5,
   "id": "e0017ebf-e2b6-4157-a37f-6c32f1b8869b",
   "metadata": {
    "tags": []
   },
   "outputs": [
    {
     "data": {
      "application/vnd.jupyter.widget-view+json": {
       "model_id": "d82ba45ecdb7455ea438ed51570878f6",
       "version_major": 2,
       "version_minor": 0
      },
      "text/plain": [
       "  0%|          | 0/148 [00:00<?, ?it/s]"
      ]
     },
     "metadata": {},
     "output_type": "display_data"
    },
    {
     "name": "stdout",
     "output_type": "stream",
     "text": [
      "Dandiset #5 has 69 out of 148 files that use female mice!\n"
     ]
    }
   ],
   "source": [
    "dandiset = client.get_dandiset(\"000005\")\n",
    "female_mouse_nwb_sessions = []\n",
    "\n",
    "assets = list(dandiset.get_assets())\n",
    "for asset in tqdm(assets):\n",
    "    asset_metadata = asset.get_metadata()\n",
    "    subjects = asset_metadata.wasAttributedTo\n",
    "\n",
    "    if any(\n",
    "        subject.species and \"mouse\" in subject.species.name.lower()\n",
    "        and subject.sex and subject.sex.name == \"Female\"\n",
    "        for subject in subjects\n",
    "    ):\n",
    "        female_mouse_nwb_sessions.append(asset)\n",
    "print(f\"Dandiset #5 has {len(female_mouse_nwb_sessions)} out of {len(assets)} files that use female mice!\")"
   ]
  },
  {
   "cell_type": "code",
   "execution_count": null,
   "id": "0099610d-e61c-4502-93d3-0f5f49198023",
   "metadata": {},
   "outputs": [],
   "source": []
  }
 ],
 "metadata": {
  "kernelspec": {
   "display_name": "Python 3 (ipykernel)",
   "language": "python",
   "name": "python3"
  },
  "language_info": {
   "codemirror_mode": {
    "name": "ipython",
    "version": 3
   },
   "file_extension": ".py",
   "mimetype": "text/x-python",
   "name": "python",
   "nbconvert_exporter": "python",
   "pygments_lexer": "ipython3",
   "version": "3.10.9"
  }
 },
 "nbformat": 4,
 "nbformat_minor": 5
}
