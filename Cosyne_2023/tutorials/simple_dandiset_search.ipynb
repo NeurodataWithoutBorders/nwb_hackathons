{
 "cells": [
  {
   "cell_type": "code",
   "execution_count": 1,
   "id": "62326652-fb78-4838-9bbd-6f29e09793fc",
   "metadata": {
    "tags": []
   },
   "outputs": [],
   "source": [
    "import json\n",
    "from dandi.dandiapi import DandiAPIClient\n",
    "from tqdm.notebook import tqdm"
   ]
  },
  {
   "cell_type": "code",
   "execution_count": 2,
   "id": "3c949acf-7661-41ec-801b-7f7aec844ee0",
   "metadata": {
    "tags": []
   },
   "outputs": [],
   "source": [
    "client = DandiAPIClient()\n",
    "dandisets = list(client.get_dandisets())"
   ]
  },
  {
   "cell_type": "markdown",
   "id": "6a226e74-0f13-40c6-9e8d-9a3eb3fbd3ad",
   "metadata": {
    "tags": []
   },
   "source": [
    "# Identify NWB dandisets\n",
    "Most dandisets hold NWB-formatted data, but DANDI also hold data of other formats.\n",
    "\n",
    "Let's start by filtering down to only the dandisets that contain at least one NWB file.\n",
    "\n",
    "We can do this by querying the metadata of each dandiset, which tells us the data formats within in `raw_metadata[\"assetsSummary\"][\"dataStandard\"]`.\n",
    "\n",
    "If no data has been uploaded to that dandiset, the \"dataStandard\" field is not present.\n",
    "\n",
    "We handle this by using the `.get` method to iterate over an empty list."
   ]
  },
  {
   "cell_type": "code",
   "execution_count": 3,
   "id": "4663d6eb-bf20-4414-85e2-239b19bf7299",
   "metadata": {
    "tags": []
   },
   "outputs": [
    {
     "data": {
      "application/vnd.jupyter.widget-view+json": {
       "model_id": "84b2692aeab840ceb393985ccef4a8a0",
       "version_major": 2,
       "version_minor": 0
      },
      "text/plain": [
       "  0%|          | 0/223 [00:00<?, ?it/s]"
      ]
     },
     "metadata": {},
     "output_type": "display_data"
    },
    {
     "name": "stdout",
     "output_type": "stream",
     "text": [
      "There are currently 128 NWB datasets on DANDI!\n"
     ]
    }
   ],
   "source": [
    "nwb_dandisets = []\n",
    "\n",
    "for dandiset in tqdm(dandisets):\n",
    "    raw_metadata = dandiset.get_raw_metadata()\n",
    "\n",
    "    if any(\n",
    "        \"NWB\" in data_standard[\"name\"]\n",
    "        for data_standard in raw_metadata[\"assetsSummary\"].get(\"dataStandard\", [])\n",
    "    ):\n",
    "        nwb_dandisets.append(dandiset)\n",
    "print(f\"There are currently {len(nwb_dandisets)} NWB datasets on DANDI!\")"
   ]
  },
  {
   "cell_type": "markdown",
   "id": "77b3784a-6428-47df-88ff-d028f32366dd",
   "metadata": {
    "tags": []
   },
   "source": [
    "# Filtering dandisets: species\n",
    "Let's use the `nwb_dandisets` list from the previous recipe and see which of them used mice in their study.\n",
    "\n",
    "You can find this information in `raw_metadata[\"assetsSummary\"][\"species\"]`.\n",
    "\n",
    "We'll use the same `.get` trick as above for if no data has been uploaded."
   ]
  },
  {
   "cell_type": "code",
   "execution_count": 4,
   "id": "3a665b84-bfa4-49b4-9251-3468c10484d8",
   "metadata": {
    "tags": []
   },
   "outputs": [
    {
     "data": {
      "application/vnd.jupyter.widget-view+json": {
       "model_id": "76b02ef48e464580bfb266acc3dc3f2e",
       "version_major": 2,
       "version_minor": 0
      },
      "text/plain": [
       "  0%|          | 0/128 [00:00<?, ?it/s]"
      ]
     },
     "metadata": {},
     "output_type": "display_data"
    },
    {
     "name": "stdout",
     "output_type": "stream",
     "text": [
      "There are currently 61 NWB datasets on DANDI that use mice!\n"
     ]
    }
   ],
   "source": [
    "mouse_nwb_dandisets = []\n",
    "\n",
    "for dandiset in tqdm(nwb_dandisets):\n",
    "    raw_metadata = dandiset.get_raw_metadata()\n",
    "\n",
    "    if any(\n",
    "        \"mouse\" in species[\"name\"]\n",
    "        for species in raw_metadata[\"assetsSummary\"].get(\"species\", [])\n",
    "    ):\n",
    "        mouse_nwb_dandisets.append(dandiset)\n",
    "print(f\"There are currently {len(mouse_nwb_dandisets)} NWB datasets on DANDI that use mice!\")"
   ]
  },
  {
   "cell_type": "markdown",
   "id": "e7962c8a-f93c-4de2-aa9a-bee6516da634",
   "metadata": {
    "tags": []
   },
   "source": [
    "# Filtering by session: species and sex\n",
    "Let's say you have identified a dandiset of interest, \"000005\", and you want to identify all of the sessions on female mice.\n",
    "\n",
    "You can do this by querying asset-level metadata.\n",
    "\n",
    "Assets correspond to individual NWB files, and contain metadata extracted from those files.\n",
    "\n",
    "The metadata of each asset contains a `.wasAttributedTo` attribute, which is a list of `Participant` objects corresponding to the subjects for that session.\n",
    "\n",
    "We do that by first testing that attribute exists (is not `None` - some older dandisets may not have included it) and then checking the value of its `name` parameter."
   ]
  },
  {
   "cell_type": "code",
   "execution_count": 5,
   "id": "e0017ebf-e2b6-4157-a37f-6c32f1b8869b",
   "metadata": {
    "tags": []
   },
   "outputs": [
    {
     "data": {
      "application/vnd.jupyter.widget-view+json": {
       "model_id": "c46396dda930401596aeb7d39841413d",
       "version_major": 2,
       "version_minor": 0
      },
      "text/plain": [
       "  0%|          | 0/148 [00:00<?, ?it/s]"
      ]
     },
     "metadata": {},
     "output_type": "display_data"
    },
    {
     "name": "stdout",
     "output_type": "stream",
     "text": [
      "Dandiset #5 has 69 out of 148 files that use female mice!\n"
     ]
    }
   ],
   "source": [
    "dandiset = client.get_dandiset(\"000005\")\n",
    "female_mouse_nwb_sessions = []\n",
    "\n",
    "assets = list(dandiset.get_assets())\n",
    "for asset in tqdm(assets):\n",
    "    asset_metadata = asset.get_metadata()\n",
    "    subjects = asset_metadata.wasAttributedTo\n",
    "\n",
    "    if any(\n",
    "        subject.species and \"mouse\" in subject.species.name.lower()\n",
    "        and subject.sex and subject.sex.name == \"Female\"\n",
    "        for subject in subjects\n",
    "    ):\n",
    "        female_mouse_nwb_sessions.append(asset)\n",
    "print(f\"Dandiset #5 has {len(female_mouse_nwb_sessions)} out of {len(assets)} files that use female mice!\")"
   ]
  },
  {
   "cell_type": "markdown",
   "id": "9d73c25b-fda3-44b3-8b2b-ae6aebe7caa5",
   "metadata": {
    "tags": []
   },
   "source": [
    "# Going beyond\n",
    "These examples show a few types of queries, but since the metadata structures are quite rich on both the dandiset and asset levels, they enable many complex queries beyond the examples here.\n",
    "\n",
    "These metadata structures are also expanding over time as DANDI becomes more strict about what counts as essential metadata.\n",
    "\n",
    "The `.get_raw_metadata` method of both `client.get_dandiset(...)` and `client.get_dandiset(...).get_assets()` provides a nice view into the available fields.\n",
    "\n",
    "Note: for any attribute, it is recommended to first check that it is not `None` before checking for its value."
   ]
  },
  {
   "cell_type": "code",
   "execution_count": 6,
   "id": "c14ef53c-05fe-4e97-a0ef-20b469782a88",
   "metadata": {
    "tags": []
   },
   "outputs": [
    {
     "name": "stdout",
     "output_type": "stream",
     "text": [
      "{\n",
      "    \"id\": \"DANDI:000003/0.210812.1448\",\n",
      "    \"doi\": \"10.48324/dandi.000003/0.210812.1448\",\n",
      "    \"url\": \"https://dandiarchive.org/dandiset/000003/0.210812.1448\",\n",
      "    \"name\": \"Physiological Properties and Behavioral Correlates of Hippocampal Granule Cells and Mossy Cells\",\n",
      "    \"about\": [\n",
      "        {\n",
      "            \"name\": \"hippocampus\",\n",
      "            \"schemaKey\": \"Anatomy\",\n",
      "            \"identifier\": \"UBERON:0002421\"\n",
      "        }\n",
      "    ],\n",
      "    \"access\": [\n",
      "        {\n",
      "            \"status\": \"dandi:OpenAccess\",\n",
      "            \"schemaKey\": \"AccessRequirements\",\n",
      "            \"contactPoint\": {\n",
      "                \"email\": \"petersen.peter@gmail.com\",\n",
      "                \"schemaKey\": \"ContactPoint\"\n",
      "            }\n",
      "        }\n",
      "    ],\n",
      "    \"license\": [\n",
      "        \"spdx:CC-BY-4.0\"\n",
      "    ],\n",
      "    \"version\": \"0.210812.1448\",\n",
      "    \"@context\": \"https://raw.githubusercontent.com/dandi/schema/master/releases/0.4.4/context.json\",\n",
      "    \"citation\": \"Senzai, Yuta; Fernandez-Ruiz, Antonio; Buzs\\u00e1ki, Gy\\u00f6rgy (2021) Physiological Properties and Behavioral Correlates of Hippocampal Granule Cells and Mossy Cells (Version 0.210812.1448) [Data set]. DANDI archive. https://doi.org/10.48324/dandi.000003/0.210812.1448\",\n",
      "    \"keywords\": [\n",
      "        \"cell types\",\n",
      "        \"current source density\",\n",
      "        \"laminar recordings\",\n",
      "        \"oscillations\",\n",
      "        \"mossy cells\",\n",
      "        \"granule cells\",\n",
      "        \"optogenetics\"\n",
      "    ],\n",
      "    \"protocol\": [],\n",
      "    \"schemaKey\": \"Dandiset\",\n",
      "    \"identifier\": \"DANDI:000003\",\n",
      "    \"repository\": \"https://dandiarchive.org/\",\n",
      "    \"contributor\": [\n",
      "        {\n",
      "            \"name\": \"Senzai, Yuta\",\n",
      "            \"roleName\": [\n",
      "                \"dcite:Author\",\n",
      "                \"dcite:ContactPerson\",\n",
      "                \"dcite:DataCollector\",\n",
      "                \"dcite:FormalAnalysis\"\n",
      "            ],\n",
      "            \"schemaKey\": \"Person\",\n",
      "            \"affiliation\": [],\n",
      "            \"includeInCitation\": true\n",
      "        },\n",
      "        {\n",
      "            \"name\": \"Fernandez-Ruiz, Antonio\",\n",
      "            \"roleName\": [\n",
      "                \"dcite:Author\",\n",
      "                \"dcite:FormalAnalysis\"\n",
      "            ],\n",
      "            \"schemaKey\": \"Person\",\n",
      "            \"identifier\": \"0000-0001-8481-0796\",\n",
      "            \"affiliation\": [],\n",
      "            \"includeInCitation\": true\n",
      "        },\n",
      "        {\n",
      "            \"name\": \"Buzs\\u00e1ki, Gy\\u00f6rgy\",\n",
      "            \"roleName\": [\n",
      "                \"dcite:Author\"\n",
      "            ],\n",
      "            \"schemaKey\": \"Person\",\n",
      "            \"identifier\": \"0000-0002-3100-4800\",\n",
      "            \"affiliation\": [\n",
      "                {\n",
      "                    \"name\": \"New York University Langone Medical Center\",\n",
      "                    \"schemaKey\": \"Affiliation\",\n",
      "                    \"identifier\": \"https://ror.org/005dvqh91\"\n",
      "                }\n",
      "            ],\n",
      "            \"includeInCitation\": true\n",
      "        }\n",
      "    ],\n",
      "    \"description\": \"Data from \\\"Physiological Properties and Behavioral Correlates of Hippocampal Granule Cells and Mossy Cells\\\" Senzai, Buzsaki, Neuron 2017. Electrophysiology recordings of hippocampus during theta maze exploration.\",\n",
      "    \"publishedBy\": {\n",
      "        \"id\": \"urn:uuid:6dfd1ae5-c5ea-443a-ad11-d4ac423261af\",\n",
      "        \"name\": \"DANDI publish\",\n",
      "        \"endDate\": \"2021-08-12T14:48:43.199600\",\n",
      "        \"schemaKey\": \"PublishActivity\",\n",
      "        \"startDate\": \"2021-08-12T14:48:43.199600\",\n",
      "        \"wasAssociatedWith\": [\n",
      "            {\n",
      "                \"id\": \"urn:uuid:53ec67cd-4e87-42f9-9c2c-962b46392963\",\n",
      "                \"name\": \"DANDI API\",\n",
      "                \"version\": \"0.1.0\",\n",
      "                \"schemaKey\": \"Software\",\n",
      "                \"identifier\": \"RRID:SCR_017571\"\n",
      "            }\n",
      "        ]\n",
      "    },\n",
      "    \"studyTarget\": [],\n",
      "    \"assetsSummary\": {\n",
      "        \"species\": [\n",
      "            {\n",
      "                \"name\": \"House mouse\",\n",
      "                \"schemaKey\": \"SpeciesType\",\n",
      "                \"identifier\": \"http://purl.obolibrary.org/obo/NCBITaxon_10090\"\n",
      "            }\n",
      "        ],\n",
      "        \"approach\": [\n",
      "            {\n",
      "                \"name\": \"electrophysiological approach\",\n",
      "                \"schemaKey\": \"ApproachType\"\n",
      "            },\n",
      "            {\n",
      "                \"name\": \"behavioral approach\",\n",
      "                \"schemaKey\": \"ApproachType\"\n",
      "            }\n",
      "        ],\n",
      "        \"schemaKey\": \"AssetsSummary\",\n",
      "        \"dataStandard\": [\n",
      "            {\n",
      "                \"name\": \"Neurodata Without Borders (NWB)\",\n",
      "                \"schemaKey\": \"StandardsType\",\n",
      "                \"identifier\": \"RRID:SCR_015242\"\n",
      "            }\n",
      "        ],\n",
      "        \"numberOfBytes\": 2559248010229,\n",
      "        \"numberOfFiles\": 101,\n",
      "        \"numberOfSubjects\": 16,\n",
      "        \"variableMeasured\": [\n",
      "            \"DecompositionSeries\",\n",
      "            \"LFP\",\n",
      "            \"Units\",\n",
      "            \"Position\",\n",
      "            \"ElectricalSeries\"\n",
      "        ],\n",
      "        \"measurementTechnique\": [\n",
      "            {\n",
      "                \"name\": \"signal filtering technique\",\n",
      "                \"schemaKey\": \"MeasurementTechniqueType\"\n",
      "            },\n",
      "            {\n",
      "                \"name\": \"fourier analysis technique\",\n",
      "                \"schemaKey\": \"MeasurementTechniqueType\"\n",
      "            },\n",
      "            {\n",
      "                \"name\": \"spike sorting technique\",\n",
      "                \"schemaKey\": \"MeasurementTechniqueType\"\n",
      "            },\n",
      "            {\n",
      "                \"name\": \"behavioral technique\",\n",
      "                \"schemaKey\": \"MeasurementTechniqueType\"\n",
      "            },\n",
      "            {\n",
      "                \"name\": \"multi electrode extracellular electrophysiology recording technique\",\n",
      "                \"schemaKey\": \"MeasurementTechniqueType\"\n",
      "            }\n",
      "        ]\n",
      "    },\n",
      "    \"datePublished\": \"2021-08-12T14:48:43.199600\",\n",
      "    \"schemaVersion\": \"0.4.4\",\n",
      "    \"ethicsApproval\": [],\n",
      "    \"wasGeneratedBy\": [],\n",
      "    \"relatedResource\": [\n",
      "        {\n",
      "            \"url\": \"https://doi.org/10.1016/j.neuron.2016.12.011\",\n",
      "            \"relation\": \"dcite:IsDescribedBy\",\n",
      "            \"schemaKey\": \"Resource\",\n",
      "            \"identifier\": \"doi:10.1016/j.neuron.2016.12.011\"\n",
      "        }\n",
      "    ],\n",
      "    \"manifestLocation\": [\n",
      "        \"https://dandiarchive.s3.amazonaws.com/dandisets/000003/0.210812.1448/assets.yaml\"\n",
      "    ]\n",
      "}\n"
     ]
    }
   ],
   "source": [
    "print(json.dumps(dandisets[0].get_raw_metadata(), indent=4))"
   ]
  },
  {
   "cell_type": "code",
   "execution_count": null,
   "id": "c65543d5-2950-4537-9594-d9141a217b8d",
   "metadata": {},
   "outputs": [],
   "source": []
  }
 ],
 "metadata": {
  "kernelspec": {
   "display_name": "Python 3 (ipykernel)",
   "language": "python",
   "name": "python3"
  },
  "language_info": {
   "codemirror_mode": {
    "name": "ipython",
    "version": 3
   },
   "file_extension": ".py",
   "mimetype": "text/x-python",
   "name": "python",
   "nbconvert_exporter": "python",
   "pygments_lexer": "ipython3",
   "version": "3.10.9"
  }
 },
 "nbformat": 4,
 "nbformat_minor": 5
}
