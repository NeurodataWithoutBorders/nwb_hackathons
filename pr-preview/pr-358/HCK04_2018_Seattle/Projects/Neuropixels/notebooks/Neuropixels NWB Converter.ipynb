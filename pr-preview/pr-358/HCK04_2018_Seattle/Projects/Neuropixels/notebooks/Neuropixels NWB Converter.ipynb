{
 "cells": [
  {
   "cell_type": "markdown",
   "metadata": {},
   "source": [
    "## Converting NWB 1.0 files to NWB 1.2\n",
    "\n",
    "Tested with Python 2.7.11"
   ]
  },
  {
   "cell_type": "code",
   "execution_count": 1,
   "metadata": {
    "collapsed": false
   },
   "outputs": [
    {
     "name": "stderr",
     "output_type": "stream",
     "text": [
      "/Users/xiaoxuanj/anaconda/envs/py36/lib/python3.6/site-packages/h5py/__init__.py:36: FutureWarning: Conversion of the second argument of issubdtype from `float` to `np.floating` is deprecated. In future, it will be treated as `np.float64 == np.dtype(float).type`.\n",
      "  from ._conv import register_converters as _register_converters\n"
     ]
    }
   ],
   "source": [
    "from pynwb import NWBFile\n",
    "from datetime import datetime"
   ]
  },
  {
   "cell_type": "code",
   "execution_count": 75,
   "metadata": {
    "collapsed": true
   },
   "outputs": [],
   "source": [
    "import h5py as h5\n",
    "import numpy as np"
   ]
  },
  {
   "cell_type": "code",
   "execution_count": 6,
   "metadata": {
    "collapsed": true
   },
   "outputs": [],
   "source": [
    "nwb1_file = 'mouse366119_probe_surf.nwb'\n",
    "nwb1 = h5.File(nwb1_file)"
   ]
  },
  {
   "cell_type": "code",
   "execution_count": 166,
   "metadata": {
    "collapsed": false
   },
   "outputs": [
    {
     "ename": "AttributeError",
     "evalue": "'module' object has no attribute 'version'",
     "output_type": "error",
     "traceback": [
      "\u001b[0;31m---------------------------------------------------------------------------\u001b[0m",
      "\u001b[0;31mAttributeError\u001b[0m                            Traceback (most recent call last)",
      "\u001b[0;32m<ipython-input-166-264a78780b8f>\u001b[0m in \u001b[0;36m<module>\u001b[0;34m()\u001b[0m\n\u001b[0;32m----> 1\u001b[0;31m \u001b[0mpynwb\u001b[0m\u001b[0;34m.\u001b[0m\u001b[0mversion\u001b[0m\u001b[0;34m\u001b[0m\u001b[0m\n\u001b[0m",
      "\u001b[0;31mAttributeError\u001b[0m: 'module' object has no attribute 'version'"
     ]
    }
   ],
   "source": []
  },
  {
   "cell_type": "code",
   "execution_count": 17,
   "metadata": {
    "collapsed": false
   },
   "outputs": [
    {
     "data": {
      "text/plain": [
       "'experimenter'"
      ]
     },
     "execution_count": 17,
     "metadata": {},
     "output_type": "execute_result"
    }
   ],
   "source": [
    "nwb1['general']['experimenter'].value"
   ]
  },
  {
   "cell_type": "code",
   "execution_count": 1,
   "metadata": {
    "collapsed": true
   },
   "outputs": [],
   "source": [
    "import json\n",
    "fname = '/Users/Josh/Data/mouse366119/probeE/experiment2/recording2/structure.oebin'"
   ]
  },
  {
   "cell_type": "code",
   "execution_count": 3,
   "metadata": {
    "collapsed": false
   },
   "outputs": [],
   "source": [
    "info = json.load(open(fname))"
   ]
  },
  {
   "cell_type": "code",
   "execution_count": 14,
   "metadata": {
    "collapsed": false
   },
   "outputs": [
    {
     "data": {
      "text/plain": [
       "30000"
      ]
     },
     "execution_count": 14,
     "metadata": {},
     "output_type": "execute_result"
    }
   ],
   "source": [
    "info['continuous'][0]['sample_rate']"
   ]
  },
  {
   "cell_type": "code",
   "execution_count": 35,
   "metadata": {
    "collapsed": false
   },
   "outputs": [
    {
     "data": {
      "text/plain": [
       "'subject_id'"
      ]
     },
     "execution_count": 35,
     "metadata": {},
     "output_type": "execute_result"
    }
   ],
   "source": [
    "nwb1['general']['subject']['subject_id'].value"
   ]
  },
  {
   "cell_type": "code",
   "execution_count": 119,
   "metadata": {
    "collapsed": true
   },
   "outputs": [],
   "source": [
    "nwb2 = NWBFile('NWB 1.0 > NWB 1.2 converter',        # source\n",
    "                  nwb1['session_description'].value, # session description\n",
    "                  nwb1['identifier'].value,          # identifier\n",
    "                  nwb1['session_start_time'].value,  # date\n",
    "                  experimenter = nwb1['general']['experimenter'].value,\n",
    "                  lab = nwb1['general']['lab'].value,\n",
    "                  institution = nwb1['general']['lab'].value,\n",
    "                  experiment_description = nwb1['general']['experiment_description'].value,\n",
    "                  session_id='SESSION_ID')"
   ]
  },
  {
   "cell_type": "code",
   "execution_count": 82,
   "metadata": {
    "collapsed": false
   },
   "outputs": [
    {
     "data": {
      "text/plain": [
       "'1.2.0'"
      ]
     },
     "execution_count": 82,
     "metadata": {},
     "output_type": "execute_result"
    }
   ],
   "source": [
    "nwb2.nwb_version"
   ]
  },
  {
   "cell_type": "code",
   "execution_count": 120,
   "metadata": {
    "collapsed": true
   },
   "outputs": [],
   "source": [
    "device = nwb2.create_device(name='Neuropixels Prototype Rig', source=\"a source\")"
   ]
  },
  {
   "cell_type": "code",
   "execution_count": 71,
   "metadata": {
    "collapsed": true
   },
   "outputs": [],
   "source": [
    "probes = [p for p in nwb1['processing'].keys() if p[:5] == 'probe']"
   ]
  },
  {
   "cell_type": "code",
   "execution_count": 72,
   "metadata": {
    "collapsed": false
   },
   "outputs": [
    {
     "data": {
      "text/plain": [
       "[u'probeA', u'probeB', u'probeC', u'probeD', u'probeE', u'probeF']"
      ]
     },
     "execution_count": 72,
     "metadata": {},
     "output_type": "execute_result"
    }
   ],
   "source": [
    "probes"
   ]
  },
  {
   "cell_type": "code",
   "execution_count": 73,
   "metadata": {
    "collapsed": true
   },
   "outputs": [],
   "source": [
    "locations = {'probeA' : 'AM',\n",
    "             'probeB' : 'PM',\n",
    "             'probeC' : 'V1',\n",
    "             'probeD' : 'LM',\n",
    "             'probeE' : 'AL',\n",
    "             'probeF' : 'RL'}\n",
    "\n",
    "xlocs = [16, 48, 0, 32]"
   ]
  },
  {
   "cell_type": "code",
   "execution_count": 121,
   "metadata": {
    "collapsed": true
   },
   "outputs": [],
   "source": [
    "for probe in probes:\n",
    "\n",
    "    electrode_name = probe\n",
    "    source = \"Neuropixels Probe\"\n",
    "    description = \"Phase 3a\"\n",
    "    location = locations[probe]\n",
    "\n",
    "    electrode_group = nwb2.create_electrode_group(electrode_name,\n",
    "                                                 source=source,\n",
    "                                                 description=description,\n",
    "                                                 location=location,\n",
    "                                                 device=device)\n",
    "    \n",
    "    for idx in range(0,384):\n",
    "        nwb2.add_electrode(idx,\n",
    "                          x=float(xlocs[idx % 4]), y=float(idx/2*20), z=np.nan,\n",
    "                          imp=np.nan,\n",
    "                          location='unknown', filtering='300 Hz highpass',\n",
    "                          description='channel %s' % idx, group=electrode_group)"
   ]
  },
  {
   "cell_type": "code",
   "execution_count": 118,
   "metadata": {
    "collapsed": true
   },
   "outputs": [],
   "source": [
    "del nwb2"
   ]
  },
  {
   "cell_type": "code",
   "execution_count": 122,
   "metadata": {
    "collapsed": true
   },
   "outputs": [],
   "source": [
    "from pynwb.ecephys import Clustering\n",
    "\n",
    "module = nwb2.create_processing_module('ecephys', # name\n",
    "                                       'ecephys', #source\n",
    "                                        'Clustering module' # description\n",
    "                                      )\n",
    "\n",
    "for probe in probes:\n",
    "    \n",
    "    clustering = Clustering(probe, # source\n",
    "                                   'Kilosort outputs', # description\n",
    "                                   nwb1['processing'][probe]['Clustering']['num'].value, # cluster ID\n",
    "                                   nwb1['processing'][probe]['Clustering']['peak_over_rms'].value, #peak over RMS\n",
    "                                   nwb1['processing'][probe]['Clustering']['times'].value, # times\n",
    "                                   probe + '_clustering') # name\n",
    "    \n",
    "    module.add_data_interface(clustering)                               \n"
   ]
  },
  {
   "cell_type": "code",
   "execution_count": 90,
   "metadata": {
    "collapsed": false
   },
   "outputs": [
    {
     "data": {
      "text/plain": [
       "[u'cluster_nums', u'num', u'peak_over_rms', u'times']"
      ]
     },
     "execution_count": 90,
     "metadata": {},
     "output_type": "execute_result"
    }
   ],
   "source": [
    "nwb1['processing']['probeA']['Clustering'].keys()"
   ]
  },
  {
   "cell_type": "code",
   "execution_count": 137,
   "metadata": {
    "collapsed": false
   },
   "outputs": [
    {
     "data": {
      "text/plain": [
       "array([   73.07599952,    76.09473792,    76.3832384 , ...,  4866.47181501,\n",
       "        4870.83655567,  4888.74231907])"
      ]
     },
     "execution_count": 137,
     "metadata": {},
     "output_type": "execute_result"
    }
   ],
   "source": [
    "nwb2.modules['ecephys'].containers[0].times"
   ]
  },
  {
   "cell_type": "code",
   "execution_count": 117,
   "metadata": {
    "collapsed": false
   },
   "outputs": [
    {
     "data": {
      "text/plain": [
       "(<pynwb.ecephys.Clustering at 0x10a07ced0>,\n",
       " <pynwb.ecephys.Clustering at 0x10a07cc90>,\n",
       " <pynwb.ecephys.Clustering at 0x10a01c290>,\n",
       " <pynwb.ecephys.Clustering at 0x10a01c390>,\n",
       " <pynwb.ecephys.Clustering at 0x10a01c810>,\n",
       " <pynwb.ecephys.Clustering at 0x10a01c650>)"
      ]
     },
     "execution_count": 117,
     "metadata": {},
     "output_type": "execute_result"
    }
   ],
   "source": [
    "module.containers"
   ]
  },
  {
   "cell_type": "code",
   "execution_count": 175,
   "metadata": {
    "collapsed": false
   },
   "outputs": [
    {
     "data": {
      "text/plain": [
       "array([ 1392.71284,  1394.71397,  1396.71513,  1398.71745,  1400.71927,\n",
       "        1402.72063,  1404.72067,  1406.72426,  1408.72514,  1410.72776,\n",
       "        1412.72848,  1414.73106,  1416.7323 ,  1418.73349,  1420.73517,\n",
       "        1422.73627,  1424.73767,  1426.73944,  1428.74182,  1430.74416,\n",
       "        1432.74565,  1434.74783,  1436.74938,  1438.75117,  1440.75262,\n",
       "        1442.75366,  1444.75592,  1446.75701,  1448.75875,  1450.76054,\n",
       "        1452.76286,  1454.76367,  1456.76614,  1458.76803,  1460.76905,\n",
       "        1462.76986,  1464.77264,  1466.77313,  1468.77473,  1470.77594,\n",
       "        1472.77921,  1474.78063,  1476.78326,  1478.78413,  1480.7864 ,\n",
       "        1482.78791,  1484.78983,  1486.79067,  1488.79257,  1490.79489,\n",
       "        1492.79646,  1494.79823,  1496.79923,  1498.80087,  1500.80345,\n",
       "        1502.80511,  1504.80658,  1506.80845,  1508.80992,  1510.81093,\n",
       "        1512.81318,  1514.81525,  1516.81606,  1518.81852,  1520.81999,\n",
       "        1522.82111,  1524.82267,  1526.82446,  1528.82675,  1530.82689,\n",
       "        1532.82841,  1534.83009,  1536.83186,  1538.83317,  1540.83482,\n",
       "        1542.83825,  1544.83975,  1546.84093,  1548.84343,  1550.84545,\n",
       "        1552.8461 ,  1554.84761,  1556.84975,  1558.85142,  1560.85379,\n",
       "        1562.85464,  1564.85694,  1566.85804,  1568.8607 ,  1570.86134,\n",
       "        1572.86409,  1574.86566,  1576.86646,  1578.86838,  1580.8693 ,\n",
       "        1582.87168,  1584.87371,  1586.87579,  1588.87751,  1590.87786])"
      ]
     },
     "execution_count": 175,
     "metadata": {},
     "output_type": "execute_result"
    }
   ],
   "source": [
    "nwb1['stimulus']['presentation']['flash_250ms_1']['timestamps'].value[:,0]"
   ]
  },
  {
   "cell_type": "code",
   "execution_count": 194,
   "metadata": {
    "collapsed": false
   },
   "outputs": [
    {
     "data": {
      "text/plain": [
       "<HDF5 dataset \"feature_units\": shape (6,), type \"|S9\">"
      ]
     },
     "execution_count": 194,
     "metadata": {},
     "output_type": "execute_result"
    }
   ],
   "source": [
    "nwb1['stimulus']['presentation']['perceptual_grouping02_2']['feature_units']"
   ]
  },
  {
   "cell_type": "code",
   "execution_count": 195,
   "metadata": {
    "collapsed": true
   },
   "outputs": [],
   "source": [
    "from pynwb.misc import AbstractFeatureSeries\n",
    "\n",
    "module = nwb2.create_processing_module('stimulus', # name\n",
    "                                       'stimulus', #source\n",
    "                                        'stimulus info' # description\n",
    "                                      )\n",
    "\n",
    "for stimulus in nwb1['stimulus']['presentation'].keys():\n",
    "    \n",
    "    afs = AbstractFeatureSeries(stimulus, # name\n",
    "                          stimulus, # source\n",
    "                          nwb1['stimulus']['presentation'][stimulus]['feature_units'].value, # units\n",
    "                          nwb1['stimulus']['presentation'][stimulus]['features'].value, # features\n",
    "                          data = nwb1['stimulus']['presentation'][stimulus]['data'].value, # data\n",
    "                          timestamps = nwb1['stimulus']['presentation'][stimulus]['timestamps'].value)\n",
    "\n",
    "    module.add_data_interface(afs)"
   ]
  },
  {
   "cell_type": "code",
   "execution_count": null,
   "metadata": {
    "collapsed": true
   },
   "outputs": [],
   "source": []
  }
 ],
 "metadata": {
  "kernelspec": {
   "display_name": "Python 2",
   "language": "python",
   "name": "python2"
  },
  "language_info": {
   "codemirror_mode": {
    "name": "ipython",
    "version": 2
   },
   "file_extension": ".py",
   "mimetype": "text/x-python",
   "name": "python",
   "nbconvert_exporter": "python",
   "pygments_lexer": "ipython2",
   "version": "2.7.11"
  }
 },
 "nbformat": 4,
 "nbformat_minor": 1
}
