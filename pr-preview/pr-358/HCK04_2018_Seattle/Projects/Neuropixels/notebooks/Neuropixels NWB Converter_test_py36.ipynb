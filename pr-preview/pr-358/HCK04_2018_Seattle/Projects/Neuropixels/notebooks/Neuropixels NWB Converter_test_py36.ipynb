{
 "cells": [
  {
   "cell_type": "code",
   "execution_count": 4,
   "metadata": {},
   "outputs": [],
   "source": [
    "from pynwb import NWBFile\n",
    "from datetime import datetime"
   ]
  },
  {
   "cell_type": "code",
   "execution_count": 5,
   "metadata": {},
   "outputs": [],
   "source": [
    "import h5py as h5\n",
    "import numpy as np"
   ]
  },
  {
   "cell_type": "code",
   "execution_count": 6,
   "metadata": {},
   "outputs": [],
   "source": [
    "nwb1_file = '/Users/xiaoxuanj/work/work_allen/Ephys/mouse366119/mouse366119_probe_surf.nwb'\n",
    "nwb1 = h5.File(nwb1_file)"
   ]
  },
  {
   "cell_type": "code",
   "execution_count": 4,
   "metadata": {},
   "outputs": [
    {
     "data": {
      "text/plain": [
       "['probeA', 'probeB', 'probeC', 'probeD', 'probeE', 'probeF']"
      ]
     },
     "execution_count": 4,
     "metadata": {},
     "output_type": "execute_result"
    }
   ],
   "source": [
    "list(nwb1['processing'])"
   ]
  },
  {
   "cell_type": "code",
   "execution_count": 5,
   "metadata": {},
   "outputs": [
    {
     "data": {
      "text/plain": [
       "['cluster_nums', 'num', 'peak_over_rms', 'times']"
      ]
     },
     "execution_count": 5,
     "metadata": {},
     "output_type": "execute_result"
    }
   ],
   "source": [
    "list(nwb1['processing']['probeA']['Clustering'])"
   ]
  },
  {
   "cell_type": "code",
   "execution_count": 6,
   "metadata": {},
   "outputs": [
    {
     "data": {
      "text/plain": [
       "b'experimenter'"
      ]
     },
     "execution_count": 6,
     "metadata": {},
     "output_type": "execute_result"
    }
   ],
   "source": [
    "nwb1['general']['experimenter'].value"
   ]
  },
  {
   "cell_type": "code",
   "execution_count": 7,
   "metadata": {},
   "outputs": [
    {
     "data": {
      "text/plain": [
       "b'subject_id'"
      ]
     },
     "execution_count": 7,
     "metadata": {},
     "output_type": "execute_result"
    }
   ],
   "source": [
    "nwb1['general']['subject']['subject_id'].value"
   ]
  },
  {
   "cell_type": "code",
   "execution_count": 8,
   "metadata": {},
   "outputs": [
    {
     "data": {
      "text/plain": [
       "'with visual stimuli; awake; sorted; unhealthy brain; tail touching grounding; probe C has sync recorded'"
      ]
     },
     "execution_count": 8,
     "metadata": {},
     "output_type": "execute_result"
    }
   ],
   "source": [
    "nwb1['general']['experiment_description'].value.astype(str)"
   ]
  },
  {
   "cell_type": "code",
   "execution_count": 9,
   "metadata": {},
   "outputs": [
    {
     "data": {
      "text/plain": [
       "\"b'366119; NWB-1.0.5; Wed Mar 21 15:17:53 2018'\""
      ]
     },
     "execution_count": 9,
     "metadata": {},
     "output_type": "execute_result"
    }
   ],
   "source": [
    "str(nwb1['identifier'].value)"
   ]
  },
  {
   "cell_type": "markdown",
   "metadata": {},
   "source": [
    "# create nwb instance and add info to general"
   ]
  },
  {
   "cell_type": "code",
   "execution_count": 10,
   "metadata": {},
   "outputs": [],
   "source": [
    "nwb2 = NWBFile('NWB 1.0 > NWB 2.0 converter',        # source\n",
    "                  str(nwb1['session_description'].value), # session description\n",
    "                  str(nwb1['identifier'].value),          # identifier\n",
    "                  str(nwb1['session_start_time'].value.astype(str)),  # date\n",
    "                  experimenter = nwb1['general']['experimenter'].value.astype(str),\n",
    "                  lab = nwb1['general']['lab'].value.astype(str),\n",
    "                  institution = nwb1['general']['lab'].value.astype(str),\n",
    "                  experiment_description = nwb1['general']['experiment_description'].value.astype(str),\n",
    "                  session_id='SESSION_ID')"
   ]
  },
  {
   "cell_type": "code",
   "execution_count": 11,
   "metadata": {},
   "outputs": [],
   "source": [
    "device = nwb2.create_device(name='Neuropixels Prototype Rig', source=\"a source\")"
   ]
  },
  {
   "cell_type": "code",
   "execution_count": 12,
   "metadata": {},
   "outputs": [],
   "source": [
    "probes = [p for p in nwb1['processing'].keys() if p[:5] == 'probe']"
   ]
  },
  {
   "cell_type": "code",
   "execution_count": 13,
   "metadata": {},
   "outputs": [
    {
     "data": {
      "text/plain": [
       "['probeA', 'probeB', 'probeC', 'probeD', 'probeE', 'probeF']"
      ]
     },
     "execution_count": 13,
     "metadata": {},
     "output_type": "execute_result"
    }
   ],
   "source": [
    "probes"
   ]
  },
  {
   "cell_type": "code",
   "execution_count": 14,
   "metadata": {},
   "outputs": [],
   "source": [
    "locations = {'probeA' : 'AM',\n",
    "             'probeB' : 'PM',\n",
    "             'probeC' : 'V1',\n",
    "             'probeD' : 'LM',\n",
    "             'probeE' : 'AL',\n",
    "             'probeF' : 'RL'}\n",
    "\n",
    "xlocs = [16, 48, 0, 32]"
   ]
  },
  {
   "cell_type": "code",
   "execution_count": 15,
   "metadata": {},
   "outputs": [],
   "source": [
    "for probe in probes:\n",
    "\n",
    "    electrode_name = probe\n",
    "    source = \"Neuropixels Probe\"\n",
    "    description = \"Phase 3a\"\n",
    "    location = locations[probe]\n",
    "\n",
    "    electrode_group = nwb2.create_electrode_group(electrode_name,\n",
    "                                                 source=source,\n",
    "                                                 description=description,\n",
    "                                                 location=location,\n",
    "                                                 device=device)\n",
    "    \n",
    "    for idx in range(0,384):\n",
    "        nwb2.add_electrode(idx,\n",
    "                          x=float(xlocs[idx % 4]), y=float(idx/2*20), z=np.nan,\n",
    "                          imp=np.nan,\n",
    "                          location='unknown', filtering='300 Hz highpass',\n",
    "                          description='channel %s' % idx, group=electrode_group)"
   ]
  },
  {
   "cell_type": "code",
   "execution_count": 16,
   "metadata": {},
   "outputs": [
    {
     "data": {
      "text/plain": [
       "['channel',\n",
       " 'snr',\n",
       " 'source',\n",
       " 'template',\n",
       " 'times',\n",
       " 'type',\n",
       " 'unit_description',\n",
       " 'waveform',\n",
       " 'xpos_probe',\n",
       " 'ypos_probe']"
      ]
     },
     "execution_count": 16,
     "metadata": {},
     "output_type": "execute_result"
    }
   ],
   "source": [
    "list(nwb1['processing']['probeA']['UnitTimes']['86'])"
   ]
  },
  {
   "cell_type": "markdown",
   "metadata": {},
   "source": [
    "# add unit times to processing"
   ]
  },
  {
   "cell_type": "code",
   "execution_count": 18,
   "metadata": {},
   "outputs": [],
   "source": [
    "from pynwb.misc import UnitTimes\n",
    "\n",
    "module = nwb2.create_processing_module('ecephys', # name\n",
    "                                       'ecephys', #source\n",
    "                                        'UnitTimes module' # description\n",
    "                                      )\n",
    "for probe in probes:\n",
    "    units = []\n",
    "    spike_times=[]\n",
    "    unittimes = UnitTimes(name=probe, source=source) # name\n",
    "    for unit in list(nwb1['processing'][probe]['UnitTimes']):\n",
    "        if unit!='noise' and unit!= 'unit_list':\n",
    "            unittimes.add_spike_times(int(unit.encode('utf8')), list(nwb1['processing'][probe]['UnitTimes'][unit]['times']))\n",
    "          #  units.append(unit.encode('utf8'))\n",
    "          #  spike_times.append(list(nwb1['processing']['probeA']['UnitTimes'][unit]['times']))\n",
    "            \n",
    "    \n",
    "    #unittimes = UnitTimes(probe, # source\n",
    "    #                      unit_ids=units, #unit_ids\n",
    "    #                      spike_times=spike_times, # list of times for correponding units\n",
    "    #                      spike_times_index = [], #the indices in spike_times that correspond to each unit in unit_ids\n",
    "    #                      name='UnitTimes') # name\n",
    "\n",
    "    module.add_data_interface(unittimes)                               \n"
   ]
  },
  {
   "cell_type": "code",
   "execution_count": 19,
   "metadata": {},
   "outputs": [
    {
     "data": {
      "text/plain": [
       "'probeA'"
      ]
     },
     "execution_count": 19,
     "metadata": {},
     "output_type": "execute_result"
    }
   ],
   "source": [
    "probe"
   ]
  },
  {
   "cell_type": "raw",
   "metadata": {},
   "source": [
    "from pynwb.ecephys import Clustering #deprecate\n",
    "\n",
    "module = nwb2.create_processing_module('cluster', # name\n",
    "                                       'ecephys', #source\n",
    "                                        'Clustering module' # description\n",
    "                                      )\n",
    "\n",
    "for probe in probes:\n",
    "    \n",
    "    clustering = Clustering(probe, # source\n",
    "                                   'Kilosort outputs', # description\n",
    "                                   nwb1['processing'][probe]['Clustering']['num'].value, # cluster ID\n",
    "                                   nwb1['processing'][probe]['Clustering']['peak_over_rms'].value, #peak over RMS\n",
    "                                   nwb1['processing'][probe]['Clustering']['times'].value, # times\n",
    "                                   probe + '_clustering') # name\n",
    "    \n",
    "    module.add_data_interface(clustering)                               \n"
   ]
  },
  {
   "cell_type": "raw",
   "metadata": {},
   "source": [
    "nwb1['processing']['probeA']['Clustering'].keys()"
   ]
  },
  {
   "cell_type": "raw",
   "metadata": {},
   "source": [
    "dir(nwb2.modules['cluster'].containers[0])"
   ]
  },
  {
   "cell_type": "code",
   "execution_count": 21,
   "metadata": {},
   "outputs": [
    {
     "data": {
      "text/plain": [
       "(<pynwb.misc.UnitTimes at 0x108fc8b38>,)"
      ]
     },
     "execution_count": 21,
     "metadata": {},
     "output_type": "execute_result"
    }
   ],
   "source": [
    "module.containers"
   ]
  },
  {
   "cell_type": "markdown",
   "metadata": {},
   "source": [
    "# add stimulus to stimulus group"
   ]
  },
  {
   "cell_type": "code",
   "execution_count": 20,
   "metadata": {},
   "outputs": [],
   "source": [
    "# opto tagging is also here\n",
    "from pynwb.misc import AbstractFeatureSeries\n",
    "\n",
    "for stimulus in nwb1['stimulus']['presentation'].keys():\n",
    "    afs = AbstractFeatureSeries(stimulus, # name\n",
    "                          stimulus, # source\n",
    "                          nwb1['stimulus']['presentation'][stimulus]['feature_units'].value, # units\n",
    "                          nwb1['stimulus']['presentation'][stimulus]['features'].value, # features\n",
    "                          data = nwb1['stimulus']['presentation'][stimulus]['data'].value, # data\n",
    "                          timestamps = nwb1['stimulus']['presentation'][stimulus]['timestamps'].value)\n",
    "    \n",
    "    nwb2.add_stimulus(afs)"
   ]
  },
  {
   "cell_type": "markdown",
   "metadata": {},
   "source": [
    "# add movie to stimulus template"
   ]
  },
  {
   "cell_type": "code",
   "execution_count": 21,
   "metadata": {},
   "outputs": [
    {
     "data": {
      "text/plain": [
       "<pynwb.misc.AbstractFeatureSeries at 0x11249a6a0>"
      ]
     },
     "execution_count": 21,
     "metadata": {},
     "output_type": "execute_result"
    }
   ],
   "source": [
    "from pynwb.misc import AbstractFeatureSeries\n",
    "\n",
    "# add movie\n",
    "# ophys movie\n",
    "moviepath='/Users/xiaoxuanj/work/work_allen/visual_stimuli/movie'\n",
    "\n",
    "stimulus_movie = np.load('/Users/xiaoxuanj/work/work_allen/visual_stimuli/movie/Movie_TOE1.npy')\n",
    "\n",
    "afs = AbstractFeatureSeries(data = stimulus_movie, # name\n",
    "                            source = 'movie',\n",
    "                            features=['time-space-space'],\n",
    "                            feature_units=['luminance'],\n",
    "                            rate = 30.,\n",
    "                            starting_time = 0.,\n",
    "                           name = 'natural_movie_ephys')\n",
    "\n",
    "nwb2.add_stimulus_template(afs)"
   ]
  },
  {
   "cell_type": "markdown",
   "metadata": {},
   "source": [
    "# add running speed"
   ]
  },
  {
   "cell_type": "code",
   "execution_count": null,
   "metadata": {},
   "outputs": [],
   "source": [
    "from pynwb.behavior import BehavioralEpochs\n",
    "\n",
    "running = BehavioralEpochs(source='run', interval_series={}, name='BehavioralEpochs')\n",
    "\n",
    "running.create_interval_series(name='behavior_run', source='behavior_run', data=[], timestamps=[], comments='no comments', \n",
    "                       description='no description', control=None, control_description=None)\n",
    "\n",
    "nwb2.add_interval_series(running)"
   ]
  },
  {
   "cell_type": "code",
   "execution_count": null,
   "metadata": {},
   "outputs": [],
   "source": []
  },
  {
   "cell_type": "markdown",
   "metadata": {},
   "source": [
    "# add image"
   ]
  },
  {
   "cell_type": "code",
   "execution_count": null,
   "metadata": {},
   "outputs": [],
   "source": [
    "def add_image(self, stream, name, fmt, desc, dtype=None):\n",
    "    \"\"\"Add aquisition images: probe map, insersion map, and retinotopic map.\n",
    "       Adds documentation image (or movie) to file. This is stored in /acquisition/images/.\n",
    "\n",
    "        Args:\n",
    "            *stream* (binary) Data stream of image (eg, binary contents of .png image)\n",
    "\n",
    "            *name* (text) Name that image will be stored as\n",
    "\n",
    "            *fmt* (text) Format of the image (eg, \"png\", \"avi\")\n",
    "\n",
    "            *desc* (text) Descriptive text describing the image\n",
    "\n",
    "            *dtype* (text) Optional field specifying the h5py datatype to use to store *stream*\n",
    "\n",
    "        Returns:\n",
    "            *nothing*\n",
    "    \"\"\"\n",
    "\n",
    "    abstract = self.create_reference_image(stream, name, fmt, desc, dtype=None)"
   ]
  },
  {
   "cell_type": "code",
   "execution_count": null,
   "metadata": {},
   "outputs": [],
   "source": []
  },
  {
   "cell_type": "markdown",
   "metadata": {},
   "source": [
    "# add LFP"
   ]
  },
  {
   "cell_type": "code",
   "execution_count": null,
   "metadata": {},
   "outputs": [],
   "source": [
    "def add_lfp(self, data, times=np.array([0]),start_time=0.0,source='iMec',**kwargs):\n",
    "    \"\"\"Add filtered LFP as TimeSeries extension. Array structure: [num time samples][num channels]\n",
    "    Todo: add sampling_rate as abstract.append_??\"\"\"\n",
    "\n",
    "    if 'name' in kwargs.keys():\n",
    "        name = kwargs['name']\n",
    "    else:\n",
    "        name = 'LFP'\n",
    "\n",
    "    abstract = self.create_timeseries(\"ElectricalSeries\",name, \"acquisition\",)\n",
    "\n",
    "    abstract.set_data(data, resolution=1./2500)\n",
    "    abstract.set_source(source)\n",
    "    abstract.set_time(times)\n",
    "    abstract.set_value(\"num_samples\", np.shape(data)[0])\n",
    "    abstract.set_value(\"electrode_idx\", [0,1])\n",
    "    abstract.set_value(\"sampling_rate\", 2500)\n",
    "    abstract.finalize()\n",
    "\n"
   ]
  },
  {
   "cell_type": "code",
   "execution_count": null,
   "metadata": {},
   "outputs": [],
   "source": [
    "from pynwb.ecephys import LFP\n",
    "\n",
    "lfp = LFP(source, electrical_series={}, name='LFP') # name\n",
    "\n",
    "lfp.create_electrical_series(name=probename, source=probename, data, electrodes, resolution=0.0, conversion=1.0, timestamps=None, \n",
    "                         starting_time=None, rate=None, comments='no comments', description='no description', control=None, control_description=None)"
   ]
  },
  {
   "cell_type": "code",
   "execution_count": null,
   "metadata": {},
   "outputs": [],
   "source": [
    "pynwb.ecephys.LFP(source, electrical_series={}, name='LFP')"
   ]
  },
  {
   "cell_type": "markdown",
   "metadata": {},
   "source": [
    "# save file to NWB"
   ]
  },
  {
   "cell_type": "code",
   "execution_count": 23,
   "metadata": {},
   "outputs": [],
   "source": [
    "from pynwb import NWBHDF5IO\n",
    "\n",
    "with NWBHDF5IO('/Users/xiaoxuanj/work/work_allen/Ephys/ecephys_pipeline_test/nwb/probeA_new.nwb', 'w') as io:\n",
    "    io.write(nwb2)"
   ]
  },
  {
   "cell_type": "markdown",
   "metadata": {},
   "source": [
    "# read file with NWB IO"
   ]
  },
  {
   "cell_type": "code",
   "execution_count": 25,
   "metadata": {},
   "outputs": [],
   "source": [
    "io = NWBHDF5IO('/Users/xiaoxuanj/work/work_allen/Ephys/ecephys_pipeline_test/nwb/stimulus_new.nwb', 'r')\n",
    "nwbfile = io.read()"
   ]
  },
  {
   "cell_type": "code",
   "execution_count": 26,
   "metadata": {},
   "outputs": [],
   "source": [
    "stimulus = list(nwbfile.stimulus)"
   ]
  },
  {
   "cell_type": "code",
   "execution_count": 27,
   "metadata": {},
   "outputs": [
    {
     "data": {
      "text/plain": [
       "['flash_250ms_1', 'gabor_20_deg_0', 'perceptual_grouping02_2', 'spontaneous']"
      ]
     },
     "execution_count": 27,
     "metadata": {},
     "output_type": "execute_result"
    }
   ],
   "source": [
    "stimulus"
   ]
  },
  {
   "cell_type": "code",
   "execution_count": 28,
   "metadata": {},
   "outputs": [],
   "source": [
    "movie = nwbfile.get_stimulus_template('natural_movie_ephys').data[:]"
   ]
  },
  {
   "cell_type": "code",
   "execution_count": null,
   "metadata": {},
   "outputs": [],
   "source": []
  }
 ],
 "metadata": {
  "kernelspec": {
   "display_name": "Python 3",
   "language": "python",
   "name": "python3"
  },
  "language_info": {
   "codemirror_mode": {
    "name": "ipython",
    "version": 3
   },
   "file_extension": ".py",
   "mimetype": "text/x-python",
   "name": "python",
   "nbconvert_exporter": "python",
   "pygments_lexer": "ipython3",
   "version": "3.6.4"
  }
 },
 "nbformat": 4,
 "nbformat_minor": 1
}
