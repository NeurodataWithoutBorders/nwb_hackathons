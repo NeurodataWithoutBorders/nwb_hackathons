{
 "cells": [
  {
   "cell_type": "markdown",
   "metadata": {},
   "source": [
    "# SpikeInterface DEMO v0.96 -  COSYNE 2023 - March 2023\n",
    "\n",
    "\n",
    "In this demo, you will use SpikeInterface to analyze a Neuropixels dataset available on DANDI (dataset [sub-npI1_ses-20190413_behavior+ecephys.nwb](https://dandiarchive.org/dandiset/000053/0.210819.0345/files?location=sub-npI1%2F)).\n",
    "\n",
    "The objective of this demo is to show all the functionalities of SpikeInterface on a real-world example."
   ]
  },
  {
   "cell_type": "markdown",
   "metadata": {},
   "source": [
    "# Table of contents\n",
    "\n",
    "* [0. Preparation](#preparation)\n",
    "* [1. Reading recording and sorting](#loading)\n",
    "* [2. Preprocessing](#preprocessing)\n",
    "* [3. Saving and loading SpikeInterface objects](#save-load)\n",
    "* [4. Data compression](#compression)\n",
    "* [5. Extracting waveforms](#waveforms)\n",
    "* [6. Postprocessing](#postprocessing)\n",
    "* [7. Validation and curation](#curation)\n",
    "* [8. Viewers](#viewers)\n",
    "* [9. Spike sorting comparison](#comparison)\n",
    "* [10. Exporters](#exporters)"
   ]
  },
  {
   "cell_type": "markdown",
   "metadata": {},
   "source": [
    "# 0. Preparation <a class=\"anchor\" id=\"preparation\"></a>"
   ]
  },
  {
   "cell_type": "markdown",
   "metadata": {},
   "source": [
    "### Download the ephys data\n",
    "\n",
    "We are going to use a public dataset from the Giocomo's lab publibly available on DANDI: https://dandiarchive.org/dandiset/000053/0.210819.0345\n",
    "\n",
    "The Dandiset contains several recordings and we are going tu use the `sub-npI1/sub-npI1_ses-20190413_behavior+ecephys.nwb`, which contains also the raw electrical series. \n",
    "\n",
    "To download the dataset, install `dandi` and run\n",
    "\n",
    "```\n",
    "dandi download https://api.dandiarchive.org/api/assets/22f70021-de36-44c4-8f29-4998b9ff1123/download/\n",
    "```\n",
    "\n",
    "We assume that the file is downloaded in the local folder with the `sub-npI1_ses-20190413_behavior+ecephys.nwb` name.\n",
    "\n",
    "\n",
    "### Import the modules\n",
    "\n",
    "Let's now import the `spikeinterface` modules that we need:"
   ]
  },
  {
   "cell_type": "code",
   "execution_count": 1,
   "metadata": {},
   "outputs": [],
   "source": [
    "import spikeinterface as si\n",
    "import spikeinterface.extractors as se \n",
    "import spikeinterface.preprocessing as spre\n",
    "import spikeinterface.sorters as ss\n",
    "import spikeinterface.postprocessing as spost\n",
    "import spikeinterface.qualitymetrics as sqm\n",
    "import spikeinterface.comparison as sc\n",
    "import spikeinterface.exporters as sexp\n",
    "import spikeinterface.widgets as sw"
   ]
  },
  {
   "cell_type": "code",
   "execution_count": 2,
   "metadata": {},
   "outputs": [
    {
     "name": "stdout",
     "output_type": "stream",
     "text": [
      "SpikeInterface version: 0.97.0\n"
     ]
    }
   ],
   "source": [
    "print(f\"SpikeInterface version: {si.__version__}\")"
   ]
  },
  {
   "cell_type": "code",
   "execution_count": 3,
   "metadata": {},
   "outputs": [],
   "source": [
    "import matplotlib.pyplot as plt\n",
    "import numpy as np\n",
    "from pathlib import Path\n",
    "\n",
    "from warnings import simplefilter\n",
    "simplefilter(\"ignore\")\n",
    "\n",
    "%matplotlib widget"
   ]
  },
  {
   "cell_type": "markdown",
   "metadata": {},
   "source": [
    "# 1. Reading recording and sorting <a class=\"anchor\" id=\"loading\"></a>"
   ]
  },
  {
   "cell_type": "code",
   "execution_count": 4,
   "metadata": {},
   "outputs": [],
   "source": [
    "base_folder = Path(\".\")\n",
    "nwb_file_path = \"sub-npI1_ses-20190413_behavior+ecephys.nwb\""
   ]
  },
  {
   "cell_type": "code",
   "execution_count": 5,
   "metadata": {},
   "outputs": [],
   "source": [
    "recording_nwb = se.read_nwb_recording(file_path=nwb_file_path)\n",
    "sorting_nwb = se.read_nwb_sorting(file_path=nwb_file_path)"
   ]
  },
  {
   "cell_type": "markdown",
   "metadata": {},
   "source": [
    "The `read_nwb_recording()` function returns a `Recording` (or `RecordingExtractor`) object. We can print it to visualize some of its properties:"
   ]
  },
  {
   "cell_type": "code",
   "execution_count": 6,
   "metadata": {},
   "outputs": [
    {
     "data": {
      "text/plain": [
       "NwbRecordingExtractor: 384 channels - 1 segments - 30.0kHz - 4732.300s\n",
       "  file_path: /Users/codybaker/Downloads/spikeinterface_tutorial/sub-npI1_ses-20190413_behavior+ecephys.nwb"
      ]
     },
     "execution_count": 6,
     "metadata": {},
     "output_type": "execute_result"
    }
   ],
   "source": [
    "recording_nwb"
   ]
  },
  {
   "cell_type": "markdown",
   "metadata": {},
   "source": [
    "The `read_nwb_sorting()` function returns a `Sorting` (or `SortingExtractor`) object. We can print it to visualize some of its properties:"
   ]
  },
  {
   "cell_type": "code",
   "execution_count": 7,
   "metadata": {},
   "outputs": [
    {
     "data": {
      "text/plain": [
       "NwbSortingExtractor: 77 units - 1 segments - 30.0kHz\n",
       "  file_path: /Users/codybaker/Downloads/spikeinterface_tutorial/sub-npI1_ses-20190413_behavior+ecephys.nwb"
      ]
     },
     "execution_count": 7,
     "metadata": {},
     "output_type": "execute_result"
    }
   ],
   "source": [
    "sorting_nwb"
   ]
  },
  {
   "cell_type": "markdown",
   "metadata": {
    "pycharm": {
     "name": "#%% md\n"
    }
   },
   "source": [
    "We can further `annotate` the recording to tell SI that it is not filtered yet. This will prevent further mistakes in the pipieline, such as attempting to extract waveforms from unfiltered data."
   ]
  },
  {
   "cell_type": "code",
   "execution_count": 8,
   "metadata": {},
   "outputs": [],
   "source": [
    "recording_nwb.annotate(is_filtered=False)"
   ]
  },
  {
   "cell_type": "markdown",
   "metadata": {
    "pycharm": {
     "name": "#%% md\n"
    }
   },
   "source": [
    "The `extractor` module allows you to load many file formats used in electrophysiology. \n",
    "\n",
    "The extractors available in SI are all loaded using the [NEO](https://neo.readthedocs.io/en/stable/) python package.\n",
    "\n",
    "We can access the full list of available extractors with:"
   ]
  },
  {
   "cell_type": "code",
   "execution_count": 9,
   "metadata": {},
   "outputs": [
    {
     "data": {
      "text/plain": [
       "{'binary': spikeinterface.core.binaryrecordingextractor.BinaryRecordingExtractor,\n",
       " 'numpy': spikeinterface.core.numpyextractors.NumpyRecording,\n",
       " 'shybrid': spikeinterface.extractors.shybridextractors.SHYBRIDRecordingExtractor,\n",
       " 'mda': spikeinterface.extractors.mdaextractors.MdaRecordingExtractor,\n",
       " 'nwb': spikeinterface.extractors.nwbextractors.NwbRecordingExtractor,\n",
       " 'cbin_ibl': spikeinterface.extractors.cbin_ibl.CompressedBinaryIblExtractor,\n",
       " 'ibl_streaming_recording': spikeinterface.extractors.iblstreamingrecording.IblStreamingRecordingExtractor,\n",
       " 'mcsh5': spikeinterface.extractors.mcsh5extractors.MCSH5RecordingExtractor,\n",
       " 'alphaomega': spikeinterface.extractors.neoextractors.alphaomega.AlphaOmegaRecordingExtractor,\n",
       " 'axona': spikeinterface.extractors.neoextractors.axona.AxonaRecordingExtractor,\n",
       " 'biocam': spikeinterface.extractors.neoextractors.biocam.BiocamRecordingExtractor,\n",
       " 'blackrock': spikeinterface.extractors.neoextractors.blackrock.BlackrockRecordingExtractor,\n",
       " 'ced': spikeinterface.extractors.neoextractors.ced.CedRecordingExtractor,\n",
       " 'edf': spikeinterface.extractors.neoextractors.edf.EDFRecordingExtractor,\n",
       " 'intan': spikeinterface.extractors.neoextractors.intan.IntanRecordingExtractor,\n",
       " 'maxwell': spikeinterface.extractors.neoextractors.maxwell.MaxwellRecordingExtractor,\n",
       " 'mearec': spikeinterface.extractors.neoextractors.mearec.MEArecRecordingExtractor,\n",
       " 'mcsraw': spikeinterface.extractors.neoextractors.mcsraw.MCSRawRecordingExtractor,\n",
       " 'neuralynx': spikeinterface.extractors.neoextractors.neuralynx.NeuralynxRecordingExtractor,\n",
       " 'neuroscope': spikeinterface.extractors.neoextractors.neuroscope.NeuroScopeRecordingExtractor,\n",
       " 'nix': spikeinterface.extractors.neoextractors.nix.NixRecordingExtractor,\n",
       " 'openephys': spikeinterface.extractors.neoextractors.openephys.OpenEphysBinaryRecordingExtractor,\n",
       " 'openephyslegacy': spikeinterface.extractors.neoextractors.openephys.OpenEphysLegacyRecordingExtractor,\n",
       " 'plexon': spikeinterface.extractors.neoextractors.plexon.PlexonRecordingExtractor,\n",
       " 'spike2': spikeinterface.extractors.neoextractors.spike2.Spike2RecordingExtractor,\n",
       " 'spikegadgets': spikeinterface.extractors.neoextractors.spikegadgets.SpikeGadgetsRecordingExtractor,\n",
       " 'spikeglx': spikeinterface.extractors.neoextractors.spikeglx.SpikeGLXRecordingExtractor,\n",
       " 'tdt': spikeinterface.extractors.neoextractors.tdt.TdtRecordingExtractor}"
      ]
     },
     "execution_count": 9,
     "metadata": {},
     "output_type": "execute_result"
    }
   ],
   "source": [
    "se.recording_extractor_full_dict"
   ]
  },
  {
   "cell_type": "markdown",
   "metadata": {},
   "source": [
    "A `RecordingExtractor` object extracts information about channel ids, channel locations (if present), the sampling frequency of the recording, and the extracellular traces (when prompted). The `NwbRecordingExtractor` is designed specifically for NWB files.\n",
    "\n",
    "Here we retrieve information from the recording using the built-in functions from the RecordingExtractor:"
   ]
  },
  {
   "cell_type": "code",
   "execution_count": 10,
   "metadata": {},
   "outputs": [
    {
     "name": "stdout",
     "output_type": "stream",
     "text": [
      "Channel ids: ['AP0' 'AP1' 'AP2' 'AP3' 'AP4' 'AP5' 'AP6' 'AP7' 'AP8' 'AP9' 'AP10' 'AP11'\n",
      " 'AP12' 'AP13' 'AP14' 'AP15' 'AP16' 'AP17' 'AP18' 'AP19' 'AP20' 'AP21'\n",
      " 'AP22' 'AP23' 'AP24' 'AP25' 'AP26' 'AP27' 'AP28' 'AP29' 'AP30' 'AP31'\n",
      " 'AP32' 'AP33' 'AP34' 'AP35' 'AP36' 'AP37' 'AP38' 'AP39' 'AP40' 'AP41'\n",
      " 'AP42' 'AP43' 'AP44' 'AP45' 'AP46' 'AP47' 'AP48' 'AP49' 'AP50' 'AP51'\n",
      " 'AP52' 'AP53' 'AP54' 'AP55' 'AP56' 'AP57' 'AP58' 'AP59' 'AP60' 'AP61'\n",
      " 'AP62' 'AP63' 'AP64' 'AP65' 'AP66' 'AP67' 'AP68' 'AP69' 'AP70' 'AP71'\n",
      " 'AP72' 'AP73' 'AP74' 'AP75' 'AP76' 'AP77' 'AP78' 'AP79' 'AP80' 'AP81'\n",
      " 'AP82' 'AP83' 'AP84' 'AP85' 'AP86' 'AP87' 'AP88' 'AP89' 'AP90' 'AP91'\n",
      " 'AP92' 'AP93' 'AP94' 'AP95' 'AP96' 'AP97' 'AP98' 'AP99' 'AP100' 'AP101'\n",
      " 'AP102' 'AP103' 'AP104' 'AP105' 'AP106' 'AP107' 'AP108' 'AP109' 'AP110'\n",
      " 'AP111' 'AP112' 'AP113' 'AP114' 'AP115' 'AP116' 'AP117' 'AP118' 'AP119'\n",
      " 'AP120' 'AP121' 'AP122' 'AP123' 'AP124' 'AP125' 'AP126' 'AP127' 'AP128'\n",
      " 'AP129' 'AP130' 'AP131' 'AP132' 'AP133' 'AP134' 'AP135' 'AP136' 'AP137'\n",
      " 'AP138' 'AP139' 'AP140' 'AP141' 'AP142' 'AP143' 'AP144' 'AP145' 'AP146'\n",
      " 'AP147' 'AP148' 'AP149' 'AP150' 'AP151' 'AP152' 'AP153' 'AP154' 'AP155'\n",
      " 'AP156' 'AP157' 'AP158' 'AP159' 'AP160' 'AP161' 'AP162' 'AP163' 'AP164'\n",
      " 'AP165' 'AP166' 'AP167' 'AP168' 'AP169' 'AP170' 'AP171' 'AP172' 'AP173'\n",
      " 'AP174' 'AP175' 'AP176' 'AP177' 'AP178' 'AP179' 'AP180' 'AP181' 'AP182'\n",
      " 'AP183' 'AP184' 'AP185' 'AP186' 'AP187' 'AP188' 'AP189' 'AP190' 'AP191'\n",
      " 'AP192' 'AP193' 'AP194' 'AP195' 'AP196' 'AP197' 'AP198' 'AP199' 'AP200'\n",
      " 'AP201' 'AP202' 'AP203' 'AP204' 'AP205' 'AP206' 'AP207' 'AP208' 'AP209'\n",
      " 'AP210' 'AP211' 'AP212' 'AP213' 'AP214' 'AP215' 'AP216' 'AP217' 'AP218'\n",
      " 'AP219' 'AP220' 'AP221' 'AP222' 'AP223' 'AP224' 'AP225' 'AP226' 'AP227'\n",
      " 'AP228' 'AP229' 'AP230' 'AP231' 'AP232' 'AP233' 'AP234' 'AP235' 'AP236'\n",
      " 'AP237' 'AP238' 'AP239' 'AP240' 'AP241' 'AP242' 'AP243' 'AP244' 'AP245'\n",
      " 'AP246' 'AP247' 'AP248' 'AP249' 'AP250' 'AP251' 'AP252' 'AP253' 'AP254'\n",
      " 'AP255' 'AP256' 'AP257' 'AP258' 'AP259' 'AP260' 'AP261' 'AP262' 'AP263'\n",
      " 'AP264' 'AP265' 'AP266' 'AP267' 'AP268' 'AP269' 'AP270' 'AP271' 'AP272'\n",
      " 'AP273' 'AP274' 'AP275' 'AP276' 'AP277' 'AP278' 'AP279' 'AP280' 'AP281'\n",
      " 'AP282' 'AP283' 'AP284' 'AP285' 'AP286' 'AP287' 'AP288' 'AP289' 'AP290'\n",
      " 'AP291' 'AP292' 'AP293' 'AP294' 'AP295' 'AP296' 'AP297' 'AP298' 'AP299'\n",
      " 'AP300' 'AP301' 'AP302' 'AP303' 'AP304' 'AP305' 'AP306' 'AP307' 'AP308'\n",
      " 'AP309' 'AP310' 'AP311' 'AP312' 'AP313' 'AP314' 'AP315' 'AP316' 'AP317'\n",
      " 'AP318' 'AP319' 'AP320' 'AP321' 'AP322' 'AP323' 'AP324' 'AP325' 'AP326'\n",
      " 'AP327' 'AP328' 'AP329' 'AP330' 'AP331' 'AP332' 'AP333' 'AP334' 'AP335'\n",
      " 'AP336' 'AP337' 'AP338' 'AP339' 'AP340' 'AP341' 'AP342' 'AP343' 'AP344'\n",
      " 'AP345' 'AP346' 'AP347' 'AP348' 'AP349' 'AP350' 'AP351' 'AP352' 'AP353'\n",
      " 'AP354' 'AP355' 'AP356' 'AP357' 'AP358' 'AP359' 'AP360' 'AP361' 'AP362'\n",
      " 'AP363' 'AP364' 'AP365' 'AP366' 'AP367' 'AP368' 'AP369' 'AP370' 'AP371'\n",
      " 'AP372' 'AP373' 'AP374' 'AP375' 'AP376' 'AP377' 'AP378' 'AP379' 'AP380'\n",
      " 'AP381' 'AP382' 'AP383']\n",
      "Sampling frequency: 30000.0\n",
      "Number of channels: 384\n",
      "Number of segments: 1\n"
     ]
    }
   ],
   "source": [
    "channel_ids = recording_nwb.get_channel_ids()\n",
    "fs = recording_nwb.get_sampling_frequency()\n",
    "num_chan = recording_nwb.get_num_channels()\n",
    "num_segments = recording_nwb.get_num_segments()\n",
    "\n",
    "print(f'Channel ids: {channel_ids}')\n",
    "print(f'Sampling frequency: {fs}')\n",
    "print(f'Number of channels: {num_chan}')\n",
    "print(f\"Number of segments: {num_segments}\")"
   ]
  },
  {
   "cell_type": "markdown",
   "metadata": {},
   "source": [
    "SpikeInterface supports multi-segment recordings. A segment is a contiguous piece of data, and sometimes recordings can be made of multiple acquisitions, for examples a baseline, a stimulation phase, and a post recording. In such cases, the recording object will be made of multiple segments and be treated as such over the pipeline."
   ]
  },
  {
   "cell_type": "markdown",
   "metadata": {
    "pycharm": {
     "name": "#%% md\n"
    }
   },
   "source": [
    "The `get_traces()` function returns a TxN numpy array where N is the number of channel ids passed in (all channel ids are passed in by default) and T is the number of frames (determined by start_frame and end_frame)."
   ]
  },
  {
   "cell_type": "code",
   "execution_count": 11,
   "metadata": {
    "pycharm": {
     "name": "#%%\n"
    }
   },
   "outputs": [],
   "source": [
    "trace_snippet = recording_nwb.get_traces(start_frame=int(fs*0), end_frame=int(fs*2))"
   ]
  },
  {
   "cell_type": "code",
   "execution_count": 12,
   "metadata": {},
   "outputs": [
    {
     "name": "stdout",
     "output_type": "stream",
     "text": [
      "Traces shape: (60000, 384)\n"
     ]
    }
   ],
   "source": [
    "print('Traces shape:', trace_snippet.shape)"
   ]
  },
  {
   "cell_type": "markdown",
   "metadata": {
    "pycharm": {
     "name": "#%% md\n"
    }
   },
   "source": [
    "Before moving on with the analysis, let's check the probe information. \n",
    "`SpikeInterface` internally uses an additional package, named [ProbeInterface](https://probeinterface.readthedocs.io/en/main/index.html), to handle probe devices. \n",
    "\n",
    "For NWB files, the probe information is loaded automatically from the file, so we can directly access its information and channel locations."
   ]
  },
  {
   "cell_type": "code",
   "execution_count": 13,
   "metadata": {},
   "outputs": [
    {
     "name": "stdout",
     "output_type": "stream",
     "text": [
      "Probe - 384ch - 1shanks\n"
     ]
    }
   ],
   "source": [
    "probe = recording_nwb.get_probe()\n",
    "print(probe)"
   ]
  },
  {
   "cell_type": "code",
   "execution_count": 14,
   "metadata": {},
   "outputs": [
    {
     "name": "stdout",
     "output_type": "stream",
     "text": [
      "<class 'probeinterface.probe.Probe'>\n"
     ]
    }
   ],
   "source": [
    "print(type(probe))"
   ]
  },
  {
   "cell_type": "code",
   "execution_count": 15,
   "metadata": {},
   "outputs": [
    {
     "data": {
      "text/plain": [
       "<spikeinterface.widgets._legacy_mpl_widgets.probemap.ProbeMapWidget at 0x7fd111698b80>"
      ]
     },
     "execution_count": 15,
     "metadata": {},
     "output_type": "execute_result"
    },
    {
     "data": {
      "application/vnd.jupyter.widget-view+json": {
       "model_id": "823a2f7fcf984200ae7404be8d190835",
       "version_major": 2,
       "version_minor": 0
      },
      "image/png": "[encoded data removed]",
      "text/html": [
       "\n",
       "            <div style=\"display: inline-block;\">\n",
       "                <div class=\"jupyter-widgets widget-label\" style=\"text-align: center;\">\n",
       "                    Figure\n",
       "                </div>\n",
       "                <img src='data:image/png;base64,iVBORw0KGgoAAAANSUhEUgAAAoAAAAHgCAYAAAA10dzkAAAAOXRFWHRTb2Z0d2FyZQBNYXRwbG90bGliIHZlcnNpb24zLjcuMSwgaHR0cHM6Ly9tYXRwbG90bGliLm9yZy/bCgiHAAAACXBIWXMAAA9hAAAPYQGoP6dpAABQi0lEQVR4nO3deXhb9YHu8VeWJdmSJe9r7JjsXpIQSAv4TuGWkiHQwJQS2mEZCB0CN5mEW5IOpLkXytIlFO5tob0FpssQOjRtYVo6QApMGghMi4E2YJw4trMnTrzG25ElWZJl3T/SqLITA00UjmN9P8+jp0c6v3P0iuepnze/s1mi0WhUAAAASBopZgcAAADAx4sCCAAAkGQogAAAAEmGAggAAJBkKIAAAABJhgIIAACQZCiAAAAASYYCCAAAkGQogAAAAEmGAggAAJBkKIAAAABJhgIIAACQZCiAAAAASYYCCAAAkGQogAAAAEmGAggAAJBkKIAAAABJhgIIAACQZCiAAAAASYYCCAAAkGQogAAAAEmGAggAAJBkKIAAAABJhgIIAACQZCiAAAAASYYCCAAAkGQogAAAAEmGAggAAJBkKIAAAABJhgIIAACQZCiAAAAASYYCCAAAkGQogAAAAEmGAggAAJBkKIAAAABJhgIIAACQZCiAAAAASYYCCAAAkGQogAAAAEmGAggAAJBkKIAAAABJhgIIAACQZCiAAAAASYYCCAAAkGQogAAAAEmGAggAAJBkKIAAAABJhgIIAACQZCiAAAAASYYCCAAAkGQogAAAAEmGAggAAJBkKIAAAABJhgIIAACQZCiAAAAASYYCCAAAkGRSzQ4AAGYaHh5Wa2ur3G63LBbLh46PRqPyer0qKSlRSgr/hgZwZqIAAkhqra2tKisr+6u3a2lpUWlp6WlIBACnHwUQQFJzu92SjhY6j8fzoeMNw1BZWVlsOwA4E1EAASS1Y4d9PR7PiAIYiURktVqPWx69HQCciTiBBQBGMQxDe3fvlCT5fD7tbN5hciIASCxmAAEgjt/vl9vtlsdTKb/fL6fTqcqqOWbHAoCEYgYQAOK0tx6S3++XJHV1tGlgYMDkRACQeBRAAIgzdfpMpaWlqb+/X+VTpsnpdKqvr8/sWACQUBRAABhlcHBQ/gFDkhQMBjXg7TM3EAAkGAUQAOJ0d3fLbrereFKZenp6ZLPZVFp2ltmxACChKIAAECccGtTw8LAkaSg0qKGhIZMTAUDiUQABIE5R8SRFo1F1dXSooKhEVqtVHW1tZscCgISiAALAKCkpKUr5842fLRZLbBkAJgoKIADEaT18UMPDw8rNy1N72yGFw2HlFxSYHQsAEooCCABx0tIzZLPZJEmONJfsdrvJiQAg8SiAABAnJydHgUBAh1r2Kzs7W6FQSAcP7DU7FgAkFI+CA4BRnE6notFcSVJ6erqyc/JNTgQAicUMIADE2dXcqEAgILfbrT27m+X1euV2u82OBQAJxQwgAMQ5a+p0paYe/dM4uXxqbBkAJhJmAAEgjs1mk9frVVNjg2w2m/x+v3Zsrzc7FgAkFP+0BYBRPB6PPJ5qSZLL5VLV7LkmJwKAxGIGEADi7NheL5/PJ0lqamyQYRgmJwKAxGMGEADiVM2eq2g0qnA4rIrK6tjysXsDAsBEwAwgAIzi9Xp1cP/Re//5/X7t37vb5EQAkFjMAAJAnGO3ffF4PPJ6vXK5XJoxq9LsWACQUMwAAkCc3p4uBQIBSVJ/X7f8fr/JiQAg8SiAABBncvlU2e129fb2qrTsLKWnp6unp8fsWACQUBRAABglFAopOHj0SuBwOKzBwIDJiQAgsSiAABCnq7NTNptNRcWl6j5yRCkpKSqZNNnsWACQUBRAAIgzHBlSNBqNLQ8PD5ucCAASjwIIAHEKi0sUiUTU2d6q/MIiWSwWtbcdNjsWACQUBRAARklNTZXV5pAkpaSkyGZPMzkRACQWBRBAwj3++OOaO3fun5+p61FNTY1eeuml2PpPf/rTslgsI17Lli0bsY+DBw9q0aJFcjqdKigo0J133qmhoaERY7Zs2aJzzz1XDodD06dP1/r16085++GWAwqHw8rNzVXb4RaFQiHl5uae8n4BYDzhRtAAEq60tFQPPvigZsyYoWg0qqeeekqf+9zn9N5776m6ulqSdOutt+qBBx6IbeN0OmPLkUhEixYtUlFRkd588021tbXppptuks1m07e+9S1J0r59+7Ro0SItW7ZMP/vZz7R582YtXbpUxcXFWrhw4Ulnd7kz5XAcnf1zZniUlsbsH4CJxxI9drYzAJxGOTk5evjhh3XLLbfo05/+tObNm6dHHnnkhGNfeuklXXHFFWptbVVhYaEk6YknntCaNWvU1dUlu92uNWvWaOPGjdq+fXtsu2uvvVZ9fX16+eWXP3IuwzCUmZmp/v5+eTweSUefBtJzpFPlU6bJ5/Ops71VU6bNGHM8AJxpOAQM4LSKRCL6xS9+IZ/Pp5qamtjnP/vZz5SXl6fZs2dr7dq1I564UVtbqzlz5sTKnyQtXLhQhmGooaEhNmbBggUjvmvhwoWqra095cwZGRnKLyyWdHRmsrB40invEwDGEw4BAzgttm3bppqaGg0ODiojI0PPPfecqqqqJEnXX3+9ysvLVVJSovr6eq1Zs0bNzc369a9/LUlqb28fUf4kxd63t7d/4BjDMBQIBJSenn7CXMFgUMFgMPbeMIwR6xt3bNPk8qlyuVza1dyowuJJzPQBmHAogABOi1mzZqmurk79/f3693//dy1ZskSvv/66qqqqdNttt8XGzZkzR8XFxbrkkku0Z88eTZs27bTmWrdune6///4x18+cVSWr1SpJmjp9ZmwZACYSDgEDOC3sdrumT5+u+fPna926dTr77LP16KOPnnDs+eefL0navXu3JKmoqEgdHR0jxhx7X1RU9IFjPB7PmLN/krR27Vr19/fHXi0tLSPWW61WGYahpsYGWa1W+Xw+7dhe/1f8cgAY/yiAAD4Ww8PDIw69xqurq5MkFRcfPe+upqZG27ZtU2dnZ2zMpk2b5PF4YoeRa2pqtHnz5hH72bRp04jzDE/E4XDEbk9z7DU6p8fjUUVltYaHh+VyuVQ1e+5f9VsBYLyjAAJIuLVr1+qNN97Q/v37tW3bNq1du1ZbtmzRDTfcoD179ujrX/+6tm7dqv379+v555/XTTfdpIsuukhz5x4tWpdeeqmqqqp044036v3339crr7yiu+++WytWrIjdomXZsmXau3ev7rrrLjU1Nemxxx7TM888o1WrVp1S9uamBvl8PknS7p1Nx50jCAATAecAAki4zs5O3XTTTWpra1NmZqbmzp2rV155RX/7t3+rlpYW/e53v9Mjjzwin8+nsrIyLV68WHfffXdse6vVqhdffFHLly9XTU2NXC6XlixZMuK+gVOmTNHGjRu1atUqPfrooyotLdWPf/zjU7oHoCRVVs1RNBrV4OCgZlZUKRqNfuBFJQBwJuI+gACS2lj3Aezu6tBZU6fL5/Opo+2wpk6fOeZ4ADjTMAMIAHH6+vrk8Xjkdk+XYRhyuVyx8gcAEwXnAAJAnAFvnwYHB2PLgUDA5EQAkHgUQACIU1p2lmw2m3p6elQyabLS0tLU3d1tdiwASCgKIACMEg6HFQ4enfkbGhpSOOj/kC0A4MxCAQSAOJ3tbUpNTVVh8SR1dXTIYrGoqKTM7FgAkFAUQACIY0mxymKxSJJSeAwcgAmKAggAcfILChQOh9XRdli5eXmKRqNqO9zy4RsCwBmEAggAo9hsNtnTnLFlR7rL5EQAkFgUQACI03Jgn8LhsLKzs3W45YACgYBycnLMjgUACUUBBIA4mdm5sce+ebJy5HQ6TU4EAIlHAQSAOB6PR16vV3t375Tb7VYgENCunY1mxwKAhOJRcAAwitvtVlpamiTJ6XSq/KxpJicCgMRiBhAA4uzYXi+/3y+73a6mxgZ5vV7Z7XazYwFAQjEDCABxKqvnxO4DOKuiKrYMABMJM4AAEMdiscgwDDU1Nshiscjn82nH9nqzYwFAQjEDCABxwuGwPB6PPJ5qhcNhOZ1OVc2ea3YsAEgoZgABIM7ePTvl8/kkSQf27ZHX6zU5EQAkHjOAABBnVkW1hoeHNTAwoOkzKxSNRjUwMKCMjAyzowFAwjADCACj+Hw+9fV0SZICgYC6uzpMTgQAicUMIADE6e3tlcfjkds9RX19fcrIyFD5FO4DCGBiYQYQAOIEfIZCoZAkadDvVTAYNDkRACQeBRAA4pSUlstqtar7yBEVlZTJbrerq7PT7FgAkFAUQAAYZXh4WMORoeOWAWCioAACQJyOtlZZLBblFxapq6NNw8PDKiwuMTsWACQUBRAA4lhtdqWkHP3TmJJql9VqNTkRACQeBRAA4uTl5SkUCqm9tUW5ubkaGhpS66EDZscCgITiNjAAMEpaWprCYbckyeFwKN3lMTkRACQWM4AAEGff3l0KBoPKysrSwQN75ff7lZ2dbXYsAEgoZgABIE5BYYnS09MlSXn5RbFlAJhImAEEgDgul0ter1e7mhvldDrl9/vV1NhgdiwASChmAAFgFI/HI5fLJeloIZwxs8LkRACQWMwAAkCcHdvr5fP5ZLVa1dTYIMMwuBUMgAmHGUAAiFM1e64kKRqNqqKyOrZssVjMjAUACcUMIACMYhiGdjbvkCT5fD417thuciIASCxmAAEgzuDgoNxutzwV1QoGg3I6naqqnmN2LABIKGYAASDO4ZYD8vv9kqTWwwc1MDBgciIASDwKIICEe/zxxzV37lx5PB55PB7V1NTopZdeiq0fHBzUihUrlJubq4yMDC1evFgdHR0j9nHw4EEtWrRITqdTBQUFuvPOOzU0NDRizJYtW3TuuefK4XBo+vTpWr9+/SlnnzZjltLS0mQYhqZMnSGXyyXDME55vwAwnlAAASRcaWmpHnzwQW3dulV/+tOf9JnPfEaf+9zn1NBw9H56q1at0gsvvKBnn31Wr7/+ulpbW3X11VfHto9EIlq0aJFCoZDefPNNPfXUU1q/fr2+9rWvxcbs27dPixYt0sUXX6y6ujrdcccdWrp0qV555ZVTzh8IBDRg9Eo6WlaNvu5T3icAjCeWaDQaNTsEgIkvJydHDz/8sK655hrl5+drw4YNuuaaayRJTU1NqqysVG1trS644AK99NJLuuKKK9Ta2qrCwkJJ0hNPPKE1a9aoq6tLdrtda9as0caNG7V9+18u0Lj22mvV19enl19++SPnMgxDmZmZ6u/vl8fjUXd3tzIzM5Wamqqenh653W7ZbLYxxwPAmYgZQACnVSQS0S9+8Qv5fD7V1NRo69atCofDWrBgQWxMRUWFJk+erNraWklSbW2t5syZEyt/krRw4UIZhhGbRaytrR2xj2Njju3jZIWD/tih5nAwoHA4fEr7A4DxiKuAAZwW27ZtU01NjQYHB5WRkaHnnntOVVVVqqurk91uV1ZW1ojxhYWFam9vlyS1t7ePKH/H1h9b90FjDMNQIBAY8xm+wWBQwWAw9n70+X1FJWUKBoM60tWpwuJJCoVC6ursUH5B4ehdAcAZixlAAKfFrFmzVFdXp7ffflvLly/XkiVLtGPHDrNjad26dcrMzIy9ysrKzI4EAB87CiCA08Jut2v69OmaP3++1q1bp7PPPluPPvqoioqKFAqF1NfXN2J8R0eHioqKJElFRUXHXRV87P2HjfF4PGPO/knS2rVr1d/fH3u1tLSMWN/e2qJoNKq8/AJ1tB3W0NAQs38AJhwKIICPxfDwsILBoObPny+bzabNmzfH1jU3N+vgwYOqqamRJNXU1Gjbtm3q7OyMjdm0aZM8Ho+qqqpiY+L3cWzMsX2MxeFwxG5Pc+wVz+Zwxi76sDnSR1wAAgATBecAAki4tWvX6vLLL9fkyZPl9Xq1YcMGbdmyRa+88ooyMzN1yy23aPXq1crJyZHH49Htt9+umpoaXXDBBZKkSy+9VFVVVbrxxhv10EMPqb29XXfffbdWrFghh8MhSVq2bJn+3//7f7rrrrv0j//4j3r11Vf1zDPPaOPGjaeUPTc3VwMDAzL6ulVSWi6/36+OtkMqnTzllP+7AMB4QQEEkHCdnZ266aab1NbWpszMTM2dO1evvPKK/vZv/1aS9N3vflcpKSlavHixgsGgFi5cqMceeyy2vdVq1Ysvvqjly5erpqZGLpdLS5Ys0QMPPBAbM2XKFG3cuFGrVq3So48+qtLSUv34xz/WwoULTzl/enq6hoezJUlpaWnyZOWe8j4BYDzhPoAAktro+/rt3tmk4kllcrlc2rdnl/IKiuR2u8ccDwBnImYAASBOWfkU2e12SVJJ6eTYMgBMJFwEAgBxHA6HvF6vmpsa5HA45Pf7tWN7vdmxACChmAEEgFE8Ho/c7qNXG7tcLlVWzzE5EQAkFjOAABBnx/Z6+Xw+WSwWNTU2yDAMWSwWs2MBQEIxAwgAcapmz5UkDQ0NqaKyOracmsqfSwATBzOAADCKYRjat3eXJMnn82nP7maTEwFAYvFPWgCI4/P55Ha75fFUyufzyel0alZFtdmxACChmAEEgDhdHW0KBAKSpJ4jnRoYGDA5EQAkHgUQAOKcNXW6HA6H+vr6VFY+RU6nU729vWbHAoCEogACwCiDg4Ma9HslSaFQSAGfYXIiAEgsCiAAxDnS1SW73a6ikjJ1Hzkiq9WqktJys2MBQEJRAAEgTmQorOHhYUnScOQvywAwkVAAASBOYXGJotGoujralF9YLIvFoo62VrNjAUBCUQABYJSUlBSlWG2xZWuqzeREAJBYFEAAiNN66IAikYhy8/LU3tqiUCikvPx8s2MBQEJRAAEgTrrLI7vdLklKc7qVlpZmciIASDwKIADEyc7Olt/vV8uBfcrKylIwGNSBfXvMjgUACcWj4ABglIyMDKWkHP33cXp6unLzC01OBACJxQwgAMRpbmqQ3++Xy+XS7p1N8nq9ysjIMDsWACQUM4AAEGfa9FlKTT36p/GsqdNltVpNTgQAiccMIADESU1NlWEYampsUGpqqvx+v3Zsrzc7FgAkFDOAABAnGo3K4/HI46lWNBqVy+VS1ey5ZscCgIRiBhAA4jQ2bJPP55Mk7WzeIcMwTE4EAInHDCAAxKmaPVfRaFTBYFCzKqpjyw6Hw+xoAJAwzAACwCher1eHWw5IUuyegAAwkTADCABxDMNQRkaGPJ6ZMgxDLpdL02dWmB0LABKKGUAAiNPf263BwUFJ0oDRq0AgYHIiAEg8CiAAxCkrnyKbzaaenh6VlJYrPT1d3d3dZscCgISiAALAKOFwWOFgILYcGvSbnAgAEosCCABxujo7ZLPZVFg8SUe6OmWxWFQ8qczsWACQUBRAAIgTHR5WNBr983LU5DQAcHpQAAEgTkFRsYaGhtTRdlj5hYWKRqNqb20xOxYAJBQFEABGsdlssjnSJR19NrDN4TQ5EQAkFgUQAOIcatmvcDisnJwctR46oMHBQeXm5podCwASigIIAHHcnmylpaVJkjI82UpPTzc5EQAkHgUQAOJkZmbK5/Np395d8ng8Ghwc1J7dzWbHAoCE4lFwADBKRkaGbLajt35xOp2aVFpuciIASCxmAAEk3Lp16/TJT35SbrdbBQUFuuqqq9TcPHIW7dOf/rQsFsuI17Jly0aMOXjwoBYtWiSn06mCggLdeeedGhoaGjFmy5YtOvfcc+VwODR9+nStX7/+lLLvaNgmv9+vtLQ0NTc1yOv1xg4JA8BEQQEEkHCvv/66VqxYobfeekubNm1SOBzWpZdeKp/PN2Lcrbfeqra2ttjroYceiq2LRCJatGiRQqGQ3nzzTT311FNav369vva1r8XG7Nu3T4sWLdLFF1+suro63XHHHVq6dKleeeWVk85eWTVbLpdLkjRzVpU8Hs9J7wsAxitL9NgdTwHgNOnq6lJBQYFef/11XXTRRZKOzgDOmzdPjzzyyAm3eemll3TFFVeotbVVhYWFkqQnnnhCa9asUVdXl+x2u9asWaONGzdq+/btse2uvfZa9fX16eWXX/5I2QzDUGZmpvr7+2NlzzAMtR5uUUVltXw+nw7s26Oq2XPHHA8AZxpmAAGcdv39/ZKknJycEZ//7Gc/U15enmbPnq21a9fK7//LM3dra2s1Z86cWPmTpIULF8owDDU0NMTGLFiwYMQ+Fy5cqNra2jGzBINBGYYx4hUvEonI4/GoorJakUhELpcrVv4AYKLgIhAAp9Xw8LDuuOMO/c3f/I1mz54d+/z6669XeXm5SkpKVF9frzVr1qi5uVm//vWvJUnt7e0jyp+k2Pv29vYPHGMYhgKBwAlv4bJu3Trdf//9Y+bd1dyosvIpcrlc2rt7pwqLJzHTB2DCoQACOK1WrFih7du36/e///2Iz2+77bbY8pw5c1RcXKxLLrlEe/bs0bRp005bnrVr12r16tWx94ZhqKysLPa+omq2otGo/H6/ZsyqjC07nTwNBMDEwSFgAKfNypUr9eKLL+q1115TaWnpB449//zzJUm7d++WJBUVFamjo2PEmGPvi4qKPnCMx+MZ8wbODodDHo9nxGu0gYEBHelskyT5/X51tB/+sJ8KAGcUCiCAhItGo1q5cqWee+45vfrqq5oyZcqHblNXVydJKi4uliTV1NRo27Zt6uzsjI3ZtGmTPB6PqqqqYmM2b948Yj+bNm1STU3NSWfv6+uT0+nU5LOmqa+vT2lpaZoydcZJ7w8AxiMKIICEW7FihZ5++mlt2LBBbrdb7e3tam9vVyAQkCTt2bNHX//617V161bt379fzz//vG666SZddNFFmjv36AUXl156qaqqqnTjjTfq/fff1yuvvKK7775bK1askMPhkCQtW7ZMe/fu1V133aWmpiY99thjeuaZZ7Rq1aqTzu7z9isYDEqSAj6vBgcHT/G/BgCMP9wGBkDCWSyWE37+5JNP6uabb1ZLS4v+4R/+Qdu3b5fP51NZWZk+//nP6+677x5xSPbAgQNavny5tmzZIpfLpSVLlujBBx9UaupfTl/esmWLVq1apR07dqi0tFT33HOPbr755o+c9US3dQmHwzIMQ7m5uSOWxxoPAGcaCiCApHaiQhcIBDRg9Cm/sFjBYFC9PUdUVDxpzPEAcKbhEDAAxOloa5XValV+YbG6OtoVjUZj5Q8AJgoKIADESbGmxg5hp1hTlZLCn0kAEw9/2QAgTn5BgUKhkNpbW5Sbl6dIJKLWwwfNjgUACcWNoAFgFIfDoVB6hiTJbrcr7c/LADBRMAMIAHEO7t+jUCik7OxsHWrZL7/ff9wzjAHgTMcMIADEyc4tiD1FJCs7j0fAAZiQmAEEgDhut1ter1d7djUrIyNDgUBAO5t2mB0LABKKGUAAGMXtdsdmAV0ul6ZM41FwACYWZgABIM6O7fXy+/2y2WxqamyQYRiy2WxmxwKAhGIGEADiVM0++iziaDSqisrq2PJYj7cDgDMRM4AAMIphGGr+83l/Pp9PjQ3bTE4EAIlFAQSAOKFQSG63WxWV1QqFQnI6nbFZQQCYKCiAABDnwL498vv9kqRDB/fL6/WanAgAEo9zAAEgzoxZlRoeHpbX69XU6TMVjUZlGIY8Ho/Z0QAgYZgBBIBR/H6/+vu6JUmBQED9vd0mJwKAxGIGEEhSoVBIjY2N6urqUl9fn7KyspSfn6/KykrZ7Xaz45mmp6dHmZmZysg4S729vcrIyFBZ+RSzYwFAQlEAgSTS1dWl9evXa+PGjXrnnXcUDAaPG+NwOHTeeefpiiuu0JIlS5Sfn29CUvMEAz6FnU5ZrVYFB31yOBzcBxDAhGOJRqNRs0MAOL12796te+65R88995xCoZAkKS8vT7NmzVJOTo48Ho/6+/vV29urpqYmdXcfPeRpt9t19dVX64EHHtD06dPN/AmnjWEYyszMVH9/f+w8v2AwqAGvV7l5eQqHw+rr7VV+QcGY4wHgTMMMIDDBrVy5Uj/60Y8UiUR08cUX6/rrr9enP/1pTZky9mHNvXv36rXXXtOGDRv0zDPP6Fe/+pVuu+02ff/73/8Yk5snGo1qOBKJLUeHIyYnAoDEYgYQmOCcTqduu+023XXXXSopKfmrtz98+LAeeugh/fjHP5bP5zsNCc01ekavvbVF2bkFcjgc6mw/rAxPtpxO55jjAeBMRAEEJrj29nYVFRWNm/2MN6MLXXd3tzIzM5Wamqqenh653e4R5wBSAAFMBNwGBpjgElXaJmL5O5Hc3FwNDg6q9fBB5eTkKBwO61DLfrNjAUBCcQ4gAIySnp6uSCRTkpSWlqYMd5a5gQAgwSiAQJKJRCL6zne+o1//+tdqa2tTXl6eqqqqdM455+icc87RvHnzlJWVZXZM0+zdvVOFxZOUmZmpA/v2KCevIKn/ewCYmDgHEEgya9eu1UMPPaQT/V/fYrFIkiZPnhwrhPfcc8/HHfFjNfqcPr/fr/T0dFksFgUCAaWlpcX+u5xoPACciSiAQJKZPHmyOjs79cwzz+jyyy9Xf3+/tm3bprq6Or3//vuqq6tTY2OjwuGwLBaLIpGJfQuUExU6wzDU3npIMyuq5PP5dPDAXlVWzRlzPACcaSiAQJLxeDz6zGc+o9/85jdjjgmHw2poaND777+vJUuWfHzhTDBWoYtEIrJarcctUwABTARcBQwkmbPPPvuEh3/j2Ww2zZs3b8KXvxPZsb1ePp9PVqtVTY0NMgwjVv4AYKKgAAJJZsWKFXrttdfU2dlpdpRxqWr2XLlcLkUiEVVUVsvj8Uz4w+AAkg8FEEgy1157ra6++mp97nOfU1tbm9lxxiXDMLRnV7MkyefzaWfzDpMTAUBiUQCBJLR27VodOXJEc+bM0Z133qk33nhjQj7m7WT4/X653W7NrKiS3++X0+mMXQACABMFF4EASea3v/2tFi9erFAoFDsX0GKxyGKxaNq0abHbvxy7J2BBQYHJiU+v0Rd1HLsPoMvlit0H0O12jzkeAM5EFEAgycybN0/19fW68sordfnll8swjNjtX3bu3Bk73+1YKRwaGjI58el1okIXiUQ0MDCgzMxMRSIReb3e2M2gKYAAJgKeBAIkmZ07d+qcc87Rf/zHfxy3bnBwUPX19aqrq9O7776r999/34SE5hscHJR/4GjRCwaDGvD28TQQABMKBRBIMkVFRZo1a9YJ16Wlpem8887Teeed9zGnGj+6u7uVmZmp4kll6unpkdvtVmnZWWbHAoCE4iIQIMksXrxY77zzzofeCzBZhYOB2GHwodCgwuGwyYkAIPEogECSufvuuzU8PKxvfOMbp+071q1bp09+8pNyu90qKCjQVVddpebm5hFjBgcHtWLFCuXm5iojI0OLFy9WR0fHiDEHDx7UokWL5HQ6VVBQoDvvvPO4cxK3bNmic889Vw6HQ9OnT9f69etPKXtRSami0ai6OjpUUFSi1NRUdbZzuxwAEwsFEEgyV111lc4++2zdd999uu6669TY2Jjw73j99de1YsUKvfXWW9q0aZPC4bAuvfTSEbeaWbVqlV544QU9++yzev3119Xa2qqrr746tj4SiWjRokUKhUJ688039dRTT2n9+vX62te+Fhuzb98+LVq0SBdffLHq6up0xx13aOnSpXrllVdOKb/FYlHKn5/+YbFYZEnhSSAAJhauAgaSTErKyH/3Hbv9yyc/+UnNmzcvdguY3NzchH1nV1eXCgoK9Prrr+uiiy5Sf3+/8vPztWHDBl1zzTWSpKamJlVWVqq2tlYXXHCBXnrpJV1xxRVqbW1VYWGhJOmJJ57QmjVr1NXVJbvdrjVr1mjjxo3avn177LuuvfZa9fX16eWXX/5I2UZf1dt6+KBycguUlpam9rZD8mTmyOl0jjkeAM5EXAQCJJl9+/aprq4uduuXuro67d69W7t379bPf/5zWSwWSdKkSZPGvFr4r9Xf3y9JysnJkSRt3bpV4XBYCxYsiI2pqKjQ5MmTYwWwtrZWc+bMiZU/SVq4cKGWL1+uhoYGnXPOOaqtrR2xj2Nj7rjjjpPOmpaeIZvNJklypLlkt9tPel8AMF5RAIEkU15ervLycn3uc5+LfRZ/L8Bj/9vQ0KAXX3zxlL9veHhYd9xxh/7mb/5Gs2fPliS1t7fLbrcfd2uVwsJCtbe3x8bEl79j64+t+6AxhmEoEAgoPT39uDzBYFDBYDD23jCMEetzcnI0MDCgvt4jKi07S36/X62HD2py+dST+PUAMD5RAAHI4/Howgsv1IUXXhj7LBKJqKmp6ZT3vWLFCm3fvl2///3vT3lfibBu3Trdf//9HzjG6XQqGj16CDw9PV3ZOfkfRzQA+NhwEQiQZF577TX19vZ+6Dir1arq6upT+q6VK1fqxRdf1GuvvabS0tLY50VFRQqFQurr6xsxvqOjQ0VFRbExo68KPvb+w8Z4PJ4Tzv5JR5+D3N/fH3u1tLSMWL+ruVGBQEBut1t7djfL6/WOeBQcAEwEFEAgyVxyySXKy8uLHQa+99579dxzz2nfvn0jxt1yyy167LHHTuo7otGoVq5cqeeee06vvvqqpkyZMmL9/PnzZbPZtHnz5thnzc3NOnjwoGpqaiRJNTU12rZtmzo7O2NjNm3aJI/Ho6qqqtiY+H0cG3NsHyficDjk8XhGvOKVT5kWu+ijbPIUyh+ACYmrgIEks3TpUtXV1Wn79u0KhUKSFLvww+PxaO7cuZo5c6aee+45paamxs63+2v80z/9kzZs2KD/+I//GPHUkczMzNjM3PLly/Xb3/5W69evl8fj0e233y5JevPNNyUdPQQ9b948lZSU6KGHHlJ7e7tuvPFGLV26VN/61rckHb2gZfbs2VqxYoX+8R//Ua+++qr+5//8n9q4caMWLlz4kbKe6KpewzDUerhFFZXV8vl8OrBvj6pmzx1zPACcaSiAQJIaGhrSjh07VFdXp/fee0/vvfee3nrrLYVCIVksFkWjUU2ePFn79+//q/d9rFCO9uSTT+rmm2+WdPRG0F/5ylf085//XMFgUAsXLtRjjz0WO7wrSQcOHNDy5cu1ZcsWuVwuLVmyRA8++KBSU/9y+vKWLVu0atUq7dixQ6Wlpbrnnnti3/FR/LWFjgIIYCKgAAKIGRgY0Pr16/XVr35Vs2fP1tNPP63p06ebHeu0Gl3odmyvV/mUaXK5XGpqbFDJpLIRRY8CCGAi4CpgADEZGRlauXKlpk6dqiuvvFLvvvvuhC+Ao1XNnqtoNKpwOKyKyqMXwYTD4di9AQFgIuAiEADH+exnP6uKigqtW7fO7Cim8Hq9Orh/ryTJ5/Np355dJicCgMSiAAI4oSlTpqi5udnsGB+7Y7d9mTZjlgYGBpSenq6ZFVVmxwKAhKIAAknmy1/+sp588knV1dUpHA6POW737t0jLshIFr3dnQoEApKkvt4j8vl8JicCgMTjHEAgyXz/+9+PXaVrs9lUUVGhc845R/PmzdOcOXPkdDr19NNPa9euXXriiSdMTvvxm3zWNA0NDam3t1elZWcpEomop6cn9hxjAJgIKIBAknn++edjt3157733VF9fr/r6ev30pz8dMW7q1Knq6OjQb3/7W82fP/+4Z+5OZKFQSMFBn6RshUIhDQYGJFEAAUwc3AYGSHK9vb0jCuG7776rnTt3anh4WNJf7ulXVFSk+fPn6/nnnzczbsKNvq1LV2ensrKzZbPZ1H3kiNwej+x2+5jjAeBMRAEEcBy/36/6+vpYIXzvvfe0fft2hcNhRSIRs+Ml1OhC19HWquzcPNntdnV1tMudmaW0tLQxxwPAmYhDwACO43Q6dcEFF+iCCy6IfXbsySETXWFxiQKBgDrbW1VQVKJgMKj2tsMqKp5kdjQASBiuAgbwkaSmpmru3Llmx/hYpKamympzSJJSUlJks6d9yBYAcGahAAITXENDw7jaz3h3uOWAwuGwcnNz1Xa4RaFQSLm5uWbHAoCEogACE9zcuXN13XXXqb6+/qS2f++99/TFL35RZ599doKTjU8ud6YcjqOzf+ku94jz/wBgoqAAAhPcvffeq40bN8bu9fftb39bb731loLB4AnHDw4Oqra2VuvWrdOcOXP0iU98Qi+//LLuvffejzm5ObKysuT3+3Vw/x5lZWVpcHCQR8EBmHC4ChhIAp2dnfrmN7+pn/70p+rv75fFYlFqaqrKysqUnZ0tt9str9ernp4etbS0KBKJKBqNKjMzU1/60pe0du1a5efnm/0zTosTXdUbjUYVCATkdDpHLI81HgDONBRAIIkEAgE988wzevHFF/X73/9eHR0dx40pKirShRdeqEWLFumLX/zihD8EOrrQNe3YrrLyKXK5XNrV3KjC4kkjih4FEMBEQAEEklhXV5c6OzvV39+vzMxMFRQUTNiZvrGMLnSRSERWq1WSRiyPNR4AzkTcBxBIYvn5+UlX+D6M1WqVYRhqPdyiispq+Xw+Hdi3R1Wzk+MWOACSAwUQAOIMDw/L4/HI46nW8PCwXC4X5Q/AhMNVwAAQp6mxQT6fT5K0a2ejDMMwOREAJB4zgAAQp6p6jqLRqAYHBzWrojq2PNEvhgGQXJgBBIBRBgYG1NbaIkny+/06fOiAyYkAILGYAQSAOP39/XK73XK7Z8gwDLlcLk2bPsvsWACQUMwAAkAcr9GrwcFBSdKA0atAIGByIgBIPAogkGTuv/9+HTp0yOwY41Zp2Vmy2Wzq6elRSWm50tLS1N3dbXYsAEgoCiCQZO6//35NmTJFV155pZ5//nkNDw+bHWncCYfDCgePzvwNDQ0pHPSbnAgAEosCCCSZb3zjG5o8ebI2btyoz3/+8yorK9M999yj/fv3mx1tXOhsb1NqaqoKiyepq6NDFotFRSVlZscCgISiAAJJ5n/9r/+lPXv26D//8z/1hS98Qd3d3frmN7+p6dOn67LLLtOvfvUrDQ0NmR3TNJaUFFkslj8vW0xOAwCnB88CBpJcd3e3nnrqKf3kJz9RY2OjLBaL8vPzdfPNN+uWW27RjBkzzI54Wp3o2b5+v1/e/l4VFk/S4OCgeru7VDypbMzxAHCmYQYQSHK5ublavXq1Ghoa9Pvf/17XXXedOjs79fDDD6uiokKXXHKJnnvuObNjfqxsNpvsac7YsiPdZXIiAEgsCiAASdKePXv0wgsvaPPmzbHPSktL9dprr+maa67Reeedp5aWFhMTfjxaDuxTOBxWdna2DrccUCAQUE5OjtmxACChKIBAEguHw/rFL36hSy65RDNnztS3v/1tDQ0NafXq1WpqatKBAwf0hz/8QZdffrn+9Kc/aeXKlWZHPu0ys3OVnp4uSXJnZseWAWAi4RxAIAk1NjbqRz/6kf7t3/5NPT09ikaj+m//7b9p2bJl+sIXviCHw3HcNhdccIGamprU19f38Qc+jU50Tp9hGDrS2a6p02fK5/Op9fBBzZhZOeZ4ADjT8Cg4IMl86lOfUm1traLRqDwej5YvX65ly5Zp9uzZH7hddXW1/vjHP35MKc3ldruVlpYmSXI6nZpcPtXkRACQWBRAIMm8+eabOvfcc7Vs2TJdf/31cjqdH2m7pUuX6qKLLjrN6cy3Y3u9yqdMk8vlUnNTg4pLypjpAzDhcAgYSDJbt27V/PnzzY4xbow+pBuNRmP3AYxfHms8AJyJuAgESDKUvw9msVhkGIaaGhtksVjk8/m0Y3u92bEAIKE4BAwAccLhsDwejzyeaoXDYTmdTlXNnmt2LABIKGYAAZwWb7zxhq688kqVlJTIYrHoN7/5zYj1N998sywWy4jXZZddNmJMT0+PbrjhBnk8HmVlZemWW27RwMDAiDH19fW68MILlZaWprKyMj300EOnlHvvnp3y+XySpAP79sjr9Z7S/gBgPKIAAjgtfD6fzj77bP3gBz8Yc8xll12mtra22OvnP//5iPU33HCDGhoatGnTJr344ot64403dNttt8XWG4ahSy+9VOXl5dq6dasefvhh3XffffrhD3940rlnVVTL6XRqYGBA02dWyO12H1c6AeBMxyFgAKfF5Zdfrssvv/wDxzgcDhUVFZ1wXWNjo15++WX98Y9/1Cc+8QlJ0ve//3199rOf1f/5P/9HJSUl+tnPfqZQKKR//dd/ld1uV3V1terq6vSd73xnRFH8aw0MDKiv54gyMjIUCATU3dWhjIyMk94fAIw3zAACMM2WLVtUUFCgWbNmafny5eru7o6tq62tVVZWVqz8SdKCBQuUkpKit99+Ozbmoosukt1uj41ZuHChmpub1dvbe8LvDAaDMgxjxCteb2+vnE6nysqnqK+vTw6HQ+VTpiXyZwOA6SiAAExx2WWX6ac//ak2b96sb3/723r99dd1+eWXKxKJSJLa29tVUFAwYpvU1FTl5OSovb09NqawsHDEmGPvj40Zbd26dcrMzIy9ysrKRqwP+AyFQiFJ0qDfq8HBwVP/sQAwznAIGIAprr322tjynDlzNHfuXE2bNk1btmzRJZdcctq+d+3atVq9enXsvWEYI0pgSWm5QqGQuo8cUVFJmcLhsLo6O5U/qowCwJmMGUAA48LUqVOVl5en3bt3S5KKiorU2dk5YszQ0JB6enpi5w0WFRWpo6NjxJhj78c6t9DhcPz5Ni9/eY02PDys4cjQccsAMFFQAAGMC4cOHVJ3d7eKi4slSTU1Nerr69PWrVtjY1599VUNDw/r/PPPj4154403FA6HY2M2bdqkWbNmKTs7+6RydLS1ymKxKL+wSF0dbRoeHlZhcckp/DIAGH8ogABOi4GBAdXV1amurk6StG/fPtXV1engwYMaGBjQnXfeqbfeekv79+/X5s2b9bnPfU7Tp0/XwoULJUmVlZW67LLLdOutt+qdd97RH/7wB61cuVLXXnutSkqOFrLrr79edrtdt9xyixoaGvTLX/5Sjz766IhDvH8tq82ulJSjfxpTUu2yWq2n9h8CAMYhngUM4LTYsmWLLr744uM+X7JkiR5//HFdddVVeu+999TX16eSkhJdeuml+vrXvz7ioo6enh6tXLlSL7zwglJSUrR48WJ973vfG3FLlvr6eq1YsUJ//OMflZeXp9tvv11r1qz5yDlP9Gxfn88nb3+PikrKFAgE1NvdqZLS8jHHA8CZhgIIIKmdqNBFIhF5vV5lZWUpEonIMIzYIWUKIICJgEPAABBn395dCgaDysrK0sEDe+X3+0/6fEIAGK+4DQwAxCkoLFF6erokKTevUE6n0+REAJB4zAACQByXyyWv16tdOxvlcrnk9/vV1NhgdiwASChmAAFgFI/HI5fLJeloIZwxs8LkRACQWMwAAkCcHdvr5fP5ZLVa1dTYIMMwuBUMgAmHGUAAiFM1e64kKRqNqqKyOrZssVjMjAUACcUMIACMYhiGdjbvkHT0noCNO7abnAgAEosZQACIEwwG5Xa75amoVjAYlNPpVFX1HLNjAUBCMQMIAHFaDuyT3++XJLUePvrYOgCYaCiAABBn+swKpaWlyTAMTZk6Qy6XS4ZhmB0LABKKAggAowQCAQ0YvZKkwcFBGX3dJicCgMSiAAJAnO7ubqWnp6uktFw9PT2y2WwqnTzF7FgAkFAUQACIEw76FQ6H/7wciC0DwERCAQSAOEUlZbJYLDrS1anC4klKTU1VV2eH2bEAIKEogAAAAEmGAggAcdpbWxSNRpWXX6COtsMaGhpSfkGh2bEAIKEogAAQx+Zwymaz/Xk5PbYMABMJBRAA4uTm5ioQCKj10AHl5OQoHA7r0MF9ZscCgITiUXAAMEp6erqGh7MlSWlpafJk5ZqcCAASixlAAIize2eTBgcH5fF4tG/vLvl8Pnk8HrNjAUBCMQMIAHHKyqfIbrdLkkomTY4tA8BEwgwgAMRxOBzyer1qbmqQw+GQ3+/XjoZtZscCgIRiBhAARvF4PHK7qyRJLpdLlVWzTU4EAInFDCAAxNmxvV4+n08Wi0VNjQ0yDEMWi8XsWACQUMwAAkCcqtlzJUmRSEQVldWxZavVamYsAEgoZgABYBTDMLR3z05Jks/n066dTSYnAoDEYgYQAOL4fD653W55PJXy+XxyOp2xmUAAmCiYAQSAOJ0drQoEApKk7iMdGhgYMDkRACQeBRAA4kyZOkMOh0N9fX2aXD5VTqdTvb29ZscCgISiAALAKIODgxr0eyVJoVBIAZ9hciIASCwKIADEOXLkiOx2u4pKytTd3S2r1aqS0nKzYwFAQlEAASBOJBzS8PCwJGl4KKRIJGJyIgBIPAogAMQpLC5RNBpVV0e78guLlZKSoo62VrNjAUBCUQABYJSUlBSlWFOPWwaAiYICCABxWg8dUCQSUW5entpbWxQKhZRfUGB2LABIKAogAMRJd3lkt9slSWlOt9LS0kxOBACJRwEEcFq88cYbuvLKK1VSUiKLxaLf/OY3I9ZHo1F97WtfU3FxsdLT07VgwQLt2rVrxJienh7dcMMN8ng8ysrK0i233HLcjZnr6+t14YUXKi0tTWVlZXrooYdOKXd2drb8fr9aDuxTVlaWgsGgDuzbc0r7BIDxhgII4LTw+Xw6++yz9YMf/OCE6x966CF973vf0xNPPKG3335bLpdLCxcu1ODgYGzMDTfcoIaGBm3atEkvvvii3njjDd12222x9YZh6NJLL1V5ebm2bt2qhx9+WPfdd59++MMfnlL2jIwMZefmS5LS09OVm194SvsDgPHGEo1Go2aHADCxWSwWPffcc7rqqqskHZ39Kykp0Ve+8hX98z//sySpv79fhYWFWr9+va699lo1NjaqqqpKf/zjH/WJT3xCkvTyyy/rs5/9rA4dOqSSkhI9/vjj+t//+3+rvb09dtj2q1/9qn7zm9+oqanpI2UzDEOZmZnq7++Xx+NRc1ODSsvOksvl0u6dTSooKpHH4xlzPACciZgBBPCx27dvn9rb27VgwYLYZ5mZmTr//PNVW1srSaqtrVVWVlas/EnSggULlJKSorfffjs25qKLLoqVP0lauHChmpubT/rxbVOnzZTL5ZIklU+ZJrfbfVL7AYDxjAII4GPX3t4uSSosHHlotbCwMLauvb1dBaOuvk1NTVVOTs6IMSfaR/x3jBYMBmUYxohXPJvNJsMw1NTYIJvNJr/frx3b60/ylwLA+EQBBJBU1q1bp8zMzNirrKxsxPpoNCqPx6OKympFo1G5XC5VzZ5rUloAOD0ogAA+dkVFRZKkjo6OEZ93dHTE1hUVFamzs3PE+qGhIfX09IwYc6J9xH/HaGvXrlV/f3/s1dLSMmJ9Y8M2+Xw+SdLO5h3HzRACwERAAQTwsZsyZYqKioq0efPm2GeGYejtt99WTU2NJKmmpkZ9fX3aunVrbMyrr76q4eFhnX/++bExb7zxhsLhcGzMpk2bNGvWLGVnZ5/wux0Ohzwez4hXvKrZc+V0OhUKhTSrolput1vBYDBhvx0AxgMKIIDTYmBgQHV1daqrq5N09MKPuro6HTx4UBaLRXfccYe+8Y1v6Pnnn9e2bdt00003qaSkJHalcGVlpS677DLdeuuteuedd/SHP/xBK1eu1LXXXquSkhJJ0vXXXy+73a5bbrlFDQ0N+uUvf6lHH31Uq1evPqXsXq9Xhw7ulyT5/X4dPLD3lPYHAOMNt4EBcFps2bJFF1988XGfL1myROvXr1c0GtW9996rH/7wh+rr69OnPvUpPfbYY5o5c2ZsbE9Pj1auXKkXXnhBKSkpWrx4sb73ve8pIyMjNqa+vl4rVqzQH//4R+Xl5en222/XmjVrPnLO0bd1MQxDbrdbFotFhmHI5XLJarWOOR4AzkQUQABJbXShazmwT7n5hXI6nTrcckCZ2bkjCicFEMBEwCFgAIhTVj5FNptNvb29mlRWrvT0dPX09JgdCwASigIIAKOEw2GFBv2x5WDAZ3IiAEgsCiAAxOnq7JDNZlNh8SQd6eqUxWJR8aSyD98QAM4gFEAAiBMdHtaxU6Ojw5wiDWBiogACQJyComINDQ2po+2w8gsLFY1G1d7a8uEbAsAZhAIIAKPYbDbZHOmSjj5/2OZwmpwIABKLAggAcQ617Fc4HFZOTo5aDx3Q4OCgcnNzzY4FAAlFAQSAOG5PttLS0iRJGZ5spaenm5wIABKPAggAcTIzM+Xz+bRv7y55PB4NDg5qz+5ms2MBQEKlmh0AAMabjIwM2WxHb/3idDo1qbTc5EQAkFjMAAJAnB0N2+T3+5WWlqbmpgZ5vd7YIWEAmCiYAQSAOBWV1UpJOfpv4xkzK2PLADCR8JcNAOKkpKTIMAw1NTYoJSVFPp9PO7bXmx0LABKKGUAAiBOJROTxeOTxVCsSicjlcqlq9lyzYwFAQjEDCABxdjU3yufzSZL27t4pwzBMTgQAiccMIADEqaiarWg0Kr/frxmzKmPLTidPAwEwcTADCACjDAwM6EhnmyTJ7/ero+2wyYkAILGYAQSAOH19fXK73XK7p8WWp0ybYXYsAEgoZgABII7P269gMChJCvi8GhwcNDkRACQeBRAA4kwqK5fNZlN3d7eKJ5XJbreru7vb7FgAkFAUQAAYZWhoSJHw0VnA4eFhhUPMAgKYWCiAABCno61VVqtVBUUl6upoVzQaVVHxJLNjAUBCUQABIE6KNVUWiyW2zKPgAExE/GUDgDj5BQUKh8Nqbzuk3Lw8RSIRtR4+aHYsAEgoCiAAjGK32+VIc8WW09IzTE4EAIlFAQSAOAf371EoFFJ2drYOteyX3+9XTk6O2bEAIKG4ETQAxMnOLVB6erokKSs7j0fAAZiQmAEEgDhut1ter1d7djUrIyNDgUBAO5t2mB0LABKKGUAAGMXtdsdmAV0uF4+CAzDhMAMIAHF2bK+X3++XzWZTU2ODDMOQzWYzOxYAJBQzgAAQp2r23NhyRWW1iUkA4PRhBhAARjEMQ02NDZIkn8+nHdvrTU4EAIlFAQSAOKFQSG63WxWV1QqFQnI6nSNmBQFgIqAAAkCcA/v2yO/3S5JaDu6T1+s1OREAJB7nAAJAnBmzKjU8PCyv16tp02cpGo3K6/XK7XabHQ0AEoYZQAAYxe/3q7+vW5IUCATU29NlciIASCwKIABT3HfffbJYLCNeFRUVsfWDg4NasWKFcnNzlZGRocWLF6ujo2PEPg4ePKhFixbJ6XSqoKBAd955p4aGhk4pV09Pj9LT01VadpZ6e3tlt9s1uXzqKe0TAMYbDgEDME11dbV+97vfxd6npv7lT9KqVau0ceNGPfvss8rMzNTKlSt19dVX6w9/+IMkKRKJaNGiRSoqKtKbb76ptrY23XTTTbLZbPrWt7510pkGAwNyOp2yWq0KDvrkcDhG5AKAiYC/agBMk5qaqqKiouM+7+/v109+8hNt2LBBn/nMZyRJTz75pCorK/XWW2/pggsu0H/+539qx44d+t3vfqfCwkLNmzdPX//617VmzRrdd999stvtJ5WpZNJkBYNBdR85oqLiUoXDYXV1diq/oOCUfisAjCccAgZgml27dqmkpERTp07VDTfcoIMHD0qStm7dqnA4rAULFsTGVlRUaPLkyaqtrZUk1dbWas6cOSosLIyNWbhwoQzDUENDwynlikajGo5EYsvR4cgp7Q8AxhsKIABTnH/++Vq/fr1efvllPf7449q3b58uvPBCeb1etbe3y263Kysra8Q2hYWFam9vlyS1t7ePKH/H1h9bN5ZgMCjDMEa84rW3HpLFYlF+YaE621s1NDSkgqLiBPxiABg/OAQMwBSXX355bHnu3Lk6//zzVV5ermeeeUbp6emn7XvXrVun+++/f8z1Nke6rFarJCnVnsZzgAFMSMwAAhgXsrKyNHPmTO3evVtFRUUKhULq6+sbMaajoyN2zmBRUdFxVwUfe3+i8wqPWbt2rfr7+2OvlpaWEetzc3MVDAbVdrhFOTk5CofDOtSy/9R/IACMIxRAAOPCwMCA9uzZo+LiYs2fP182m02bN2+OrW9ubtbBgwdVU1MjSaqpqdG2bdvU2dkZG7Np0yZ5PB5VVVWN+T0Oh0Mej2fEa7S0tDQ5Mzyx8RnurAT9SgAYHyiAAEzxz//8z3r99de1f/9+vfnmm/r85z8vq9Wq6667TpmZmbrlllu0evVqvfbaa9q6dau+9KUvqaamRhdccIEk6dJLL1VVVZVuvPFGvf/++3rllVd09913a8WKFXI4HCeda+/unRocHFRmZmbssXCjz0UEgDMd5wACMMWhQ4d03XXXqbu7W/n5+frUpz6lt956S/n5+ZKk7373u0pJSdHixYsVDAa1cOFCPfbYY7HtrVarXnzxRS1fvlw1NTVyuVxasmSJHnjggVPKVVRSGjsHMb+w+LSejwgAZrFEo9Go2SEAwCyGYSgzM1P9/f2xw8GGYai99ZBmVlTJ5/Pp4IG9qqyaM+Z4ADjTMAMIAKN4PB65XLMkSS6XSzNnjX1OIQCciTgHEADi7NheL5/PJ6vVqqbGBhmGEbstDABMFMwAAkCcqtlzJR191nBFZXVsmRIIYCJhBhAARjEMQ3t2NUuSfD6fdjbvMDkRACQWM4AAEMfv98vtdstTUaVAICCn0xm7AAQAJgpmAAEgTnvrIfn9fklSZ3urBgYGTE4EAIlHAQSAOFOnz1RaWpr6+/tVPmWaXC7XcY+kA4AzHQUQAEYJBALyDfRLkgYHBzXg7TM3EAAkGAUQAOJ0d3crLS1NJZMmq6enRzabTaVlZ5kdCwASigIIAHHCQb8ikYgkaSgUUDgcNjkRACQeBRAA4hSVlCkajaqro0MFRZOUmpqqzvY2s2MBQEJRAAFgFIvFopQ/3/jZYrHIksJNoAFMLBRAAIjTdrhF0WhUuXl5am87pHA4rPyCArNjAUBCUQABII4j3SWbzXZ0Oe0vywAwkVAAASBOTk6OAoGADrXsV3Z2tsLhsFoO7DM7FgAkFI+CA4BRnE6notFcSVJ6eroys3NNTgQAicUMIADE2dXcqEAgILfbrb27d8rr9crj8ZgdCwASihlAAIhTPmVa7Ly/0slncQ4ggAmJGUAAiGO32+X1etXU2CC73S6/368d2+vNjgUACcUMIACM4vF45HZXSZJcLpcqq+eYnAgAEosZQACIs2N7vXw+nywWi5oaG2QYhiwWi9mxACChmAEEgDhVs+cqGo0qHA6rorJakhQOhzkXEMCEwgwgAIzi9Xp1cP9eSZLP59O+PbtMTgQAicUMIADE8Xq9crvd8ng8GhgYkNPp1MyKKrNjAUBCMQMIAHF6uzsVCAQkSX29R+Tz+UxOBACJRwEEgDiTz5omu92u3t5elZadJafTqZ6eHrNjAUBCUQABYJRgMKhgYECSFAqFNPjnZQCYKCiAABCnq7NTdrtdRSVl6j5yRFarVSWTJpsdCwASigIIAHGGI0OKRqOx5eHhYZMTAUDiUQABIE5hcYkikYi6OtqUX1gki8Wi9rbDZscCgISiAALAKKmpqUpJtUuSUlJSZLOnmZwIABKLAggAcQ63HFA4HFZubq7aDrcoFAopNzfX7FgAkFAUQACI43JnyuFwSJLSXW6lpTH7B2DioQACQJysrCz5/X4d3L9HWVlZGhwc1L69PAoOwMTCo+AAYJSMjAxZrVZJktPpVGHRJJMTAUBiMQMIAHGadmyX3++X0+nUruZGeb1eOZ1Os2MBQEIxAwgAcWbMqozN/k2dPjO2DAATCTOAAM54P/jBD3TWWWcpLS1N559/vt55552T3pfVapVhGGpqbJDVapXP59OO7fUJTAsA5qMAAjij/fKXv9Tq1at177336t1339XZZ5+thQsXqrOz86T2F41G5fF4VFFZrWg0KpfLparZcxOcGgDMRQEEcEb7zne+o1tvvVVf+tKXVFVVpSeeeEJOp1P/+q//elL7a9yxXT6fT5K0s3mHDMNIZFwAGBc4BxDAGSsUCmnr1q1au3Zt7LOUlBQtWLBAtbW1J9wmGAwqGAzG3o8ueFXVc2LLsyqqE5wYAMYHZgABnLGOHDmiSCSiwsLCEZ8XFhaqvb39hNusW7dOmZmZsVdZWdnHERUAxhVmAAEklbVr12r16tWx9/39/Zo8efJHPtR7bFw0Gj0t+QDg40ABBHDGysvLk9VqVUdHx4jPOzo6VFRUdMJtHA5H7FFv0l8K3V87E+j1epWZmflXJgaA8YFDwADOWHa7XfPnz9fmzZtjnw0PD2vz5s2qqan5SPsoKSlRS0uL+vr61NLSIklqaWlRf3//ce/7+/tj40pKShL/gwDgY8IMIIAz2urVq7VkyRJ94hOf0HnnnadHHnlEPp9PX/rSlz7S9ikpKSotLZUkWSwWSZLH45HH44mNGf2emT8AZzoKIIAz2t///d+rq6tLX/va19Te3q558+bp5ZdfPu7CEADAX1iinMkMAJKOng+YmZmp/v5+eTye494DwETBOYAA8GcOh0P33ntv7CKR0e8BYKJgBhAAACDJMAMIAACQZCiAAAAASYYCCAAAkGQogAAAAEmGAggg6d13332yWCwjXmeddVZs/eDgoFasWKHc3FxlZGRo8eLFxz1+DgDOJBRAAElv+/btslgs+u53v6stW7bohhtuUG9vrzo7OyVJq1at0gsvvKBnn31Wr7/+ulpbW3X11VebnBoATh63gQGQ9CZNmqRgMKgjR45IOvo84bKyMt1+++1avny58vPztWHDBl1zzTWSpKamJlVWVqq2tlYXXHCBmdEB4KTwKDgASS0UCqmtrU12u10lJSVKS0tTTU2NLrjgAtXW1uq8885TOBzWggULYttUVFRo8uTJFEAAZywOAQNIakeOHFE0GtU999yjl19+WY8//rj27dun3/3udzp8+LDa29tlt9uVlZU1YrvCwkK1t7ebExoAThEzgAAg6TOf+Yzmzp2ruXPn6vzzz1dhYaF6enrMjgUApwUzgACSWl5enqxW64irerOysuR2u2W1WlVUVKRQKKS+vr4R23V0dKioqOhjTgsAiUEBBJDU7Ha75s+fr82bN8c+MwxDPT09qqio0Pz582Wz2Uasb25u1sGDB1VTU2NGZAA4ZRwCBpD08vPz9S//8i8qLy9XSUmJ7rrrLknSgw8+qMzMTN1yyy1avXq1cnJy5PF4dPvtt8cuFAGAMxEFEEDSy8jIUHp6uu68805JUk5Ojp599llVV1dLkr773e8qJSVFixcvVjAY1MKFC/XYY4+ZGRkATgn3AQQAAEgynAMIAACQZCiAAAAASYYCCAAAkGQogAAAAEmGAggAAJBkKIAAAABJhgIIAACQZCiAAAAASYYCCAAAkGQogACSxgMPPKCUlBRt27bN7CjHaWtrU3p6uv7pn/7J7CgAkgCPggOQFDo6OjR9+nRdfvnleuaZZ8yOc0Jf/vKX9dhjj6mhoUEzZ840Ow6ACYwZQABJ4Vvf+pYGBga0du1as6OM6a677tLw8LDuueces6MAmOCYAQQw4fn9fpWUlKisrGxcHv6Nt2DBAr3xxhtqaWlRYWGh2XEATFDMAAIYl/7+7/9eFotFd91113Hrdu7cqYyMDGVkZGjXrl0fuq9nn31W/f39uu6668Yc88ILL8hisej2228/4fqlS5fKYrFo8+bNsc/2798vi8Wi//7f/7v6+vp05513asqUKUpPT9fZZ5+tjRs3xsb+4he/0Kc+9Sm53W6VlZXpq1/9qsLh8HHfc/311yscDmv9+vUf+rsA4GRRAAGMS0888YRKS0v1f//v/9Vrr70W+zwcDuuGG26Qz+fTI488ohkzZnzovl588UVJ0qc//ekxx7z33nuSpHnz5n3k9XV1dZKkrKwsnXPOOfrVr36l888/XxUVFaqvr9fVV1+tpqYm3XzzzVq6dKmys7N18cUXq6OjQ9/+9rf1ne9857jvOZYxvjwCQKJRAAGMS9nZ2frpT38qSbrpppvU29srSbrvvvv0pz/9SVdddZWWLl36kfb1X//1X0pNTdU555wz5phjBe9EY8LhsLZv367S0lLl5ubGPn///fclSc8//7yWLFmiXbt26Re/+IXeffddXXnllQqFQrriiivU2NioXbt26YUXXtDzzz+vZ599VpL061//+rjvmjp1qvLy8vTOO+9ocHDwI/0+APhrUQABjFsXX3yxvvKVr+jQoUNatmyZ/uu//ksPPvigiouL9aMf/egj7aOzs1MdHR0qKytTenr6mOPee+892Ww2VVdXH7dux44dCoVCx80OHpsB/MIXvqD77rtPVqtVkmSxWHT55ZdLknp6evSrX/1KxcXFse2OrWtrazthllmzZikYDKqxsfEj/UYA+GtRAAGMa9/4xjc0b948PfPMM7riiisUjUb15JNPKi8v7yNt39nZKenojOJYenp6dODAAVVUVMjhcBy3/ljRG6sA3nvvvcdtYxiGJOnmm29WaWnpiHX9/f2SNOZvyMnJkSR1dXWNmRkATgUFEMC4Zrfb9dRTT0k6WqqWLVumhQsXfuTtj5Utt9s95pgPOvwbvz6+APb392v//v2aNm3aCWcNjx0e/ru/+7vj1h27ErmqquqE3+fxeCRJfX19Y2YGgFNBAQQw7v3yl7+MLdfV1SkSiXzkbTMzMyVJXq93zDEncwHIsYL3yU9+8oTb1NXVyWKxaP78+SdcJ41dOI+V1qysrDEzA8CpoAACGNd+//vf69vf/raKioq0YMEC1dbW6pvf/OZH3r6goEDS0cO8YzlW8ObMmXPcOq/Xq7feeksej0dTp06NfT7WYWFJCgQC2rlzp6ZNm3bCmcdj5XGsAnjsgpf8/PwxMwPAqaAAAhi3DMPQjTfeqEgkoieffFJPP/208vPz9fWvf11vv/32R9pHQUGBioqK1NLSIr/ff8Ix7777riTJ6XQet+6pp55SKBTS3LlzZbFYYp9/UImrr69XJBIZs+B9UHmUpKamJjkcDlVWVo75uwDgVFAAAYxbK1eu1P79+7Vy5UpddtllKiws1I9//GMNDQ3pH/7hH+Tz+T7Sfi688EJFIpHYTF88n8+nnTt3SpKefvppxT8c6be//a3WrFkjScc9m/eDDuN+0LpQKKTGxkZNnjw5drFHvD179qi7u1vnnXee0tLSPtLvA4C/FgUQwLj07LPP6t/+7d9UVVWlhx56KPb53/3d3+nWW2/V7t279eUvf/kj7WvRokWSpC1bthy3rr6+XsPDw5o6daoef/xxVVRUaNGiRaqqqtKiRYtiF3j85je/0Ze+9CVJ0tDQkBoaGjRp0qQTHqb9oItKGhoaFA6Hx5wdPJbxWGYAOB0ogADGncOHD+t//I//Ibvdrp/97GfH3b/vu9/9rmbMmKGf/OQneu655z50f1/84heVmZmpDRs2HLfuWFlbsmSJnnjiCQWDQW3evFk2m00bNmzQ008/rbKyMlmtVp177rmSjh6iDQaDYx7C/aBDvMcOHY+17YYNG2Sz2XTzzTd/6O8CgJNlicYf7wCACWrVqlV65JFH9Kc//WnElblLly7VT37yE73wwgu64oorTEwoHTp0SOXl5brmmmtGXPkMAInGDCCApLB27VplZGRo3bp1Iz4/NgN4otu1fNwefvhhpaSk6IEHHjA7CoAJjgIIICkUFBTozjvv1K9//evYjZiPPeO3qKhoxKPazNDW1qYf/vCHuvXWWzVr1ixTswCY+DgEDCBpvf/++5o3b54++9nPauPGjWbHAYCPDQUQAAAgyXAIGAAAIMn8f2NCR7q1SJvpAAAAAElFTkSuQmCC' width=640.0/>\n",
       "            </div>\n",
       "        "
      ],
      "text/plain": [
       "Canvas(toolbar=Toolbar(toolitems=[('Home', 'Reset original view', 'home', 'home'), ('Back', 'Back to previous …"
      ]
     },
     "metadata": {},
     "output_type": "display_data"
    }
   ],
   "source": [
    "sw.plot_probe_map(recording_nwb)"
   ]
  },
  {
   "cell_type": "markdown",
   "metadata": {},
   "source": [
    "The `widgets` module includes several convenient plotting functions that can be used to explore the data:"
   ]
  },
  {
   "cell_type": "markdown",
   "metadata": {
    "pycharm": {
     "name": "#%% md\n"
    }
   },
   "source": [
    "### Properties \n",
    "\n",
    "`RecordingExtractor` object can have *properties*. A property is a piece of information attached to a channel, e.g. group or location.\n",
    "\n",
    "Similarly, for `SortingExtractor` objects (that we'll cover later), anything related to a unit can be stored as a property. \n",
    "\n",
    "We can check which properties are in the extractor as follows:"
   ]
  },
  {
   "cell_type": "code",
   "execution_count": 17,
   "metadata": {
    "pycharm": {
     "name": "#%%\n"
    }
   },
   "outputs": [
    {
     "name": "stdout",
     "output_type": "stream",
     "text": [
      "Properties:\n",
      " ['gain_to_uV', 'offset_to_uV', 'contact_vector', 'location', 'group', 'imp', 'brain_area', 'filtering', 'shank_electrode_number', 'channel_name']\n"
     ]
    }
   ],
   "source": [
    "print(\"Properties:\\n\", list(recording_nwb.get_property_keys()))"
   ]
  },
  {
   "cell_type": "markdown",
   "metadata": {
    "pycharm": {
     "name": "#%% md\n"
    }
   },
   "source": [
    "Let's add some new properties! \n",
    "The first 192 channels are in the CA1 area, the second 192 are in the CA3 area:"
   ]
  },
  {
   "cell_type": "code",
   "execution_count": null,
   "metadata": {
    "pycharm": {
     "name": "#%%\n"
    }
   },
   "outputs": [
    {
     "name": "stdout",
     "output_type": "stream",
     "text": [
      "['CA1', 'CA1', 'CA1', 'CA1', 'CA1', 'CA1', 'CA1', 'CA1', 'CA1', 'CA1', 'CA1', 'CA1', 'CA1', 'CA1', 'CA1', 'CA1', 'CA1', 'CA1', 'CA1', 'CA1', 'CA1', 'CA1', 'CA1', 'CA1', 'CA1', 'CA1', 'CA1', 'CA1', 'CA1', 'CA1', 'CA1', 'CA1', 'CA1', 'CA1', 'CA1', 'CA1', 'CA1', 'CA1', 'CA1', 'CA1', 'CA1', 'CA1', 'CA1', 'CA1', 'CA1', 'CA1', 'CA1', 'CA1', 'CA1', 'CA1', 'CA1', 'CA1', 'CA1', 'CA1', 'CA1', 'CA1', 'CA1', 'CA1', 'CA1', 'CA1', 'CA1', 'CA1', 'CA1', 'CA1', 'CA1', 'CA1', 'CA1', 'CA1', 'CA1', 'CA1', 'CA1', 'CA1', 'CA1', 'CA1', 'CA1', 'CA1', 'CA1', 'CA1', 'CA1', 'CA1', 'CA1', 'CA1', 'CA1', 'CA1', 'CA1', 'CA1', 'CA1', 'CA1', 'CA1', 'CA1', 'CA1', 'CA1', 'CA1', 'CA1', 'CA1', 'CA1', 'CA1', 'CA1', 'CA1', 'CA1', 'CA1', 'CA1', 'CA1', 'CA1', 'CA1', 'CA1', 'CA1', 'CA1', 'CA1', 'CA1', 'CA1', 'CA1', 'CA1', 'CA1', 'CA1', 'CA1', 'CA1', 'CA1', 'CA1', 'CA1', 'CA1', 'CA1', 'CA1', 'CA1', 'CA1', 'CA1', 'CA1', 'CA1', 'CA1', 'CA1', 'CA1', 'CA1', 'CA1', 'CA1', 'CA1', 'CA1', 'CA1', 'CA1', 'CA1', 'CA1', 'CA1', 'CA1', 'CA1', 'CA1', 'CA1', 'CA1', 'CA1', 'CA1', 'CA1', 'CA1', 'CA1', 'CA1', 'CA1', 'CA1', 'CA1', 'CA1', 'CA1', 'CA1', 'CA1', 'CA1', 'CA1', 'CA1', 'CA1', 'CA1', 'CA1', 'CA1', 'CA1', 'CA1', 'CA1', 'CA1', 'CA1', 'CA1', 'CA1', 'CA1', 'CA1', 'CA1', 'CA1', 'CA1', 'CA1', 'CA1', 'CA1', 'CA1', 'CA1', 'CA1', 'CA1', 'CA1', 'CA1', 'CA1', 'CA1', 'CA1', 'CA1', 'CA1', 'CA3', 'CA3', 'CA3', 'CA3', 'CA3', 'CA3', 'CA3', 'CA3', 'CA3', 'CA3', 'CA3', 'CA3', 'CA3', 'CA3', 'CA3', 'CA3', 'CA3', 'CA3', 'CA3', 'CA3', 'CA3', 'CA3', 'CA3', 'CA3', 'CA3', 'CA3', 'CA3', 'CA3', 'CA3', 'CA3', 'CA3', 'CA3', 'CA3', 'CA3', 'CA3', 'CA3', 'CA3', 'CA3', 'CA3', 'CA3', 'CA3', 'CA3', 'CA3', 'CA3', 'CA3', 'CA3', 'CA3', 'CA3', 'CA3', 'CA3', 'CA3', 'CA3', 'CA3', 'CA3', 'CA3', 'CA3', 'CA3', 'CA3', 'CA3', 'CA3', 'CA3', 'CA3', 'CA3', 'CA3', 'CA3', 'CA3', 'CA3', 'CA3', 'CA3', 'CA3', 'CA3', 'CA3', 'CA3', 'CA3', 'CA3', 'CA3', 'CA3', 'CA3', 'CA3', 'CA3', 'CA3', 'CA3', 'CA3', 'CA3', 'CA3', 'CA3', 'CA3', 'CA3', 'CA3', 'CA3', 'CA3', 'CA3', 'CA3', 'CA3', 'CA3', 'CA3', 'CA3', 'CA3', 'CA3', 'CA3', 'CA3', 'CA3', 'CA3', 'CA3', 'CA3', 'CA3', 'CA3', 'CA3', 'CA3', 'CA3', 'CA3', 'CA3', 'CA3', 'CA3', 'CA3', 'CA3', 'CA3', 'CA3', 'CA3', 'CA3', 'CA3', 'CA3', 'CA3', 'CA3', 'CA3', 'CA3', 'CA3', 'CA3', 'CA3', 'CA3', 'CA3', 'CA3', 'CA3', 'CA3', 'CA3', 'CA3', 'CA3', 'CA3', 'CA3', 'CA3', 'CA3', 'CA3', 'CA3', 'CA3', 'CA3', 'CA3', 'CA3', 'CA3', 'CA3', 'CA3', 'CA3', 'CA3', 'CA3', 'CA3', 'CA3', 'CA3', 'CA3', 'CA3', 'CA3', 'CA3', 'CA3', 'CA3', 'CA3', 'CA3', 'CA3', 'CA3', 'CA3', 'CA3', 'CA3', 'CA3', 'CA3', 'CA3', 'CA3', 'CA3', 'CA3', 'CA3', 'CA3', 'CA3', 'CA3', 'CA3', 'CA3', 'CA3', 'CA3', 'CA3', 'CA3', 'CA3', 'CA3', 'CA3', 'CA3', 'CA3', 'CA3', 'CA3']\n"
     ]
    }
   ],
   "source": [
    "brain_area_property_values = ['CA1']*192 + ['CA3']*192\n",
    "print(brain_area_property_values)"
   ]
  },
  {
   "cell_type": "code",
   "execution_count": 19,
   "metadata": {},
   "outputs": [],
   "source": [
    "recording_nwb.set_property(key='brain_area', values=brain_area_property_values)"
   ]
  },
  {
   "cell_type": "markdown",
   "metadata": {
    "pycharm": {
     "name": "#%% md\n"
    }
   },
   "source": [
    "We can also specify a property on a subset of channels. In this case, the non-specified channels will be filled empty values:"
   ]
  },
  {
   "cell_type": "code",
   "execution_count": 20,
   "metadata": {
    "pycharm": {
     "name": "#%%\n"
    }
   },
   "outputs": [],
   "source": [
    "recording_nwb.set_property(key='quality', values=[\"good\"]*(recording_nwb.get_num_channels() - 3),\n",
    "                           ids=recording_nwb.get_channel_ids()[:-3])"
   ]
  },
  {
   "cell_type": "code",
   "execution_count": 21,
   "metadata": {},
   "outputs": [
    {
     "data": {
      "text/plain": [
       "array(['good', 'good', 'good', 'good', 'good', 'good', 'good', '', '', ''],\n",
       "      dtype='<U4')"
      ]
     },
     "execution_count": 21,
     "metadata": {},
     "output_type": "execute_result"
    }
   ],
   "source": [
    "recording_nwb.get_property(\"quality\")[-10:]"
   ]
  },
  {
   "cell_type": "code",
   "execution_count": 22,
   "metadata": {},
   "outputs": [
    {
     "name": "stdout",
     "output_type": "stream",
     "text": [
      "Properties after adding custom properties:\n",
      " ['gain_to_uV', 'offset_to_uV', 'contact_vector', 'location', 'group', 'imp', 'brain_area', 'filtering', 'shank_electrode_number', 'channel_name', 'quality']\n"
     ]
    }
   ],
   "source": [
    "print(\"Properties after adding custom properties:\\n\", list(recording_nwb.get_property_keys()))"
   ]
  },
  {
   "cell_type": "markdown",
   "metadata": {},
   "source": [
    "**NOTE:** Internally the properties is just a dictionary attached to the recording that is accessible as `_properties`"
   ]
  },
  {
   "cell_type": "code",
   "execution_count": 23,
   "metadata": {},
   "outputs": [
    {
     "name": "stdout",
     "output_type": "stream",
     "text": [
      "dict_keys(['gain_to_uV', 'offset_to_uV', 'contact_vector', 'location', 'group', 'imp', 'brain_area', 'filtering', 'shank_electrode_number', 'channel_name', 'quality'])\n"
     ]
    }
   ],
   "source": [
    "print(recording_nwb._properties.keys())"
   ]
  },
  {
   "cell_type": "markdown",
   "metadata": {
    "pycharm": {
     "name": "#%% md\n"
    }
   },
   "source": [
    "### Annotations"
   ]
  },
  {
   "cell_type": "markdown",
   "metadata": {
    "pycharm": {
     "name": "#%% md\n"
    }
   },
   "source": [
    "*Annotations* can be attached to any object and they can carry any information related to the recording or sorting objects.\n",
    "\n",
    "Let's add an annotation about this tutorial:"
   ]
  },
  {
   "cell_type": "code",
   "execution_count": 24,
   "metadata": {
    "pycharm": {
     "name": "#%%\n"
    }
   },
   "outputs": [],
   "source": [
    "recording_nwb.annotate(description=\"Dataset for COSYNE 2023 tutorial.\")"
   ]
  },
  {
   "cell_type": "code",
   "execution_count": 25,
   "metadata": {},
   "outputs": [
    {
     "name": "stdout",
     "output_type": "stream",
     "text": [
      "['is_filtered', 'probes_info', 'description']\n"
     ]
    }
   ],
   "source": [
    "print(recording_nwb.get_annotation_keys())"
   ]
  },
  {
   "cell_type": "markdown",
   "metadata": {},
   "source": [
    "# 2. Preprocessing <a class=\"anchor\" id=\"preprocessing\"></a>\n",
    "\n",
    "\n",
    "Now that the probe information is loaded we can do some preprocessing using `preprocessing` module.\n",
    "\n",
    "We can filter the recordings, rereference the signals to remove noise, discard noisy channels, whiten the data, remove stimulation artifacts, etc. (more info [here](https://spiketoolkit.readthedocs.io/en/latest/preprocessing_example.html)).\n",
    "\n",
    "For this notebook, let's filter the recordings and apply common median reference (CMR). All preprocessing modules return new `RecordingExtractor` objects that apply the underlying preprocessing function. This allows users to access the preprocessed data in the same way as the raw data."
   ]
  },
  {
   "cell_type": "code",
   "execution_count": 26,
   "metadata": {},
   "outputs": [],
   "source": [
    "recording_to_process = recording_nwb"
   ]
  },
  {
   "cell_type": "markdown",
   "metadata": {
    "pycharm": {
     "name": "#%% md\n"
    }
   },
   "source": [
    "Below, we bandpass filter the recording and apply common median reference to the original recording:"
   ]
  },
  {
   "cell_type": "code",
   "execution_count": 27,
   "metadata": {
    "pycharm": {
     "name": "#%%\n"
    }
   },
   "outputs": [],
   "source": [
    "recording_f = spre.bandpass_filter(recording_to_process, freq_min=300, freq_max=6000)"
   ]
  },
  {
   "cell_type": "markdown",
   "metadata": {
    "pycharm": {
     "name": "#%% md\n"
    }
   },
   "source": [
    "Let's now apply Common Median Reference (CMR):"
   ]
  },
  {
   "cell_type": "code",
   "execution_count": 28,
   "metadata": {},
   "outputs": [],
   "source": [
    "recording_cmr = spre.common_reference(recording_f, reference='global', operator='median')"
   ]
  },
  {
   "cell_type": "markdown",
   "metadata": {},
   "source": [
    "We can plot the traces after applying CMR:"
   ]
  },
  {
   "cell_type": "code",
   "execution_count": 29,
   "metadata": {},
   "outputs": [],
   "source": [
    "w = sw.plot_timeseries({\"raw\": recording_to_process, \"filt\": recording_f, \"common\": recording_cmr},\n",
    "                        clim=(-50, 50), time_range=[10, 10.1], order_channel_by_depth=True,\n",
    "                        backend=\"ipywidgets\")"
   ]
  },
  {
   "cell_type": "markdown",
   "metadata": {},
   "source": [
    "## Take only 5 min. for demo"
   ]
  },
  {
   "cell_type": "markdown",
   "metadata": {
    "pycharm": {
     "name": "#%% md\n"
    }
   },
   "source": [
    "Since we are going to spike sort the data, let's first cut out a 5-minute recording, to speed up computations.\n",
    "\n",
    "We can easily do so with the `frame_slice()` function:"
   ]
  },
  {
   "cell_type": "code",
   "execution_count": null,
   "metadata": {
    "pycharm": {
     "name": "#%%\n"
    }
   },
   "outputs": [
    {
     "data": {
      "text/plain": [
       "FrameSliceRecording: 384 channels - 1 segments - 30.0kHz - 300.000s"
      ]
     },
     "execution_count": 30,
     "metadata": {},
     "output_type": "execute_result"
    }
   ],
   "source": [
    "fs = recording_cmr.get_sampling_frequency()\n",
    "recording_sub = recording_cmr.frame_slice(start_frame=0*fs, end_frame=300*fs)\n",
    "recording_sub"
   ]
  },
  {
   "cell_type": "code",
   "execution_count": 31,
   "metadata": {},
   "outputs": [
    {
     "data": {
      "text/plain": [
       "FrameSliceSorting: 77 units - 1 segments - 30.0kHz"
      ]
     },
     "execution_count": 31,
     "metadata": {},
     "output_type": "execute_result"
    }
   ],
   "source": [
    "sorting_nwb_sub = sorting_nwb.frame_slice(start_frame=0*fs, end_frame=300*fs)\n",
    "sorting_nwb_sub"
   ]
  },
  {
   "cell_type": "markdown",
   "metadata": {
    "pycharm": {
     "name": "#%% md\n"
    }
   },
   "source": [
    "# 3. Saving and loading SpikeInterface objects <a class=\"anchor\" id=\"save-load\"></a>\n",
    "\n",
    "All operations in SpikeInterface are *lazy*, meaning that they are not performed if not needed. This is why the creation of our filter recording was almost instantaneous. However, to speed up further processing, we might want to **save** it to a file and perform those operations (eg. filters, CMR, etc.) at once. "
   ]
  },
  {
   "cell_type": "code",
   "execution_count": 32,
   "metadata": {},
   "outputs": [],
   "source": [
    "job_kwargs = dict(n_jobs=10, chunk_duration=\"1s\", progress_bar=True)"
   ]
  },
  {
   "cell_type": "code",
   "execution_count": 33,
   "metadata": {
    "pycharm": {
     "name": "#%%\n"
    }
   },
   "outputs": [],
   "source": [
    "if (base_folder / \"preprocessed\").is_dir():\n",
    "    recording_saved = si.load_extractor(base_folder / \"preprocessed\")\n",
    "else:\n",
    "    recording_saved = recording_sub.save(folder=base_folder / \"preprocessed\", **job_kwargs)"
   ]
  },
  {
   "cell_type": "markdown",
   "metadata": {
    "pycharm": {
     "name": "#%% md\n"
    }
   },
   "source": [
    "If we inspect the `preprocessed` folder, we find that a few files have been saved. Let's take a look at what they are:"
   ]
  },
  {
   "cell_type": "code",
   "execution_count": 34,
   "metadata": {},
   "outputs": [
    {
     "data": {
      "text/plain": [
       "BinaryFolderRecording: 384 channels - 1 segments - 30.0kHz - 300.000s"
      ]
     },
     "execution_count": 34,
     "metadata": {},
     "output_type": "execute_result"
    }
   ],
   "source": [
    "recording_saved"
   ]
  },
  {
   "cell_type": "code",
   "execution_count": 35,
   "metadata": {
    "pycharm": {
     "name": "#%%\n"
    }
   },
   "outputs": [
    {
     "name": "stdout",
     "output_type": "stream",
     "text": [
      "binary.json            \u001b[34mproperties\u001b[m\u001b[m             si_folder.json\r\n",
      "probe.json             provenance.json        traces_cached_seg0.raw\r\n"
     ]
    }
   ],
   "source": [
    "!ls {base_folder}/preprocessed"
   ]
  },
  {
   "cell_type": "markdown",
   "metadata": {
    "pycharm": {
     "name": "#%% md\n"
    }
   },
   "source": [
    "The `traces_cached_seg0.raw` contains the processed raw data, while the `.json` files include information on how to reload the binary file. The `provenance.json` includes the information of the recording before saving it to a binary file, and the `probe.json` represents the probe object. "
   ]
  },
  {
   "cell_type": "markdown",
   "metadata": {
    "pycharm": {
     "name": "#%% md\n"
    }
   },
   "source": [
    "The `save` returns a new *cached* recording that has all the previously loaded information:"
   ]
  },
  {
   "cell_type": "code",
   "execution_count": 36,
   "metadata": {
    "pycharm": {
     "name": "#%%\n"
    }
   },
   "outputs": [
    {
     "name": "stdout",
     "output_type": "stream",
     "text": [
      "Cached channels ids: ['AP0' 'AP1' 'AP2' 'AP3' 'AP4' 'AP5' 'AP6' 'AP7' 'AP8' 'AP9' 'AP10' 'AP11'\n",
      " 'AP12' 'AP13' 'AP14' 'AP15' 'AP16' 'AP17' 'AP18' 'AP19' 'AP20' 'AP21'\n",
      " 'AP22' 'AP23' 'AP24' 'AP25' 'AP26' 'AP27' 'AP28' 'AP29' 'AP30' 'AP31'\n",
      " 'AP32' 'AP33' 'AP34' 'AP35' 'AP36' 'AP37' 'AP38' 'AP39' 'AP40' 'AP41'\n",
      " 'AP42' 'AP43' 'AP44' 'AP45' 'AP46' 'AP47' 'AP48' 'AP49' 'AP50' 'AP51'\n",
      " 'AP52' 'AP53' 'AP54' 'AP55' 'AP56' 'AP57' 'AP58' 'AP59' 'AP60' 'AP61'\n",
      " 'AP62' 'AP63' 'AP64' 'AP65' 'AP66' 'AP67' 'AP68' 'AP69' 'AP70' 'AP71'\n",
      " 'AP72' 'AP73' 'AP74' 'AP75' 'AP76' 'AP77' 'AP78' 'AP79' 'AP80' 'AP81'\n",
      " 'AP82' 'AP83' 'AP84' 'AP85' 'AP86' 'AP87' 'AP88' 'AP89' 'AP90' 'AP91'\n",
      " 'AP92' 'AP93' 'AP94' 'AP95' 'AP96' 'AP97' 'AP98' 'AP99' 'AP100' 'AP101'\n",
      " 'AP102' 'AP103' 'AP104' 'AP105' 'AP106' 'AP107' 'AP108' 'AP109' 'AP110'\n",
      " 'AP111' 'AP112' 'AP113' 'AP114' 'AP115' 'AP116' 'AP117' 'AP118' 'AP119'\n",
      " 'AP120' 'AP121' 'AP122' 'AP123' 'AP124' 'AP125' 'AP126' 'AP127' 'AP128'\n",
      " 'AP129' 'AP130' 'AP131' 'AP132' 'AP133' 'AP134' 'AP135' 'AP136' 'AP137'\n",
      " 'AP138' 'AP139' 'AP140' 'AP141' 'AP142' 'AP143' 'AP144' 'AP145' 'AP146'\n",
      " 'AP147' 'AP148' 'AP149' 'AP150' 'AP151' 'AP152' 'AP153' 'AP154' 'AP155'\n",
      " 'AP156' 'AP157' 'AP158' 'AP159' 'AP160' 'AP161' 'AP162' 'AP163' 'AP164'\n",
      " 'AP165' 'AP166' 'AP167' 'AP168' 'AP169' 'AP170' 'AP171' 'AP172' 'AP173'\n",
      " 'AP174' 'AP175' 'AP176' 'AP177' 'AP178' 'AP179' 'AP180' 'AP181' 'AP182'\n",
      " 'AP183' 'AP184' 'AP185' 'AP186' 'AP187' 'AP188' 'AP189' 'AP190' 'AP191'\n",
      " 'AP192' 'AP193' 'AP194' 'AP195' 'AP196' 'AP197' 'AP198' 'AP199' 'AP200'\n",
      " 'AP201' 'AP202' 'AP203' 'AP204' 'AP205' 'AP206' 'AP207' 'AP208' 'AP209'\n",
      " 'AP210' 'AP211' 'AP212' 'AP213' 'AP214' 'AP215' 'AP216' 'AP217' 'AP218'\n",
      " 'AP219' 'AP220' 'AP221' 'AP222' 'AP223' 'AP224' 'AP225' 'AP226' 'AP227'\n",
      " 'AP228' 'AP229' 'AP230' 'AP231' 'AP232' 'AP233' 'AP234' 'AP235' 'AP236'\n",
      " 'AP237' 'AP238' 'AP239' 'AP240' 'AP241' 'AP242' 'AP243' 'AP244' 'AP245'\n",
      " 'AP246' 'AP247' 'AP248' 'AP249' 'AP250' 'AP251' 'AP252' 'AP253' 'AP254'\n",
      " 'AP255' 'AP256' 'AP257' 'AP258' 'AP259' 'AP260' 'AP261' 'AP262' 'AP263'\n",
      " 'AP264' 'AP265' 'AP266' 'AP267' 'AP268' 'AP269' 'AP270' 'AP271' 'AP272'\n",
      " 'AP273' 'AP274' 'AP275' 'AP276' 'AP277' 'AP278' 'AP279' 'AP280' 'AP281'\n",
      " 'AP282' 'AP283' 'AP284' 'AP285' 'AP286' 'AP287' 'AP288' 'AP289' 'AP290'\n",
      " 'AP291' 'AP292' 'AP293' 'AP294' 'AP295' 'AP296' 'AP297' 'AP298' 'AP299'\n",
      " 'AP300' 'AP301' 'AP302' 'AP303' 'AP304' 'AP305' 'AP306' 'AP307' 'AP308'\n",
      " 'AP309' 'AP310' 'AP311' 'AP312' 'AP313' 'AP314' 'AP315' 'AP316' 'AP317'\n",
      " 'AP318' 'AP319' 'AP320' 'AP321' 'AP322' 'AP323' 'AP324' 'AP325' 'AP326'\n",
      " 'AP327' 'AP328' 'AP329' 'AP330' 'AP331' 'AP332' 'AP333' 'AP334' 'AP335'\n",
      " 'AP336' 'AP337' 'AP338' 'AP339' 'AP340' 'AP341' 'AP342' 'AP343' 'AP344'\n",
      " 'AP345' 'AP346' 'AP347' 'AP348' 'AP349' 'AP350' 'AP351' 'AP352' 'AP353'\n",
      " 'AP354' 'AP355' 'AP356' 'AP357' 'AP358' 'AP359' 'AP360' 'AP361' 'AP362'\n",
      " 'AP363' 'AP364' 'AP365' 'AP366' 'AP367' 'AP368' 'AP369' 'AP370' 'AP371'\n",
      " 'AP372' 'AP373' 'AP374' 'AP375' 'AP376' 'AP377' 'AP378' 'AP379' 'AP380'\n",
      " 'AP381' 'AP382' 'AP383']\n",
      "Channel groups after caching: [0 0 0 0 0 0 0 0 0 0 0 0 0 0 0 0 0 0 0 0 0 0 0 0 0 0 0 0 0 0 0 0 0 0 0 0 0\n",
      " 0 0 0 0 0 0 0 0 0 0 0 0 0 0 0 0 0 0 0 0 0 0 0 0 0 0 0 0 0 0 0 0 0 0 0 0 0\n",
      " 0 0 0 0 0 0 0 0 0 0 0 0 0 0 0 0 0 0 0 0 0 0 0 0 0 0 0 0 0 0 0 0 0 0 0 0 0\n",
      " 0 0 0 0 0 0 0 0 0 0 0 0 0 0 0 0 0 0 0 0 0 0 0 0 0 0 0 0 0 0 0 0 0 0 0 0 0\n",
      " 0 0 0 0 0 0 0 0 0 0 0 0 0 0 0 0 0 0 0 0 0 0 0 0 0 0 0 0 0 0 0 0 0 0 0 0 0\n",
      " 0 0 0 0 0 0 0 0 0 0 0 0 0 0 0 0 0 0 0 0 0 0 0 0 0 0 0 0 0 0 0 0 0 0 0 0 0\n",
      " 0 0 0 0 0 0 0 0 0 0 0 0 0 0 0 0 0 0 0 0 0 0 0 0 0 0 0 0 0 0 0 0 0 0 0 0 0\n",
      " 0 0 0 0 0 0 0 0 0 0 0 0 0 0 0 0 0 0 0 0 0 0 0 0 0 0 0 0 0 0 0 0 0 0 0 0 0\n",
      " 0 0 0 0 0 0 0 0 0 0 0 0 0 0 0 0 0 0 0 0 0 0 0 0 0 0 0 0 0 0 0 0 0 0 0 0 0\n",
      " 0 0 0 0 0 0 0 0 0 0 0 0 0 0 0 0 0 0 0 0 0 0 0 0 0 0 0 0 0 0 0 0 0 0 0 0 0\n",
      " 0 0 0 0 0 0 0 0 0 0 0 0 0 0]\n"
     ]
    }
   ],
   "source": [
    "print(f'Cached channels ids: {recording_saved.get_channel_ids()}')\n",
    "print(f'Channel groups after caching: {recording_saved.get_channel_groups()}')"
   ]
  },
  {
   "cell_type": "markdown",
   "metadata": {
    "pycharm": {
     "name": "#%% md\n"
    }
   },
   "source": [
    "After saving the SI object, we can easily load it back in a new session:"
   ]
  },
  {
   "cell_type": "code",
   "execution_count": 37,
   "metadata": {
    "pycharm": {
     "name": "#%%\n"
    }
   },
   "outputs": [],
   "source": [
    "recording_loaded = si.load_extractor(base_folder / \"preprocessed\")"
   ]
  },
  {
   "cell_type": "code",
   "execution_count": 38,
   "metadata": {},
   "outputs": [
    {
     "name": "stdout",
     "output_type": "stream",
     "text": [
      "Loaded channels ids: ['AP0' 'AP1' 'AP2' 'AP3' 'AP4' 'AP5' 'AP6' 'AP7' 'AP8' 'AP9' 'AP10' 'AP11'\n",
      " 'AP12' 'AP13' 'AP14' 'AP15' 'AP16' 'AP17' 'AP18' 'AP19' 'AP20' 'AP21'\n",
      " 'AP22' 'AP23' 'AP24' 'AP25' 'AP26' 'AP27' 'AP28' 'AP29' 'AP30' 'AP31'\n",
      " 'AP32' 'AP33' 'AP34' 'AP35' 'AP36' 'AP37' 'AP38' 'AP39' 'AP40' 'AP41'\n",
      " 'AP42' 'AP43' 'AP44' 'AP45' 'AP46' 'AP47' 'AP48' 'AP49' 'AP50' 'AP51'\n",
      " 'AP52' 'AP53' 'AP54' 'AP55' 'AP56' 'AP57' 'AP58' 'AP59' 'AP60' 'AP61'\n",
      " 'AP62' 'AP63' 'AP64' 'AP65' 'AP66' 'AP67' 'AP68' 'AP69' 'AP70' 'AP71'\n",
      " 'AP72' 'AP73' 'AP74' 'AP75' 'AP76' 'AP77' 'AP78' 'AP79' 'AP80' 'AP81'\n",
      " 'AP82' 'AP83' 'AP84' 'AP85' 'AP86' 'AP87' 'AP88' 'AP89' 'AP90' 'AP91'\n",
      " 'AP92' 'AP93' 'AP94' 'AP95' 'AP96' 'AP97' 'AP98' 'AP99' 'AP100' 'AP101'\n",
      " 'AP102' 'AP103' 'AP104' 'AP105' 'AP106' 'AP107' 'AP108' 'AP109' 'AP110'\n",
      " 'AP111' 'AP112' 'AP113' 'AP114' 'AP115' 'AP116' 'AP117' 'AP118' 'AP119'\n",
      " 'AP120' 'AP121' 'AP122' 'AP123' 'AP124' 'AP125' 'AP126' 'AP127' 'AP128'\n",
      " 'AP129' 'AP130' 'AP131' 'AP132' 'AP133' 'AP134' 'AP135' 'AP136' 'AP137'\n",
      " 'AP138' 'AP139' 'AP140' 'AP141' 'AP142' 'AP143' 'AP144' 'AP145' 'AP146'\n",
      " 'AP147' 'AP148' 'AP149' 'AP150' 'AP151' 'AP152' 'AP153' 'AP154' 'AP155'\n",
      " 'AP156' 'AP157' 'AP158' 'AP159' 'AP160' 'AP161' 'AP162' 'AP163' 'AP164'\n",
      " 'AP165' 'AP166' 'AP167' 'AP168' 'AP169' 'AP170' 'AP171' 'AP172' 'AP173'\n",
      " 'AP174' 'AP175' 'AP176' 'AP177' 'AP178' 'AP179' 'AP180' 'AP181' 'AP182'\n",
      " 'AP183' 'AP184' 'AP185' 'AP186' 'AP187' 'AP188' 'AP189' 'AP190' 'AP191'\n",
      " 'AP192' 'AP193' 'AP194' 'AP195' 'AP196' 'AP197' 'AP198' 'AP199' 'AP200'\n",
      " 'AP201' 'AP202' 'AP203' 'AP204' 'AP205' 'AP206' 'AP207' 'AP208' 'AP209'\n",
      " 'AP210' 'AP211' 'AP212' 'AP213' 'AP214' 'AP215' 'AP216' 'AP217' 'AP218'\n",
      " 'AP219' 'AP220' 'AP221' 'AP222' 'AP223' 'AP224' 'AP225' 'AP226' 'AP227'\n",
      " 'AP228' 'AP229' 'AP230' 'AP231' 'AP232' 'AP233' 'AP234' 'AP235' 'AP236'\n",
      " 'AP237' 'AP238' 'AP239' 'AP240' 'AP241' 'AP242' 'AP243' 'AP244' 'AP245'\n",
      " 'AP246' 'AP247' 'AP248' 'AP249' 'AP250' 'AP251' 'AP252' 'AP253' 'AP254'\n",
      " 'AP255' 'AP256' 'AP257' 'AP258' 'AP259' 'AP260' 'AP261' 'AP262' 'AP263'\n",
      " 'AP264' 'AP265' 'AP266' 'AP267' 'AP268' 'AP269' 'AP270' 'AP271' 'AP272'\n",
      " 'AP273' 'AP274' 'AP275' 'AP276' 'AP277' 'AP278' 'AP279' 'AP280' 'AP281'\n",
      " 'AP282' 'AP283' 'AP284' 'AP285' 'AP286' 'AP287' 'AP288' 'AP289' 'AP290'\n",
      " 'AP291' 'AP292' 'AP293' 'AP294' 'AP295' 'AP296' 'AP297' 'AP298' 'AP299'\n",
      " 'AP300' 'AP301' 'AP302' 'AP303' 'AP304' 'AP305' 'AP306' 'AP307' 'AP308'\n",
      " 'AP309' 'AP310' 'AP311' 'AP312' 'AP313' 'AP314' 'AP315' 'AP316' 'AP317'\n",
      " 'AP318' 'AP319' 'AP320' 'AP321' 'AP322' 'AP323' 'AP324' 'AP325' 'AP326'\n",
      " 'AP327' 'AP328' 'AP329' 'AP330' 'AP331' 'AP332' 'AP333' 'AP334' 'AP335'\n",
      " 'AP336' 'AP337' 'AP338' 'AP339' 'AP340' 'AP341' 'AP342' 'AP343' 'AP344'\n",
      " 'AP345' 'AP346' 'AP347' 'AP348' 'AP349' 'AP350' 'AP351' 'AP352' 'AP353'\n",
      " 'AP354' 'AP355' 'AP356' 'AP357' 'AP358' 'AP359' 'AP360' 'AP361' 'AP362'\n",
      " 'AP363' 'AP364' 'AP365' 'AP366' 'AP367' 'AP368' 'AP369' 'AP370' 'AP371'\n",
      " 'AP372' 'AP373' 'AP374' 'AP375' 'AP376' 'AP377' 'AP378' 'AP379' 'AP380'\n",
      " 'AP381' 'AP382' 'AP383']\n",
      "Channel groups after loading: [0 0 0 0 0 0 0 0 0 0 0 0 0 0 0 0 0 0 0 0 0 0 0 0 0 0 0 0 0 0 0 0 0 0 0 0 0\n",
      " 0 0 0 0 0 0 0 0 0 0 0 0 0 0 0 0 0 0 0 0 0 0 0 0 0 0 0 0 0 0 0 0 0 0 0 0 0\n",
      " 0 0 0 0 0 0 0 0 0 0 0 0 0 0 0 0 0 0 0 0 0 0 0 0 0 0 0 0 0 0 0 0 0 0 0 0 0\n",
      " 0 0 0 0 0 0 0 0 0 0 0 0 0 0 0 0 0 0 0 0 0 0 0 0 0 0 0 0 0 0 0 0 0 0 0 0 0\n",
      " 0 0 0 0 0 0 0 0 0 0 0 0 0 0 0 0 0 0 0 0 0 0 0 0 0 0 0 0 0 0 0 0 0 0 0 0 0\n",
      " 0 0 0 0 0 0 0 0 0 0 0 0 0 0 0 0 0 0 0 0 0 0 0 0 0 0 0 0 0 0 0 0 0 0 0 0 0\n",
      " 0 0 0 0 0 0 0 0 0 0 0 0 0 0 0 0 0 0 0 0 0 0 0 0 0 0 0 0 0 0 0 0 0 0 0 0 0\n",
      " 0 0 0 0 0 0 0 0 0 0 0 0 0 0 0 0 0 0 0 0 0 0 0 0 0 0 0 0 0 0 0 0 0 0 0 0 0\n",
      " 0 0 0 0 0 0 0 0 0 0 0 0 0 0 0 0 0 0 0 0 0 0 0 0 0 0 0 0 0 0 0 0 0 0 0 0 0\n",
      " 0 0 0 0 0 0 0 0 0 0 0 0 0 0 0 0 0 0 0 0 0 0 0 0 0 0 0 0 0 0 0 0 0 0 0 0 0\n",
      " 0 0 0 0 0 0 0 0 0 0 0 0 0 0]\n"
     ]
    }
   ],
   "source": [
    "print(f'Loaded channels ids: {recording_loaded.get_channel_ids()}')\n",
    "print(f'Channel groups after loading: {recording_loaded.get_channel_groups()}')"
   ]
  },
  {
   "cell_type": "markdown",
   "metadata": {},
   "source": [
    "We can double check that the traces are exactly the same as the `recording_saved` that we saved:"
   ]
  },
  {
   "cell_type": "markdown",
   "metadata": {
    "pycharm": {
     "name": "#%% md\n"
    }
   },
   "source": [
    "**IMPORTANT**: the same saving mechanisms are available also for all SortingExtractor"
   ]
  },
  {
   "cell_type": "markdown",
   "metadata": {},
   "source": [
    "# 4. Spike sorting <a class=\"anchor\" id=\"spike-sorting\"></a>\n",
    "\n",
    "We can now run spike sorting on the above recording. We will use different spike sorters for this demonstration, to show how easy SpikeInterface makes it easy to interchengably run different sorters :)\n",
    "\n",
    "Let's first check the available and installed sorters in `SpikeInterface`.\n",
    "We will sort the bandpass cached filtered recording the `recording_saved` object."
   ]
  },
  {
   "cell_type": "code",
   "execution_count": 40,
   "metadata": {},
   "outputs": [
    {
     "data": {
      "text/plain": [
       "['combinato',\n",
       " 'hdsort',\n",
       " 'herdingspikes',\n",
       " 'ironclust',\n",
       " 'kilosort',\n",
       " 'kilosort2',\n",
       " 'kilosort2_5',\n",
       " 'kilosort3',\n",
       " 'klusta',\n",
       " 'mountainsort4',\n",
       " 'pykilosort',\n",
       " 'spykingcircus',\n",
       " 'spykingcircus2',\n",
       " 'tridesclous',\n",
       " 'tridesclous2',\n",
       " 'waveclus',\n",
       " 'waveclus_snippets',\n",
       " 'yass']"
      ]
     },
     "execution_count": 40,
     "metadata": {},
     "output_type": "execute_result"
    }
   ],
   "source": [
    "ss.available_sorters()"
   ]
  },
  {
   "cell_type": "code",
   "execution_count": 41,
   "metadata": {},
   "outputs": [
    {
     "data": {
      "text/plain": [
       "['herdingspikes', 'spykingcircus2', 'tridesclous2']"
      ]
     },
     "execution_count": 41,
     "metadata": {},
     "output_type": "execute_result"
    }
   ],
   "source": [
    "ss.installed_sorters()"
   ]
  },
  {
   "cell_type": "markdown",
   "metadata": {},
   "source": [
    "The `spikeinterface.sortingcomponents` module includes functions that can be used to create custom spike sorting pipelines built-in in `SpikeInterface`. It is still experimental and under heavy development, but there are already two SI-based sorters available:\n",
    "\n",
    "* `tridesclous2` (developed by Samuel Garcia)\n",
    "* `spykingcircus2` (developed by Pierre Yger)\n",
    "\n",
    "They can be run with the same `run_sorter` function, but they don't require any additional installation!"
   ]
  },
  {
   "cell_type": "markdown",
   "metadata": {},
   "source": [
    "We can retrieve the parameters associated to any sorter with the `get_default_params()` function from the `sorters` module:"
   ]
  },
  {
   "cell_type": "code",
   "execution_count": 42,
   "metadata": {
    "pycharm": {
     "name": "#%%\n"
    }
   },
   "outputs": [
    {
     "data": {
      "text/plain": [
       "{'detect_sign': -1,\n",
       " 'adjacency_radius': 50,\n",
       " 'adjacency_radius_out': 100,\n",
       " 'detect_threshold': 3.5,\n",
       " 'prm_template_name': '',\n",
       " 'freq_min': 300,\n",
       " 'freq_max': 8000,\n",
       " 'merge_thresh': 0.985,\n",
       " 'pc_per_chan': 9,\n",
       " 'whiten': False,\n",
       " 'filter_type': 'bandpass',\n",
       " 'filter_detect_type': 'none',\n",
       " 'common_ref_type': 'trimmean',\n",
       " 'batch_sec_drift': 300,\n",
       " 'step_sec_drift': 20,\n",
       " 'knn': 30,\n",
       " 'min_count': 30,\n",
       " 'fGpu': True,\n",
       " 'fft_thresh': 8,\n",
       " 'fft_thresh_low': 0,\n",
       " 'nSites_whiten': 16,\n",
       " 'feature_type': 'gpca',\n",
       " 'delta_cut': 1,\n",
       " 'post_merge_mode': 1,\n",
       " 'sort_mode': 1,\n",
       " 'fParfor': False,\n",
       " 'filter': True,\n",
       " 'clip_pre': 0.25,\n",
       " 'clip_post': 0.75,\n",
       " 'merge_thresh_cc': 1,\n",
       " 'nRepeat_merge': 3,\n",
       " 'merge_overlap_thresh': 0.95,\n",
       " 'n_jobs': 10,\n",
       " 'chunk_duration': '1s',\n",
       " 'progress_bar': True}"
      ]
     },
     "execution_count": 42,
     "metadata": {},
     "output_type": "execute_result"
    }
   ],
   "source": [
    "ss.get_default_sorter_params('ironclust')"
   ]
  },
  {
   "cell_type": "code",
   "execution_count": 43,
   "metadata": {
    "pycharm": {
     "name": "#%%\n"
    }
   },
   "outputs": [],
   "source": [
    "ss.run_sorter?"
   ]
  },
  {
   "cell_type": "markdown",
   "metadata": {
    "pycharm": {
     "name": "#%% md\n"
    }
   },
   "source": [
    "To modify a parameter, we can easily pass it to the `run` function as an extra argument!"
   ]
  },
  {
   "cell_type": "markdown",
   "metadata": {},
   "source": [
    "## Run sorter in container\n",
    "\n",
    "Some sorters are hard to install! To alleviate this headache, SI provides a built-in mechanism to run a spike sorting job in a docker container.\n",
    "\n",
    "We are maintaining a set of sorter-specific docker files in the [spikeinterface-dockerfiles repo](<https://github.com/SpikeInterface/spikeinterface-dockerfiles>)\n",
    "and most of the docker images are available on Docker Hub from the [SpikeInterface organization](<https://hub.docker.com/orgs/spikeinterface/repositories>).\n",
    "\n",
    "Running spike sorting in a docker container just requires to:\n",
    "\n",
    "1. have docker/singularity installed\n",
    "2. have docker/singularity python SDK installed (`pip install docker/spython`)\n",
    "3. have docker/singularity booted up and running in the background"
   ]
  },
  {
   "cell_type": "code",
   "execution_count": 46,
   "metadata": {
    "scrolled": false
   },
   "outputs": [
    {
     "name": "stdout",
     "output_type": "stream",
     "text": [
      "Starting container\n",
      "Installing spikeinterface==0.97.0 in spikeinterface/herdingspikes-base\n",
      "Running herdingspikes sorter inside spikeinterface/herdingspikes-base\n",
      "Stopping container\n"
     ]
    }
   ],
   "source": [
    "# run spike sorting on entire recording\n",
    "sorting_herdingspikes = ss.run_sorter(\n",
    "    sorter_name='herdingspikes',\n",
    "    recording=recording_saved,\n",
    "    output_folder=base_folder / 'herdingspikes',\n",
    "    verbose=True,\n",
    "    docker_image=True,\n",
    ")"
   ]
  },
  {
   "cell_type": "code",
   "execution_count": 47,
   "metadata": {},
   "outputs": [
    {
     "name": "stdout",
     "output_type": "stream",
     "text": [
      "HerdingspikesSortingExtractor: 70 units - 1 segments - 30.0kHz\n",
      "  file_path: /Users/codybaker/Downloads/spikeinterface_tutorial/herdingspikes/sorter_output/HS2_sorted.hdf5\n"
     ]
    }
   ],
   "source": [
    "print(sorting_herdingspikes)"
   ]
  },
  {
   "cell_type": "code",
   "execution_count": 48,
   "metadata": {},
   "outputs": [
    {
     "name": "stdout",
     "output_type": "stream",
     "text": [
      "Herdingspikes found 70 units!\n"
     ]
    }
   ],
   "source": [
    "print(f'Herdingspikes found {len(sorting_herdingspikes.get_unit_ids())} units!')"
   ]
  },
  {
   "cell_type": "code",
   "execution_count": 49,
   "metadata": {},
   "outputs": [
    {
     "name": "stdout",
     "output_type": "stream",
     "text": [
      "Herdingspikes found 70 non-empty units!\n"
     ]
    }
   ],
   "source": [
    "sorting_herdingspikes = sorting_herdingspikes.remove_empty_units()\n",
    "print(f'Herdingspikes found {len(sorting_herdingspikes.get_unit_ids())} non-empty units!')"
   ]
  },
  {
   "cell_type": "markdown",
   "metadata": {},
   "source": [
    "# 5. Extracting waveforms <a class=\"anchor\" id=\"waveforms\"></a>\n",
    "\n",
    "Post-processing of spike sorting results revolves around extracting waveforms from paired recording-sorting objects.\n",
    "\n",
    "In the SI API, waveforms are extracted using the `WaveformExtractor` class in the `core` module.\n",
    "\n",
    "The `WaveformExtractor` object has convenient functions to retrieve waveforms and templates.\n",
    "Let's see how it works.\n",
    "\n",
    "To extract the waveforms, we can run:"
   ]
  },
  {
   "cell_type": "code",
   "execution_count": 50,
   "metadata": {},
   "outputs": [
    {
     "name": "stdout",
     "output_type": "stream",
     "text": [
      "UnitsSelectionSorting: 70 units - 1 segments - 30.0kHz\n"
     ]
    }
   ],
   "source": [
    "recording_saved = si.load_extractor(base_folder / \"preprocessed\")\n",
    "sorting = sorting_herdingspikes\n",
    "print(sorting)"
   ]
  },
  {
   "cell_type": "code",
   "execution_count": 51,
   "metadata": {
    "pycharm": {
     "name": "#%%\n"
    }
   },
   "outputs": [],
   "source": [
    "si.extract_waveforms?"
   ]
  },
  {
   "cell_type": "code",
   "execution_count": 52,
   "metadata": {},
   "outputs": [
    {
     "data": {
      "application/vnd.jupyter.widget-view+json": {
       "model_id": "22292930e80349e0a2c6b8b8816060fc",
       "version_major": 2,
       "version_minor": 0
      },
      "text/plain": [
       "extract waveforms memmap:   0%|          | 0/300 [00:00<?, ?it/s]"
      ]
     },
     "metadata": {},
     "output_type": "display_data"
    },
    {
     "name": "stdout",
     "output_type": "stream",
     "text": [
      "WaveformExtractor: 384 channels - 70 units - 1 segments\n",
      "  before:90 after:120 n_per_units:500\n"
     ]
    }
   ],
   "source": [
    "we = si.extract_waveforms(recording_saved, sorting, folder=base_folder / \"waveforms\", \n",
    "                          load_if_exists=False, overwrite=True, **job_kwargs)\n",
    "print(we)"
   ]
  },
  {
   "cell_type": "markdown",
   "metadata": {
    "pycharm": {
     "name": "#%% md\n"
    }
   },
   "source": [
    "Now all waveforms are computed and stored in the provided `waveforms` folder. We can now retrieve waveforms and templates easily:"
   ]
  },
  {
   "cell_type": "code",
   "execution_count": 53,
   "metadata": {},
   "outputs": [
    {
     "name": "stdout",
     "output_type": "stream",
     "text": [
      "Waveforms shape: (500, 210, 384)\n",
      "Template shape: (210, 384)\n",
      "All templates shape: (70, 210, 384)\n"
     ]
    }
   ],
   "source": [
    "waveforms0 = we.get_waveforms(unit_id=0)\n",
    "print(f\"Waveforms shape: {waveforms0.shape}\")\n",
    "template0 = we.get_template(unit_id=0)\n",
    "print(f\"Template shape: {template0.shape}\")\n",
    "all_templates = we.get_all_templates()\n",
    "print(f\"All templates shape: {all_templates.shape}\")"
   ]
  },
  {
   "cell_type": "markdown",
   "metadata": {},
   "source": [
    "For waveforms, the dimension is (num_spikes, num_samples, num_channels), while each template has dimension (num_samples, num_channels). Note that the number of spikes in this case is 500..we'll get back to it later!\n",
    "\n",
    "The `WaveformExtractor` is also compatible with several `widgets` to visualize the spike sorting output:"
   ]
  },
  {
   "cell_type": "code",
   "execution_count": 56,
   "metadata": {},
   "outputs": [
    {
     "name": "stdout",
     "output_type": "stream",
     "text": [
      "Unit 0 - num waveforms: 500 - num spikes: 10185\n",
      "Unit 1 - num waveforms: 500 - num spikes: 2992\n",
      "Unit 2 - num waveforms: 500 - num spikes: 2678\n",
      "Unit 3 - num waveforms: 500 - num spikes: 3570\n",
      "Unit 4 - num waveforms: 500 - num spikes: 2499\n",
      "Unit 5 - num waveforms: 500 - num spikes: 2155\n",
      "Unit 6 - num waveforms: 500 - num spikes: 1998\n",
      "Unit 7 - num waveforms: 500 - num spikes: 2274\n",
      "Unit 8 - num waveforms: 500 - num spikes: 1638\n",
      "Unit 9 - num waveforms: 500 - num spikes: 1530\n",
      "Unit 10 - num waveforms: 500 - num spikes: 1248\n",
      "Unit 11 - num waveforms: 500 - num spikes: 1151\n",
      "Unit 12 - num waveforms: 500 - num spikes: 1535\n",
      "Unit 13 - num waveforms: 500 - num spikes: 1058\n",
      "Unit 14 - num waveforms: 500 - num spikes: 1009\n",
      "Unit 15 - num waveforms: 500 - num spikes: 1001\n",
      "Unit 16 - num waveforms: 500 - num spikes: 1233\n",
      "Unit 17 - num waveforms: 500 - num spikes: 1085\n",
      "Unit 18 - num waveforms: 500 - num spikes: 1151\n",
      "Unit 19 - num waveforms: 500 - num spikes: 1019\n",
      "Unit 20 - num waveforms: 500 - num spikes: 872\n",
      "Unit 21 - num waveforms: 500 - num spikes: 989\n",
      "Unit 22 - num waveforms: 500 - num spikes: 749\n",
      "Unit 23 - num waveforms: 500 - num spikes: 761\n",
      "Unit 24 - num waveforms: 500 - num spikes: 930\n",
      "Unit 25 - num waveforms: 500 - num spikes: 725\n",
      "Unit 26 - num waveforms: 500 - num spikes: 942\n",
      "Unit 27 - num waveforms: 500 - num spikes: 683\n",
      "Unit 28 - num waveforms: 500 - num spikes: 509\n",
      "Unit 29 - num waveforms: 500 - num spikes: 589\n",
      "Unit 30 - num waveforms: 500 - num spikes: 762\n",
      "Unit 31 - num waveforms: 439 - num spikes: 439\n",
      "Unit 32 - num waveforms: 500 - num spikes: 577\n",
      "Unit 33 - num waveforms: 500 - num spikes: 521\n",
      "Unit 34 - num waveforms: 500 - num spikes: 536\n",
      "Unit 35 - num waveforms: 438 - num spikes: 438\n",
      "Unit 36 - num waveforms: 500 - num spikes: 621\n",
      "Unit 37 - num waveforms: 500 - num spikes: 521\n",
      "Unit 38 - num waveforms: 500 - num spikes: 522\n",
      "Unit 39 - num waveforms: 500 - num spikes: 511\n",
      "Unit 40 - num waveforms: 410 - num spikes: 410\n",
      "Unit 41 - num waveforms: 500 - num spikes: 858\n",
      "Unit 42 - num waveforms: 500 - num spikes: 548\n",
      "Unit 43 - num waveforms: 500 - num spikes: 515\n",
      "Unit 44 - num waveforms: 358 - num spikes: 358\n",
      "Unit 45 - num waveforms: 247 - num spikes: 247\n",
      "Unit 46 - num waveforms: 325 - num spikes: 325\n",
      "Unit 47 - num waveforms: 260 - num spikes: 260\n",
      "Unit 48 - num waveforms: 369 - num spikes: 369\n",
      "Unit 49 - num waveforms: 386 - num spikes: 386\n",
      "Unit 50 - num waveforms: 224 - num spikes: 224\n",
      "Unit 51 - num waveforms: 340 - num spikes: 340\n",
      "Unit 52 - num waveforms: 304 - num spikes: 304\n",
      "Unit 53 - num waveforms: 383 - num spikes: 383\n",
      "Unit 54 - num waveforms: 184 - num spikes: 184\n",
      "Unit 55 - num waveforms: 174 - num spikes: 174\n",
      "Unit 56 - num waveforms: 500 - num spikes: 612\n",
      "Unit 57 - num waveforms: 324 - num spikes: 324\n",
      "Unit 58 - num waveforms: 368 - num spikes: 368\n",
      "Unit 59 - num waveforms: 285 - num spikes: 285\n",
      "Unit 60 - num waveforms: 323 - num spikes: 323\n",
      "Unit 61 - num waveforms: 132 - num spikes: 132\n",
      "Unit 62 - num waveforms: 161 - num spikes: 161\n",
      "Unit 63 - num waveforms: 130 - num spikes: 130\n",
      "Unit 64 - num waveforms: 500 - num spikes: 1034\n",
      "Unit 65 - num waveforms: 139 - num spikes: 139\n",
      "Unit 66 - num waveforms: 139 - num spikes: 139\n",
      "Unit 67 - num waveforms: 305 - num spikes: 305\n",
      "Unit 68 - num waveforms: 228 - num spikes: 228\n",
      "Unit 69 - num waveforms: 233 - num spikes: 233\n"
     ]
    }
   ],
   "source": [
    "for unit in sorting.get_unit_ids():\n",
    "    waveforms = we.get_waveforms(unit_id=unit)\n",
    "    spiketrain = sorting.get_unit_spike_train(unit)\n",
    "    print(f\"Unit {unit} - num waveforms: {waveforms.shape[0]} - num spikes: {len(spiketrain)}\")"
   ]
  },
  {
   "cell_type": "markdown",
   "metadata": {},
   "source": [
    "No units have more than 500 spikes! This is because by default, the `WaveformExtractor` extracts waveforms on a random subset of 500 spikes. To extract waveforms on all spikes, we can use the `max_spikes_per_unit` argument:"
   ]
  },
  {
   "cell_type": "code",
   "execution_count": 57,
   "metadata": {},
   "outputs": [
    {
     "data": {
      "application/vnd.jupyter.widget-view+json": {
       "model_id": "f2c062ccdec541d0abf3f9e40703d0f0",
       "version_major": 2,
       "version_minor": 0
      },
      "text/plain": [
       "extract waveforms memmap:   0%|          | 0/300 [00:00<?, ?it/s]"
      ]
     },
     "metadata": {},
     "output_type": "display_data"
    }
   ],
   "source": [
    "we_all = si.extract_waveforms(recording_saved, sorting, folder=base_folder / \"waveforms_all\", \n",
    "                              max_spikes_per_unit=None,\n",
    "                              overwrite=True,\n",
    "                              **job_kwargs)"
   ]
  },
  {
   "cell_type": "code",
   "execution_count": 58,
   "metadata": {},
   "outputs": [
    {
     "name": "stdout",
     "output_type": "stream",
     "text": [
      "Unit 0 - num waveforms: 10185 - num spikes: 10185\n",
      "Unit 1 - num waveforms: 2992 - num spikes: 2992\n",
      "Unit 2 - num waveforms: 2678 - num spikes: 2678\n",
      "Unit 3 - num waveforms: 3570 - num spikes: 3570\n",
      "Unit 4 - num waveforms: 2499 - num spikes: 2499\n",
      "Unit 5 - num waveforms: 2155 - num spikes: 2155\n",
      "Unit 6 - num waveforms: 1998 - num spikes: 1998\n",
      "Unit 7 - num waveforms: 2274 - num spikes: 2274\n",
      "Unit 8 - num waveforms: 1638 - num spikes: 1638\n",
      "Unit 9 - num waveforms: 1530 - num spikes: 1530\n",
      "Unit 10 - num waveforms: 1248 - num spikes: 1248\n",
      "Unit 11 - num waveforms: 1151 - num spikes: 1151\n",
      "Unit 12 - num waveforms: 1535 - num spikes: 1535\n",
      "Unit 13 - num waveforms: 1058 - num spikes: 1058\n",
      "Unit 14 - num waveforms: 1009 - num spikes: 1009\n",
      "Unit 15 - num waveforms: 1001 - num spikes: 1001\n",
      "Unit 16 - num waveforms: 1233 - num spikes: 1233\n",
      "Unit 17 - num waveforms: 1085 - num spikes: 1085\n",
      "Unit 18 - num waveforms: 1151 - num spikes: 1151\n",
      "Unit 19 - num waveforms: 1019 - num spikes: 1019\n",
      "Unit 20 - num waveforms: 872 - num spikes: 872\n",
      "Unit 21 - num waveforms: 989 - num spikes: 989\n",
      "Unit 22 - num waveforms: 749 - num spikes: 749\n",
      "Unit 23 - num waveforms: 761 - num spikes: 761\n",
      "Unit 24 - num waveforms: 930 - num spikes: 930\n",
      "Unit 25 - num waveforms: 725 - num spikes: 725\n",
      "Unit 26 - num waveforms: 942 - num spikes: 942\n",
      "Unit 27 - num waveforms: 683 - num spikes: 683\n",
      "Unit 28 - num waveforms: 509 - num spikes: 509\n",
      "Unit 29 - num waveforms: 589 - num spikes: 589\n",
      "Unit 30 - num waveforms: 762 - num spikes: 762\n",
      "Unit 31 - num waveforms: 439 - num spikes: 439\n",
      "Unit 32 - num waveforms: 577 - num spikes: 577\n",
      "Unit 33 - num waveforms: 521 - num spikes: 521\n",
      "Unit 34 - num waveforms: 536 - num spikes: 536\n",
      "Unit 35 - num waveforms: 438 - num spikes: 438\n",
      "Unit 36 - num waveforms: 621 - num spikes: 621\n",
      "Unit 37 - num waveforms: 521 - num spikes: 521\n",
      "Unit 38 - num waveforms: 522 - num spikes: 522\n",
      "Unit 39 - num waveforms: 511 - num spikes: 511\n",
      "Unit 40 - num waveforms: 410 - num spikes: 410\n",
      "Unit 41 - num waveforms: 858 - num spikes: 858\n",
      "Unit 42 - num waveforms: 548 - num spikes: 548\n",
      "Unit 43 - num waveforms: 515 - num spikes: 515\n",
      "Unit 44 - num waveforms: 358 - num spikes: 358\n",
      "Unit 45 - num waveforms: 247 - num spikes: 247\n",
      "Unit 46 - num waveforms: 325 - num spikes: 325\n",
      "Unit 47 - num waveforms: 260 - num spikes: 260\n",
      "Unit 48 - num waveforms: 369 - num spikes: 369\n",
      "Unit 49 - num waveforms: 386 - num spikes: 386\n",
      "Unit 50 - num waveforms: 224 - num spikes: 224\n",
      "Unit 51 - num waveforms: 340 - num spikes: 340\n",
      "Unit 52 - num waveforms: 304 - num spikes: 304\n",
      "Unit 53 - num waveforms: 383 - num spikes: 383\n",
      "Unit 54 - num waveforms: 184 - num spikes: 184\n",
      "Unit 55 - num waveforms: 174 - num spikes: 174\n",
      "Unit 56 - num waveforms: 612 - num spikes: 612\n",
      "Unit 57 - num waveforms: 324 - num spikes: 324\n",
      "Unit 58 - num waveforms: 368 - num spikes: 368\n",
      "Unit 59 - num waveforms: 285 - num spikes: 285\n",
      "Unit 60 - num waveforms: 323 - num spikes: 323\n",
      "Unit 61 - num waveforms: 132 - num spikes: 132\n",
      "Unit 62 - num waveforms: 161 - num spikes: 161\n",
      "Unit 63 - num waveforms: 130 - num spikes: 130\n",
      "Unit 64 - num waveforms: 1034 - num spikes: 1034\n",
      "Unit 65 - num waveforms: 139 - num spikes: 139\n",
      "Unit 66 - num waveforms: 139 - num spikes: 139\n",
      "Unit 67 - num waveforms: 305 - num spikes: 305\n",
      "Unit 68 - num waveforms: 228 - num spikes: 228\n",
      "Unit 69 - num waveforms: 233 - num spikes: 233\n"
     ]
    }
   ],
   "source": [
    "for unit in sorting.get_unit_ids():\n",
    "    waveforms = we_all.get_waveforms(unit_id=unit)\n",
    "    spiketrain = sorting.get_unit_spike_train(unit)\n",
    "    print(f\"Unit {unit} - num waveforms: {waveforms.shape[0]} - num spikes: {len(spiketrain)}\")"
   ]
  },
  {
   "cell_type": "markdown",
   "metadata": {},
   "source": [
    "Now waveforms have been extracted for all spikes! Let's move on to explore the postprocessing capabilities of the `postprocessing` module."
   ]
  },
  {
   "cell_type": "markdown",
   "metadata": {
    "pycharm": {
     "name": "#%% md\n"
    }
   },
   "source": [
    "# 6. Postprocessing <a class=\"anchor\" id=\"postprocessing\"></a>"
   ]
  },
  {
   "cell_type": "markdown",
   "metadata": {},
   "source": [
    "Postprocessing spike sorting results ranges from computing additional information, such as spike amplitudes and Principal Component Analysis (PCA) scores, to computing features of the extracellular waveforms, similarity between templates and crosscorrelograms. All of this is possible with the `postprocessing` module."
   ]
  },
  {
   "cell_type": "markdown",
   "metadata": {},
   "source": [
    "## Sparsity\n",
    "\n",
    "Especially when working with silicon high-density probes, or when our probe has multiple groups (e.g. multi-shank, tetrodes), we don't care about waveform/templates on all channels. In order to find a subset of channels for each unit, we can use the `get_template_channel_sparsity()`"
   ]
  },
  {
   "cell_type": "code",
   "execution_count": 59,
   "metadata": {},
   "outputs": [],
   "source": [
    "spost.get_template_channel_sparsity?"
   ]
  },
  {
   "cell_type": "code",
   "execution_count": 60,
   "metadata": {},
   "outputs": [
    {
     "name": "stdout",
     "output_type": "stream",
     "text": [
      "['AP110' 'AP112' 'AP114' 'AP115' 'AP116' 'AP118']\n"
     ]
    }
   ],
   "source": [
    "# example: radius\n",
    "sparsity_radius = spost.get_template_channel_sparsity(we, method=\"radius\", radius_um=50)\n",
    "print(sparsity_radius[sorting.unit_ids[0]])"
   ]
  },
  {
   "cell_type": "code",
   "execution_count": 61,
   "metadata": {},
   "outputs": [
    {
     "name": "stdout",
     "output_type": "stream",
     "text": [
      "['AP110' 'AP112' 'AP114' 'AP116']\n"
     ]
    }
   ],
   "source": [
    "# example: best\n",
    "sparsity_best = spost.get_template_channel_sparsity(we, method=\"best_channels\", num_channels=4)\n",
    "print(sparsity_best[sorting.unit_ids[0]])"
   ]
  },
  {
   "cell_type": "markdown",
   "metadata": {
    "pycharm": {
     "name": "#%% md\n"
    }
   },
   "source": [
    "### PCA scores\n",
    "\n",
    "PCA scores can be easily computed with the `compute_principal_components()` function. Similarly to the `extract_waveforms`, the function returns an object of type `WaveformPrincipalComponent` that allows to retrieve all pc scores on demand."
   ]
  },
  {
   "cell_type": "code",
   "execution_count": 64,
   "metadata": {},
   "outputs": [],
   "source": [
    "spost.compute_principal_components?"
   ]
  },
  {
   "cell_type": "code",
   "execution_count": 67,
   "metadata": {},
   "outputs": [
    {
     "data": {
      "application/vnd.jupyter.widget-view+json": {
       "model_id": "a72ee9bd7fd843de95bce30946892cd9",
       "version_major": 2,
       "version_minor": 0
      },
      "text/plain": [
       "Fitting PCA:   0%|          | 0/70 [00:00<?, ?it/s]"
      ]
     },
     "metadata": {},
     "output_type": "display_data"
    },
    {
     "data": {
      "application/vnd.jupyter.widget-view+json": {
       "model_id": "efc9ed0ba59d4d708140a1f8ecdec818",
       "version_major": 2,
       "version_minor": 0
      },
      "text/plain": [
       "Projecting waveforms:   0%|          | 0/70 [00:00<?, ?it/s]"
      ]
     },
     "metadata": {},
     "output_type": "display_data"
    }
   ],
   "source": [
    "pc = spost.compute_principal_components(we, n_components=3,\n",
    "                                        load_if_exists=False,\n",
    "                                        n_jobs=job_kwargs[\"n_jobs\"], \n",
    "                                        progress_bar=job_kwargs[\"progress_bar\"])"
   ]
  },
  {
   "cell_type": "code",
   "execution_count": 68,
   "metadata": {
    "pycharm": {
     "name": "#%%\n"
    }
   },
   "outputs": [
    {
     "name": "stdout",
     "output_type": "stream",
     "text": [
      "PC scores shape: (500, 3, 384)\n",
      "All PC scores shape: (29108, 3, 384)\n"
     ]
    }
   ],
   "source": [
    "pc0 = pc.get_projections(unit_id=0)\n",
    "print(f\"PC scores shape: {pc0.shape}\")\n",
    "all_labels, all_pcs = pc.get_all_projections()\n",
    "print(f\"All PC scores shape: {all_pcs.shape}\")"
   ]
  },
  {
   "cell_type": "markdown",
   "metadata": {},
   "source": [
    "For pc scores of a single unit, the dimension is (num_spikes, num_components, num_channels). "
   ]
  },
  {
   "cell_type": "markdown",
   "metadata": {},
   "source": [
    "## WaveformExtensions\n",
    "\n",
    "When we compute PCA (or use other postprocessing functions), the computed information is added to the waveform folder. The functions act as `WaveformExtensions`:"
   ]
  },
  {
   "cell_type": "code",
   "execution_count": 69,
   "metadata": {},
   "outputs": [
    {
     "data": {
      "text/plain": [
       "['principal_components']"
      ]
     },
     "execution_count": 69,
     "metadata": {},
     "output_type": "execute_result"
    }
   ],
   "source": [
    "we.get_available_extension_names()"
   ]
  },
  {
   "cell_type": "markdown",
   "metadata": {},
   "source": [
    "Each `WaveformExtension` is an object that allows us to retrieve the data:"
   ]
  },
  {
   "cell_type": "code",
   "execution_count": 70,
   "metadata": {},
   "outputs": [
    {
     "name": "stdout",
     "output_type": "stream",
     "text": [
      "WaveformPrincipalComponent: 384 channels - 1 segments\n",
      "  mode: by_channel_local n_components: 3\n"
     ]
    }
   ],
   "source": [
    "pc = we.load_extension(\"principal_components\")\n",
    "print(pc)"
   ]
  },
  {
   "cell_type": "code",
   "execution_count": 71,
   "metadata": {},
   "outputs": [
    {
     "name": "stdout",
     "output_type": "stream",
     "text": [
      "(29108, 3, 384)\n"
     ]
    }
   ],
   "source": [
    "all_labels, all_pcs = pc.get_data()\n",
    "print(all_pcs.shape)"
   ]
  },
  {
   "cell_type": "markdown",
   "metadata": {},
   "source": [
    "### Spike amplitudes"
   ]
  },
  {
   "cell_type": "markdown",
   "metadata": {},
   "source": [
    "Spike amplitudes can be computed with the `get_spike_amplitudes` function."
   ]
  },
  {
   "cell_type": "code",
   "execution_count": 72,
   "metadata": {},
   "outputs": [
    {
     "data": {
      "application/vnd.jupyter.widget-view+json": {
       "model_id": "1bb56d80709c4ee0b4135aa8e659f545",
       "version_major": 2,
       "version_minor": 0
      },
      "text/plain": [
       "extract amplitudes:   0%|          | 0/300 [00:00<?, ?it/s]"
      ]
     },
     "metadata": {},
     "output_type": "display_data"
    }
   ],
   "source": [
    "amplitudes = spost.compute_spike_amplitudes(we, outputs=\"by_unit\", load_if_exists=True, \n",
    "                                            **job_kwargs)"
   ]
  },
  {
   "cell_type": "markdown",
   "metadata": {
    "pycharm": {
     "name": "#%% md\n"
    }
   },
   "source": [
    "By default, all amplitudes are concatenated in one array with all amplitudes form all spikes. With the `output=\"by_unit\"` argument, instead, a dictionary is returned:"
   ]
  },
  {
   "cell_type": "code",
   "execution_count": 75,
   "metadata": {},
   "outputs": [
    {
     "data": {
      "text/plain": [
       "array([-119.53125,  -96.09375, -100.78125, ...,  -96.09375, -110.15625,\n",
       "       -105.46875], dtype=float32)"
      ]
     },
     "execution_count": 75,
     "metadata": {},
     "output_type": "execute_result"
    }
   ],
   "source": [
    "amplitudes[0][0]"
   ]
  },
  {
   "cell_type": "code",
   "execution_count": 74,
   "metadata": {},
   "outputs": [
    {
     "data": {
      "application/vnd.jupyter.widget-view+json": {
       "model_id": "2926fd087c4f40a39f66654f1c9a974f",
       "version_major": 2,
       "version_minor": 0
      },
      "text/plain": [
       "AppLayout(children=(Checkbox(value=False, description='plot histograms', layout=Layout(grid_area='footer')), V…"
      ]
     },
     "metadata": {},
     "output_type": "display_data"
    },
    {
     "data": {
      "text/plain": [
       "<spikeinterface.widgets.ipywidgets.amplitudes.AmplitudesPlotter at 0x7fd073564dc0>"
      ]
     },
     "execution_count": 74,
     "metadata": {},
     "output_type": "execute_result"
    }
   ],
   "source": [
    "sw.plot_amplitudes(we, backend=\"ipywidgets\")"
   ]
  },
  {
   "cell_type": "markdown",
   "metadata": {},
   "source": [
    "### Compute unit and spike locations\n",
    "\n",
    "When using silicon probes, we can estimate the unit (or spike) location with triangulation. This can be done either with a simple center of mass or by assuming a monopolar model:\n",
    "\n",
    "$$V_{ext}(\\boldsymbol{r_{ext}}) = \\frac{I_n}{4 \\pi \\sigma |\\boldsymbol{r_{ext}} - \\boldsymbol{r_{n}}|}$$\n",
    "\n",
    "where $\\boldsymbol{r_{n}}$ is the position of the neuron, and $\\boldsymbol{r_{n}}$ of the electrode(s)."
   ]
  },
  {
   "cell_type": "code",
   "execution_count": 76,
   "metadata": {},
   "outputs": [
    {
     "data": {
      "application/vnd.jupyter.widget-view+json": {
       "model_id": "51cce08b6d804a1abccf43e95af02351",
       "version_major": 2,
       "version_minor": 0
      },
      "text/plain": [
       "localize peaks:   0%|          | 0/300 [00:00<?, ?it/s]"
      ]
     },
     "metadata": {},
     "output_type": "display_data"
    }
   ],
   "source": [
    "unit_locations = spost.compute_unit_locations(we, method=\"monopolar_triangulation\", load_if_exists=True)\n",
    "spike_locations = spost.compute_spike_locations(we, method=\"center_of_mass\", load_if_exists=True,\n",
    "                                                **job_kwargs)"
   ]
  },
  {
   "cell_type": "code",
   "execution_count": 77,
   "metadata": {},
   "outputs": [
    {
     "data": {
      "application/vnd.jupyter.widget-view+json": {
       "model_id": "7ce76d3f9b6f4b2a900452eaabb3ffdb",
       "version_major": 2,
       "version_minor": 0
      },
      "text/plain": [
       "AppLayout(children=(VBox(children=(Label(value='units:'), SelectMultiple(index=(0,), layout=Layout(height='10c…"
      ]
     },
     "metadata": {},
     "output_type": "display_data"
    },
    {
     "data": {
      "text/plain": [
       "<spikeinterface.widgets.ipywidgets.unit_locations.UnitLocationsPlotter at 0x7fd0c04674c0>"
      ]
     },
     "execution_count": 77,
     "metadata": {},
     "output_type": "execute_result"
    }
   ],
   "source": [
    "sw.plot_unit_locations(we, backend=\"ipywidgets\")"
   ]
  },
  {
   "cell_type": "code",
   "execution_count": 78,
   "metadata": {},
   "outputs": [
    {
     "data": {
      "application/vnd.jupyter.widget-view+json": {
       "model_id": "8c45cf356bf948cba4e70cc8f58cf60d",
       "version_major": 2,
       "version_minor": 0
      },
      "text/plain": [
       "AppLayout(children=(VBox(children=(Label(value='units:'), SelectMultiple(index=(0,), layout=Layout(height='10c…"
      ]
     },
     "metadata": {},
     "output_type": "display_data"
    },
    {
     "data": {
      "text/plain": [
       "<spikeinterface.widgets.ipywidgets.spike_locations.SpikeLocationsPlotter at 0x7fd0738f7bb0>"
      ]
     },
     "execution_count": 78,
     "metadata": {},
     "output_type": "execute_result"
    }
   ],
   "source": [
    "sw.plot_spike_locations(we, max_spikes_per_unit=300, backend=\"ipywidgets\")"
   ]
  },
  {
   "cell_type": "markdown",
   "metadata": {},
   "source": [
    "### Compute correlograms"
   ]
  },
  {
   "cell_type": "code",
   "execution_count": 79,
   "metadata": {},
   "outputs": [],
   "source": [
    "ccgs, bins = spost.compute_correlograms(we)"
   ]
  },
  {
   "cell_type": "code",
   "execution_count": 80,
   "metadata": {},
   "outputs": [
    {
     "data": {
      "text/plain": [
       "<spikeinterface.widgets.matplotlib.crosscorrelograms.CrossCorrelogramsPlotter at 0x7fd088a921d0>"
      ]
     },
     "execution_count": 80,
     "metadata": {},
     "output_type": "execute_result"
    },
    {
     "data": {
      "application/vnd.jupyter.widget-view+json": {
       "model_id": "0bd22aa0efe84649bfccb2faa20b9785",
       "version_major": 2,
       "version_minor": 0
      },
      "image/png": "[encoded data removed]",
      "text/html": [
       "\n",
       "            <div style=\"display: inline-block;\">\n",
       "                <div class=\"jupyter-widgets widget-label\" style=\"text-align: center;\">\n",
       "                    Figure\n",
       "                </div>\n",
       "                <img src='data:image/png;base64,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' width=640.0/>\n",
       "            </div>\n",
       "        "
      ],
      "text/plain": [
       "Canvas(toolbar=Toolbar(toolitems=[('Home', 'Reset original view', 'home', 'home'), ('Back', 'Back to previous …"
      ]
     },
     "metadata": {},
     "output_type": "display_data"
    },
    {
     "data": {
      "application/vnd.jupyter.widget-view+json": {
       "model_id": "5702a200d948428d8cbc8fecb4fdeea5",
       "version_major": 2,
       "version_minor": 0
      },
      "image/png": "[encoded data removed]",
      "text/html": [
       "\n",
       "            <div style=\"display: inline-block;\">\n",
       "                <div class=\"jupyter-widgets widget-label\" style=\"text-align: center;\">\n",
       "                    Figure\n",
       "                </div>\n",
       "                <img src='data:image/png;base64,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' width=640.0/>\n",
       "            </div>\n",
       "        "
      ],
      "text/plain": [
       "Canvas(toolbar=Toolbar(toolitems=[('Home', 'Reset original view', 'home', 'home'), ('Back', 'Back to previous …"
      ]
     },
     "metadata": {},
     "output_type": "display_data"
    }
   ],
   "source": [
    "sw.plot_autocorrelograms(we, unit_ids=sorting.unit_ids[:3])\n",
    "sw.plot_crosscorrelograms(we, unit_ids=sorting.unit_ids[:3])"
   ]
  },
  {
   "cell_type": "markdown",
   "metadata": {},
   "source": [
    "### Compute template similarity"
   ]
  },
  {
   "cell_type": "code",
   "execution_count": 81,
   "metadata": {},
   "outputs": [],
   "source": [
    "similarity = spost.compute_template_similarity(we)"
   ]
  },
  {
   "cell_type": "code",
   "execution_count": 83,
   "metadata": {},
   "outputs": [
    {
     "data": {
      "text/plain": [
       "array([[ 1.0000116 ,  0.00702434,  0.00953461, ..., -0.0077904 ,\n",
       "         0.006016  ,  0.02337275],\n",
       "       [ 0.00702434,  1.0000143 ,  0.01633305, ...,  0.00469869,\n",
       "         0.01106327,  0.06301387],\n",
       "       [ 0.00953461,  0.01633305,  1.0000069 , ..., -0.01367528,\n",
       "        -0.00216431,  0.36891627],\n",
       "       ...,\n",
       "       [-0.0077904 ,  0.00469869, -0.01367528, ...,  1.0000087 ,\n",
       "        -0.01176798, -0.01717472],\n",
       "       [ 0.006016  ,  0.01106327, -0.00216431, ..., -0.01176798,\n",
       "         0.9999971 ,  0.01130322],\n",
       "       [ 0.02337275,  0.06301387,  0.36891627, ..., -0.01717472,\n",
       "         0.01130322,  1.0000068 ]], dtype=float32)"
      ]
     },
     "execution_count": 83,
     "metadata": {},
     "output_type": "execute_result"
    }
   ],
   "source": [
    "similarity"
   ]
  },
  {
   "cell_type": "markdown",
   "metadata": {},
   "source": [
    "### Compute template metrics\n",
    "\n",
    "Template metrics, or extracellular features, such as peak to valley duration or full-width half maximum, are important to classify neurons into putative classes (excitatory - inhibitory). The `postprocessing` allows one to compute several of these metrics:"
   ]
  },
  {
   "cell_type": "code",
   "execution_count": 82,
   "metadata": {},
   "outputs": [
    {
     "name": "stdout",
     "output_type": "stream",
     "text": [
      "['peak_to_valley', 'peak_trough_ratio', 'half_width', 'repolarization_slope', 'recovery_slope']\n"
     ]
    }
   ],
   "source": [
    "print(spost.get_template_metric_names())"
   ]
  },
  {
   "cell_type": "code",
   "execution_count": 84,
   "metadata": {
    "pycharm": {
     "name": "#%%\n"
    }
   },
   "outputs": [
    {
     "data": {
      "text/html": [
       "<div>\n",
       "<style scoped>\n",
       "    .dataframe tbody tr th:only-of-type {\n",
       "        vertical-align: middle;\n",
       "    }\n",
       "\n",
       "    .dataframe tbody tr th {\n",
       "        vertical-align: top;\n",
       "    }\n",
       "\n",
       "    .dataframe thead th {\n",
       "        text-align: right;\n",
       "    }\n",
       "</style>\n",
       "<table border=\"1\" class=\"dataframe\">\n",
       "  <thead>\n",
       "    <tr style=\"text-align: right;\">\n",
       "      <th></th>\n",
       "      <th>peak_to_valley</th>\n",
       "      <th>peak_trough_ratio</th>\n",
       "      <th>half_width</th>\n",
       "      <th>repolarization_slope</th>\n",
       "      <th>recovery_slope</th>\n",
       "    </tr>\n",
       "  </thead>\n",
       "  <tbody>\n",
       "    <tr>\n",
       "      <th>0</th>\n",
       "      <td>0.000927</td>\n",
       "      <td>-0.277426</td>\n",
       "      <td>0.000313</td>\n",
       "      <td>287730.43089</td>\n",
       "      <td>-46956.445299</td>\n",
       "    </tr>\n",
       "    <tr>\n",
       "      <th>1</th>\n",
       "      <td>0.00063</td>\n",
       "      <td>-0.3309</td>\n",
       "      <td>0.000187</td>\n",
       "      <td>892814.236653</td>\n",
       "      <td>-123017.987467</td>\n",
       "    </tr>\n",
       "    <tr>\n",
       "      <th>2</th>\n",
       "      <td>0.000673</td>\n",
       "      <td>-0.322092</td>\n",
       "      <td>0.0002</td>\n",
       "      <td>465039.886645</td>\n",
       "      <td>-79102.745394</td>\n",
       "    </tr>\n",
       "    <tr>\n",
       "      <th>3</th>\n",
       "      <td>0.000213</td>\n",
       "      <td>-0.49179</td>\n",
       "      <td>0.000187</td>\n",
       "      <td>1264994.58192</td>\n",
       "      <td>-93619.291777</td>\n",
       "    </tr>\n",
       "    <tr>\n",
       "      <th>4</th>\n",
       "      <td>0.0007</td>\n",
       "      <td>-0.255925</td>\n",
       "      <td>0.000163</td>\n",
       "      <td>733732.342814</td>\n",
       "      <td>-73739.681006</td>\n",
       "    </tr>\n",
       "    <tr>\n",
       "      <th>...</th>\n",
       "      <td>...</td>\n",
       "      <td>...</td>\n",
       "      <td>...</td>\n",
       "      <td>...</td>\n",
       "      <td>...</td>\n",
       "    </tr>\n",
       "    <tr>\n",
       "      <th>65</th>\n",
       "      <td>0.00069</td>\n",
       "      <td>-0.222074</td>\n",
       "      <td>0.00015</td>\n",
       "      <td>593894.688824</td>\n",
       "      <td>-62531.836129</td>\n",
       "    </tr>\n",
       "    <tr>\n",
       "      <th>66</th>\n",
       "      <td>0.00057</td>\n",
       "      <td>-0.365289</td>\n",
       "      <td>0.000193</td>\n",
       "      <td>546970.757291</td>\n",
       "      <td>-83114.639046</td>\n",
       "    </tr>\n",
       "    <tr>\n",
       "      <th>67</th>\n",
       "      <td>0.000467</td>\n",
       "      <td>-0.269792</td>\n",
       "      <td>0.00017</td>\n",
       "      <td>953869.656429</td>\n",
       "      <td>-51734.634502</td>\n",
       "    </tr>\n",
       "    <tr>\n",
       "      <th>68</th>\n",
       "      <td>0.000633</td>\n",
       "      <td>-0.321801</td>\n",
       "      <td>0.000217</td>\n",
       "      <td>342307.10952</td>\n",
       "      <td>-47914.641454</td>\n",
       "    </tr>\n",
       "    <tr>\n",
       "      <th>69</th>\n",
       "      <td>0.000697</td>\n",
       "      <td>-0.321452</td>\n",
       "      <td>0.00023</td>\n",
       "      <td>464797.843354</td>\n",
       "      <td>-66773.342917</td>\n",
       "    </tr>\n",
       "  </tbody>\n",
       "</table>\n",
       "<p>70 rows × 5 columns</p>\n",
       "</div>"
      ],
      "text/plain": [
       "   peak_to_valley peak_trough_ratio half_width repolarization_slope  \\\n",
       "0        0.000927         -0.277426   0.000313         287730.43089   \n",
       "1         0.00063           -0.3309   0.000187        892814.236653   \n",
       "2        0.000673         -0.322092     0.0002        465039.886645   \n",
       "3        0.000213          -0.49179   0.000187        1264994.58192   \n",
       "4          0.0007         -0.255925   0.000163        733732.342814   \n",
       "..            ...               ...        ...                  ...   \n",
       "65        0.00069         -0.222074    0.00015        593894.688824   \n",
       "66        0.00057         -0.365289   0.000193        546970.757291   \n",
       "67       0.000467         -0.269792    0.00017        953869.656429   \n",
       "68       0.000633         -0.321801   0.000217         342307.10952   \n",
       "69       0.000697         -0.321452    0.00023        464797.843354   \n",
       "\n",
       "   recovery_slope  \n",
       "0   -46956.445299  \n",
       "1  -123017.987467  \n",
       "2   -79102.745394  \n",
       "3   -93619.291777  \n",
       "4   -73739.681006  \n",
       "..            ...  \n",
       "65  -62531.836129  \n",
       "66  -83114.639046  \n",
       "67  -51734.634502  \n",
       "68  -47914.641454  \n",
       "69  -66773.342917  \n",
       "\n",
       "[70 rows x 5 columns]"
      ]
     },
     "metadata": {},
     "output_type": "display_data"
    }
   ],
   "source": [
    "template_metrics = spost.calculate_template_metrics(we)\n",
    "display(template_metrics)"
   ]
  },
  {
   "cell_type": "code",
   "execution_count": 85,
   "metadata": {},
   "outputs": [
    {
     "data": {
      "application/vnd.jupyter.widget-view+json": {
       "model_id": "bcac4afd91ba4c5e8ab167f356d9490f",
       "version_major": 2,
       "version_minor": 0
      },
      "text/plain": [
       "AppLayout(children=(VBox(children=(Label(value='units:'), SelectMultiple(layout=Layout(height='10cm', width='3…"
      ]
     },
     "metadata": {},
     "output_type": "display_data"
    },
    {
     "data": {
      "text/plain": [
       "<spikeinterface.widgets.ipywidgets.template_metrics.TemplateMetricsPlotter at 0x7fd073896440>"
      ]
     },
     "execution_count": 85,
     "metadata": {},
     "output_type": "execute_result"
    }
   ],
   "source": [
    "sw.plot_template_metrics(we, include_metrics=[\"peak_to_valley\", \"half_width\"], \n",
    "                         backend=\"ipywidgets\")"
   ]
  },
  {
   "cell_type": "markdown",
   "metadata": {
    "pycharm": {
     "name": "#%% md\n"
    }
   },
   "source": [
    "For more information about these template metrics, we refer to this [documentation](https://github.com/AllenInstitute/ecephys_spike_sorting/tree/master/ecephys_spike_sorting/modules/mean_waveforms) from the Allen Institute."
   ]
  },
  {
   "cell_type": "markdown",
   "metadata": {
    "pycharm": {
     "name": "#%% md\n"
    }
   },
   "source": [
    "# 7. Quality metrics and curation <a class=\"anchor\" id=\"curation\"></a>\n",
    "\n",
    "The `qualitymetrics` module also provides several functions to compute qualitity metrics to validate the spike sorting results.\n",
    "\n",
    "Let's see what metrics are available:"
   ]
  },
  {
   "cell_type": "code",
   "execution_count": 87,
   "metadata": {},
   "outputs": [
    {
     "name": "stdout",
     "output_type": "stream",
     "text": [
      "['num_spikes', 'firing_rate', 'presence_ratio', 'snr', 'isi_violation', 'rp_violation', 'sliding_rp_violation', 'amplitude_cutoff', 'amplitude_median', 'drift']\n",
      "['isolation_distance', 'l_ratio', 'd_prime', 'nearest_neighbor', 'nn_isolation', 'nn_noise_overlap']\n"
     ]
    }
   ],
   "source": [
    "print(sqm.get_quality_metric_list())\n",
    "print(sqm.get_quality_pca_metric_list())"
   ]
  },
  {
   "cell_type": "code",
   "execution_count": 89,
   "metadata": {
    "pycharm": {
     "name": "#%%\n"
    }
   },
   "outputs": [
    {
     "name": "stdout",
     "output_type": "stream",
     "text": [
      "Computing num_spikes\n",
      "Computing firing_rate\n",
      "Computing presence_ratio\n",
      "Computing snr\n",
      "Computing isi_violation\n",
      "Computing rp_violation\n",
      "Error: numba is not installed.\n",
      "compute_refrac_period_violations cannot run without numba.\n",
      "Computing sliding_rp_violation\n",
      "Computing amplitude_cutoff\n",
      "Computing amplitude_median\n",
      "Computing drift\n"
     ]
    },
    {
     "data": {
      "application/vnd.jupyter.widget-view+json": {
       "model_id": "48df5eb8f55e4fcb9a001e7eb2b2b54d",
       "version_major": 2,
       "version_minor": 0
      },
      "text/plain": [
       "Computing PCA metrics:   0%|          | 0/70 [00:00<?, ?it/s]"
      ]
     },
     "metadata": {},
     "output_type": "display_data"
    }
   ],
   "source": [
    "qm = sqm.compute_quality_metrics(we, verbose=True, \n",
    "                                 n_jobs=job_kwargs[\"n_jobs\"])"
   ]
  },
  {
   "cell_type": "code",
   "execution_count": 90,
   "metadata": {
    "pycharm": {
     "name": "#%%\n"
    }
   },
   "outputs": [
    {
     "data": {
      "text/html": [
       "<div>\n",
       "<style scoped>\n",
       "    .dataframe tbody tr th:only-of-type {\n",
       "        vertical-align: middle;\n",
       "    }\n",
       "\n",
       "    .dataframe tbody tr th {\n",
       "        vertical-align: top;\n",
       "    }\n",
       "\n",
       "    .dataframe thead th {\n",
       "        text-align: right;\n",
       "    }\n",
       "</style>\n",
       "<table border=\"1\" class=\"dataframe\">\n",
       "  <thead>\n",
       "    <tr style=\"text-align: right;\">\n",
       "      <th></th>\n",
       "      <th>num_spikes</th>\n",
       "      <th>firing_rate</th>\n",
       "      <th>presence_ratio</th>\n",
       "      <th>snr</th>\n",
       "      <th>isi_violations_ratio</th>\n",
       "      <th>isi_violations_count</th>\n",
       "      <th>sliding_rp_violation</th>\n",
       "      <th>amplitude_cutoff</th>\n",
       "      <th>amplitude_median</th>\n",
       "      <th>drift_ptp</th>\n",
       "      <th>drift_std</th>\n",
       "      <th>drift_mad</th>\n",
       "      <th>isolation_distance</th>\n",
       "      <th>l_ratio</th>\n",
       "      <th>d_prime</th>\n",
       "      <th>nn_hit_rate</th>\n",
       "      <th>nn_miss_rate</th>\n",
       "    </tr>\n",
       "  </thead>\n",
       "  <tbody>\n",
       "    <tr>\n",
       "      <th>0</th>\n",
       "      <td>10185</td>\n",
       "      <td>33.950000</td>\n",
       "      <td>1.0</td>\n",
       "      <td>10.541825</td>\n",
       "      <td>0.007712</td>\n",
       "      <td>8</td>\n",
       "      <td>0.005</td>\n",
       "      <td>0.000337</td>\n",
       "      <td>107.81250</td>\n",
       "      <td>0.336426</td>\n",
       "      <td>0.119377</td>\n",
       "      <td>0.070237</td>\n",
       "      <td>1.582826e+16</td>\n",
       "      <td>NaN</td>\n",
       "      <td>5.984083</td>\n",
       "      <td>0.016082</td>\n",
       "      <td>0.002162</td>\n",
       "    </tr>\n",
       "    <tr>\n",
       "      <th>1</th>\n",
       "      <td>2992</td>\n",
       "      <td>9.973333</td>\n",
       "      <td>1.0</td>\n",
       "      <td>14.861369</td>\n",
       "      <td>0.223412</td>\n",
       "      <td>20</td>\n",
       "      <td>0.040</td>\n",
       "      <td>0.000250</td>\n",
       "      <td>208.59375</td>\n",
       "      <td>0.589545</td>\n",
       "      <td>0.215562</td>\n",
       "      <td>0.197512</td>\n",
       "      <td>1.542560e+17</td>\n",
       "      <td>NaN</td>\n",
       "      <td>5.421937</td>\n",
       "      <td>0.138889</td>\n",
       "      <td>0.010505</td>\n",
       "    </tr>\n",
       "    <tr>\n",
       "      <th>2</th>\n",
       "      <td>2678</td>\n",
       "      <td>8.926667</td>\n",
       "      <td>1.0</td>\n",
       "      <td>10.694035</td>\n",
       "      <td>0.055775</td>\n",
       "      <td>4</td>\n",
       "      <td>0.050</td>\n",
       "      <td>0.002782</td>\n",
       "      <td>147.65625</td>\n",
       "      <td>0.547141</td>\n",
       "      <td>0.198845</td>\n",
       "      <td>0.185374</td>\n",
       "      <td>4.369987e+16</td>\n",
       "      <td>NaN</td>\n",
       "      <td>4.792875</td>\n",
       "      <td>0.073099</td>\n",
       "      <td>0.019000</td>\n",
       "    </tr>\n",
       "    <tr>\n",
       "      <th>3</th>\n",
       "      <td>3570</td>\n",
       "      <td>11.900000</td>\n",
       "      <td>1.0</td>\n",
       "      <td>14.742996</td>\n",
       "      <td>1.843875</td>\n",
       "      <td>235</td>\n",
       "      <td>0.030</td>\n",
       "      <td>0.000129</td>\n",
       "      <td>159.37500</td>\n",
       "      <td>0.502888</td>\n",
       "      <td>0.219193</td>\n",
       "      <td>0.206375</td>\n",
       "      <td>1.126066e+16</td>\n",
       "      <td>NaN</td>\n",
       "      <td>4.427819</td>\n",
       "      <td>0.019006</td>\n",
       "      <td>0.000890</td>\n",
       "    </tr>\n",
       "    <tr>\n",
       "      <th>4</th>\n",
       "      <td>2499</td>\n",
       "      <td>8.330000</td>\n",
       "      <td>1.0</td>\n",
       "      <td>12.479073</td>\n",
       "      <td>0.032026</td>\n",
       "      <td>2</td>\n",
       "      <td>0.060</td>\n",
       "      <td>0.000466</td>\n",
       "      <td>178.12500</td>\n",
       "      <td>0.681419</td>\n",
       "      <td>0.316540</td>\n",
       "      <td>0.273123</td>\n",
       "      <td>1.568340e+16</td>\n",
       "      <td>NaN</td>\n",
       "      <td>5.221314</td>\n",
       "      <td>0.128655</td>\n",
       "      <td>0.017219</td>\n",
       "    </tr>\n",
       "    <tr>\n",
       "      <th>...</th>\n",
       "      <td>...</td>\n",
       "      <td>...</td>\n",
       "      <td>...</td>\n",
       "      <td>...</td>\n",
       "      <td>...</td>\n",
       "      <td>...</td>\n",
       "      <td>...</td>\n",
       "      <td>...</td>\n",
       "      <td>...</td>\n",
       "      <td>...</td>\n",
       "      <td>...</td>\n",
       "      <td>...</td>\n",
       "      <td>...</td>\n",
       "      <td>...</td>\n",
       "      <td>...</td>\n",
       "      <td>...</td>\n",
       "      <td>...</td>\n",
       "    </tr>\n",
       "    <tr>\n",
       "      <th>65</th>\n",
       "      <td>139</td>\n",
       "      <td>0.463333</td>\n",
       "      <td>1.0</td>\n",
       "      <td>9.949451</td>\n",
       "      <td>0.000000</td>\n",
       "      <td>0</td>\n",
       "      <td>NaN</td>\n",
       "      <td>NaN</td>\n",
       "      <td>138.28125</td>\n",
       "      <td>NaN</td>\n",
       "      <td>NaN</td>\n",
       "      <td>NaN</td>\n",
       "      <td>1.019532e+16</td>\n",
       "      <td>NaN</td>\n",
       "      <td>4.924601</td>\n",
       "      <td>0.021277</td>\n",
       "      <td>0.003642</td>\n",
       "    </tr>\n",
       "    <tr>\n",
       "      <th>66</th>\n",
       "      <td>139</td>\n",
       "      <td>0.463333</td>\n",
       "      <td>1.0</td>\n",
       "      <td>12.569448</td>\n",
       "      <td>0.000000</td>\n",
       "      <td>0</td>\n",
       "      <td>NaN</td>\n",
       "      <td>NaN</td>\n",
       "      <td>110.15625</td>\n",
       "      <td>NaN</td>\n",
       "      <td>NaN</td>\n",
       "      <td>NaN</td>\n",
       "      <td>7.862459e+15</td>\n",
       "      <td>NaN</td>\n",
       "      <td>3.396680</td>\n",
       "      <td>0.031915</td>\n",
       "      <td>0.000829</td>\n",
       "    </tr>\n",
       "    <tr>\n",
       "      <th>67</th>\n",
       "      <td>305</td>\n",
       "      <td>1.016667</td>\n",
       "      <td>1.0</td>\n",
       "      <td>12.573521</td>\n",
       "      <td>0.000000</td>\n",
       "      <td>0</td>\n",
       "      <td>NaN</td>\n",
       "      <td>NaN</td>\n",
       "      <td>128.90625</td>\n",
       "      <td>NaN</td>\n",
       "      <td>NaN</td>\n",
       "      <td>NaN</td>\n",
       "      <td>1.770598e+16</td>\n",
       "      <td>NaN</td>\n",
       "      <td>4.217884</td>\n",
       "      <td>0.055288</td>\n",
       "      <td>0.003057</td>\n",
       "    </tr>\n",
       "    <tr>\n",
       "      <th>68</th>\n",
       "      <td>228</td>\n",
       "      <td>0.760000</td>\n",
       "      <td>1.0</td>\n",
       "      <td>9.137167</td>\n",
       "      <td>0.000000</td>\n",
       "      <td>0</td>\n",
       "      <td>NaN</td>\n",
       "      <td>NaN</td>\n",
       "      <td>96.09375</td>\n",
       "      <td>NaN</td>\n",
       "      <td>NaN</td>\n",
       "      <td>NaN</td>\n",
       "      <td>5.555866e+15</td>\n",
       "      <td>NaN</td>\n",
       "      <td>4.095774</td>\n",
       "      <td>0.080128</td>\n",
       "      <td>0.010381</td>\n",
       "    </tr>\n",
       "    <tr>\n",
       "      <th>69</th>\n",
       "      <td>233</td>\n",
       "      <td>0.776667</td>\n",
       "      <td>1.0</td>\n",
       "      <td>8.986201</td>\n",
       "      <td>0.000000</td>\n",
       "      <td>0</td>\n",
       "      <td>NaN</td>\n",
       "      <td>NaN</td>\n",
       "      <td>124.21875</td>\n",
       "      <td>NaN</td>\n",
       "      <td>NaN</td>\n",
       "      <td>NaN</td>\n",
       "      <td>6.145696e+15</td>\n",
       "      <td>NaN</td>\n",
       "      <td>4.401668</td>\n",
       "      <td>0.015625</td>\n",
       "      <td>0.003730</td>\n",
       "    </tr>\n",
       "  </tbody>\n",
       "</table>\n",
       "<p>70 rows × 17 columns</p>\n",
       "</div>"
      ],
      "text/plain": [
       "    num_spikes  firing_rate  presence_ratio        snr  isi_violations_ratio  \\\n",
       "0        10185    33.950000             1.0  10.541825              0.007712   \n",
       "1         2992     9.973333             1.0  14.861369              0.223412   \n",
       "2         2678     8.926667             1.0  10.694035              0.055775   \n",
       "3         3570    11.900000             1.0  14.742996              1.843875   \n",
       "4         2499     8.330000             1.0  12.479073              0.032026   \n",
       "..         ...          ...             ...        ...                   ...   \n",
       "65         139     0.463333             1.0   9.949451              0.000000   \n",
       "66         139     0.463333             1.0  12.569448              0.000000   \n",
       "67         305     1.016667             1.0  12.573521              0.000000   \n",
       "68         228     0.760000             1.0   9.137167              0.000000   \n",
       "69         233     0.776667             1.0   8.986201              0.000000   \n",
       "\n",
       "    isi_violations_count  sliding_rp_violation  amplitude_cutoff  \\\n",
       "0                      8                 0.005          0.000337   \n",
       "1                     20                 0.040          0.000250   \n",
       "2                      4                 0.050          0.002782   \n",
       "3                    235                 0.030          0.000129   \n",
       "4                      2                 0.060          0.000466   \n",
       "..                   ...                   ...               ...   \n",
       "65                     0                   NaN               NaN   \n",
       "66                     0                   NaN               NaN   \n",
       "67                     0                   NaN               NaN   \n",
       "68                     0                   NaN               NaN   \n",
       "69                     0                   NaN               NaN   \n",
       "\n",
       "    amplitude_median  drift_ptp  drift_std  drift_mad  isolation_distance  \\\n",
       "0          107.81250   0.336426   0.119377   0.070237        1.582826e+16   \n",
       "1          208.59375   0.589545   0.215562   0.197512        1.542560e+17   \n",
       "2          147.65625   0.547141   0.198845   0.185374        4.369987e+16   \n",
       "3          159.37500   0.502888   0.219193   0.206375        1.126066e+16   \n",
       "4          178.12500   0.681419   0.316540   0.273123        1.568340e+16   \n",
       "..               ...        ...        ...        ...                 ...   \n",
       "65         138.28125        NaN        NaN        NaN        1.019532e+16   \n",
       "66         110.15625        NaN        NaN        NaN        7.862459e+15   \n",
       "67         128.90625        NaN        NaN        NaN        1.770598e+16   \n",
       "68          96.09375        NaN        NaN        NaN        5.555866e+15   \n",
       "69         124.21875        NaN        NaN        NaN        6.145696e+15   \n",
       "\n",
       "    l_ratio   d_prime  nn_hit_rate  nn_miss_rate  \n",
       "0       NaN  5.984083     0.016082      0.002162  \n",
       "1       NaN  5.421937     0.138889      0.010505  \n",
       "2       NaN  4.792875     0.073099      0.019000  \n",
       "3       NaN  4.427819     0.019006      0.000890  \n",
       "4       NaN  5.221314     0.128655      0.017219  \n",
       "..      ...       ...          ...           ...  \n",
       "65      NaN  4.924601     0.021277      0.003642  \n",
       "66      NaN  3.396680     0.031915      0.000829  \n",
       "67      NaN  4.217884     0.055288      0.003057  \n",
       "68      NaN  4.095774     0.080128      0.010381  \n",
       "69      NaN  4.401668     0.015625      0.003730  \n",
       "\n",
       "[70 rows x 17 columns]"
      ]
     },
     "metadata": {},
     "output_type": "display_data"
    }
   ],
   "source": [
    "display(qm)"
   ]
  },
  {
   "cell_type": "code",
   "execution_count": 91,
   "metadata": {},
   "outputs": [
    {
     "data": {
      "application/vnd.jupyter.widget-view+json": {
       "model_id": "5cb07ff46ced40d89b578b8d051096c5",
       "version_major": 2,
       "version_minor": 0
      },
      "text/plain": [
       "AppLayout(children=(VBox(children=(Label(value='units:'), SelectMultiple(layout=Layout(height='10cm', width='3…"
      ]
     },
     "metadata": {},
     "output_type": "display_data"
    },
    {
     "data": {
      "text/plain": [
       "<spikeinterface.widgets.ipywidgets.quality_metrics.QualityMetricsPlotter at 0x7fd0d0ba6140>"
      ]
     },
     "execution_count": 91,
     "metadata": {},
     "output_type": "execute_result"
    }
   ],
   "source": [
    "sw.plot_quality_metrics(we, include_metrics=[\"amplitude_cutoff\", \"presence_ratio\", \"isi_violations_ratio\", \"snr\"], \n",
    "                        backend=\"ipywidgets\")"
   ]
  },
  {
   "cell_type": "markdown",
   "metadata": {
    "pycharm": {
     "name": "#%% md\n"
    }
   },
   "source": [
    "For more information about these waveform features, we refer to the [SpikeInterface documentation](https://spikeinterface.readthedocs.io/en/latest/module_qualitymetrics.html) and to this excellent [documentation](https://allensdk.readthedocs.io/en/latest/_static/examples/nb/ecephys_quality_metrics.html) from the Allen Institute."
   ]
  },
  {
   "cell_type": "markdown",
   "metadata": {
    "pycharm": {
     "name": "#%% md\n"
    }
   },
   "source": [
    "## Automatic curation based on quality metrics"
   ]
  },
  {
   "cell_type": "markdown",
   "metadata": {
    "pycharm": {
     "name": "#%% md\n"
    }
   },
   "source": [
    "A viable option to curate (or at least pre-curate) a spike sorting output is to filter units based on quality metrics. As we have already computed quality metrics a few lines above, we can simply filter the `qm` dataframe based on some thresholds.\n",
    "\n",
    "Here, we'll only keep units with an ISI violation threshold < 0.2 and amplitude cutoff < 0.9:"
   ]
  },
  {
   "cell_type": "code",
   "execution_count": 92,
   "metadata": {
    "pycharm": {
     "name": "#%%\n"
    }
   },
   "outputs": [],
   "source": [
    "isi_viol_thresh = 0.2\n",
    "amp_cutoff_thresh = 0.1"
   ]
  },
  {
   "cell_type": "markdown",
   "metadata": {},
   "source": [
    "A straightforward way to filter a pandas dataframe is via the `query`.\n",
    "We first define our query (make sure the names match the column names of the dataframe):"
   ]
  },
  {
   "cell_type": "code",
   "execution_count": 97,
   "metadata": {
    "pycharm": {
     "name": "#%%\n"
    }
   },
   "outputs": [
    {
     "name": "stdout",
     "output_type": "stream",
     "text": [
      "amplitude_cutoff < 0.1 & isi_violations_ratio < 0.2\n"
     ]
    }
   ],
   "source": [
    "our_query = f\"amplitude_cutoff < {amp_cutoff_thresh} & isi_violations_ratio < {isi_viol_thresh}\"\n",
    "print(our_query)"
   ]
  },
  {
   "cell_type": "markdown",
   "metadata": {
    "pycharm": {
     "name": "#%% md\n"
    }
   },
   "source": [
    "and then we can use the query to select units:"
   ]
  },
  {
   "cell_type": "code",
   "execution_count": 98,
   "metadata": {
    "pycharm": {
     "name": "#%%\n"
    }
   },
   "outputs": [],
   "source": [
    "keep_units = qm.query(our_query)\n",
    "keep_unit_ids = keep_units.index.values"
   ]
  },
  {
   "cell_type": "code",
   "execution_count": 99,
   "metadata": {},
   "outputs": [
    {
     "name": "stdout",
     "output_type": "stream",
     "text": [
      "Number of units before curation: 70\n",
      "Number of units after curation: 32\n"
     ]
    }
   ],
   "source": [
    "sorting_auto_KS25 = sorting.select_units(keep_unit_ids)\n",
    "print(f\"Number of units before curation: {len(sorting.get_unit_ids())}\")\n",
    "print(f\"Number of units after curation: {len(sorting_auto_KS25.get_unit_ids())}\")"
   ]
  },
  {
   "cell_type": "markdown",
   "metadata": {},
   "source": [
    "We can also save all the waveforms and post-processed data for curated units in a separate folder:"
   ]
  },
  {
   "cell_type": "code",
   "execution_count": 100,
   "metadata": {},
   "outputs": [],
   "source": [
    "we_curated = we.select_units(keep_unit_ids, new_folder=\"waveforms_curated\")"
   ]
  },
  {
   "cell_type": "code",
   "execution_count": 101,
   "metadata": {},
   "outputs": [
    {
     "name": "stdout",
     "output_type": "stream",
     "text": [
      "WaveformExtractor: 384 channels - 32 units - 1 segments\n",
      "  before:90 after:120 n_per_units:500\n"
     ]
    }
   ],
   "source": [
    "print(we_curated)"
   ]
  },
  {
   "cell_type": "code",
   "execution_count": 102,
   "metadata": {},
   "outputs": [
    {
     "data": {
      "text/plain": [
       "['template_metrics',\n",
       " 'similarity',\n",
       " 'principal_components',\n",
       " 'spike_amplitudes',\n",
       " 'correlograms',\n",
       " 'spike_locations',\n",
       " 'unit_locations',\n",
       " 'quality_metrics']"
      ]
     },
     "execution_count": 102,
     "metadata": {},
     "output_type": "execute_result"
    }
   ],
   "source": [
    "we_curated.get_available_extension_names()"
   ]
  },
  {
   "cell_type": "markdown",
   "metadata": {},
   "source": [
    "# 9. Spike sorting comparison <a class=\"anchor\" id=\"comparison\"></a>\n",
    "\n",
    "Can we combine the output of multiple sorters to curate the spike sorting output?\n",
    "\n",
    "To answer this question we can use the `comparison` module.\n",
    "We first compare and match the output spike trains of the different sorters, and we can then extract a new `SortingExtractor` with only the units in agreement."
   ]
  },
  {
   "cell_type": "markdown",
   "metadata": {},
   "source": [
    "### Compare two sorters"
   ]
  },
  {
   "cell_type": "code",
   "execution_count": null,
   "metadata": {},
   "outputs": [],
   "source": [
    "comp_KS2_KS25 = sc.compare_two_sorters(sorting_KS2, sorting_KS25, 'KS2', 'KS25')"
   ]
  },
  {
   "cell_type": "code",
   "execution_count": null,
   "metadata": {},
   "outputs": [],
   "source": [
    "sw.plot_agreement_matrix(comp_KS2_KS25)"
   ]
  },
  {
   "cell_type": "code",
   "execution_count": null,
   "metadata": {},
   "outputs": [],
   "source": [
    "comp_KS2_KS25auto = sc.compare_two_sorters(sorting_KS2, sorting_auto_KS25, 'KS2', 'KS25_auto')"
   ]
  },
  {
   "cell_type": "code",
   "execution_count": null,
   "metadata": {},
   "outputs": [],
   "source": [
    "sw.plot_agreement_matrix(comp_KS2_KS25auto)"
   ]
  },
  {
   "cell_type": "markdown",
   "metadata": {},
   "source": [
    "### Compare multiple sorters"
   ]
  },
  {
   "cell_type": "code",
   "execution_count": null,
   "metadata": {},
   "outputs": [],
   "source": [
    "mcmp = sc.compare_multiple_sorters([sorting_KS2, sorting_KS25], ['KS2', 'KS25'], \n",
    "                                   spiketrain_mode='union', verbose=True)"
   ]
  },
  {
   "cell_type": "code",
   "execution_count": null,
   "metadata": {},
   "outputs": [],
   "source": [
    "w = sw.plot_multicomp_agreement(mcmp)\n",
    "w = sw.plot_multicomp_agreement_by_sorter(mcmp)"
   ]
  },
  {
   "cell_type": "code",
   "execution_count": null,
   "metadata": {
    "pycharm": {
     "name": "#%%\n"
    }
   },
   "outputs": [],
   "source": [
    "sw.plot_multicomp_graph(mcmp, draw_labels=False)"
   ]
  },
  {
   "cell_type": "code",
   "execution_count": null,
   "metadata": {},
   "outputs": [],
   "source": [
    "agreement_sorting = mcmp.get_agreement_sorting(minimum_agreement_count=2)\n",
    "print(agreement_sorting)"
   ]
  },
  {
   "cell_type": "code",
   "execution_count": null,
   "metadata": {},
   "outputs": [],
   "source": [
    "sw.plot_rasters(agreement_sorting)"
   ]
  },
  {
   "cell_type": "code",
   "execution_count": null,
   "metadata": {},
   "outputs": [],
   "source": [
    "# compare consensus and auto\n",
    "comp_agr_auto = sc.compare_two_sorters(agreement_sorting, sorting_auto_KS25, 'AGR', 'AUTO')"
   ]
  },
  {
   "cell_type": "code",
   "execution_count": null,
   "metadata": {},
   "outputs": [],
   "source": [
    "sw.plot_agreement_matrix(comp_agr_auto)"
   ]
  },
  {
   "cell_type": "markdown",
   "metadata": {
    "pycharm": {
     "name": "#%% md\n"
    }
   },
   "source": [
    "# 10. Exporters <a class=\"anchor\" id=\"exporters\"></a>"
   ]
  },
  {
   "cell_type": "markdown",
   "metadata": {
    "pycharm": {
     "name": "#%% md\n"
    }
   },
   "source": [
    "## Export to Phy for manual curation\n",
    "\n",
    "To perform manual curation we can export the data to [Phy](https://github.com/cortex-lab/phy). "
   ]
  },
  {
   "cell_type": "code",
   "execution_count": null,
   "metadata": {},
   "outputs": [],
   "source": [
    "sexp.export_to_phy?"
   ]
  },
  {
   "cell_type": "code",
   "execution_count": null,
   "metadata": {
    "pycharm": {
     "name": "#%%\n"
    }
   },
   "outputs": [],
   "source": [
    "sexp.export_to_phy(we, output_folder=base_folder / 'phy_KS25', \n",
    "                   compute_amplitudes=False, compute_pc_features=False, copy_binary=True,\n",
    "                   **job_kwargs)"
   ]
  },
  {
   "cell_type": "markdown",
   "metadata": {},
   "source": [
    "There is a problem with the latest version of Phy so we need to set an environment variable to make it work properly:\n",
    "\n",
    "- Python:\n",
    "```\n",
    "import os\n",
    "os.environ[\"QTWEBENGINE_CHROMIUM_FLAGS\"] = \"--single-process\"\n",
    "```\n",
    "\n",
    "- OR terminal:\n",
    "\n",
    "  - Linux/MacOS:\n",
    "`export QTWEBENGINE_CHROMIUM_FLAGS=\"--single-process\"`\n",
    "\n",
    "  - Windows:\n",
    "`set QTWEBENGINE_CHROMIUM_FLAGS=\"--single-process\"`\n",
    "\n",
    "Then we can run the Phy GUI:"
   ]
  },
  {
   "cell_type": "code",
   "execution_count": null,
   "metadata": {},
   "outputs": [],
   "source": [
    "import os\n",
    "os.environ[\"QTWEBENGINE_CHROMIUM_FLAGS\"] = \"--single-process\""
   ]
  },
  {
   "cell_type": "code",
   "execution_count": null,
   "metadata": {
    "pycharm": {
     "name": "#%%\n"
    }
   },
   "outputs": [],
   "source": [
    "# %%capture --no-display\n",
    "# !phy template-gui phy_KS25/params.py"
   ]
  },
  {
   "cell_type": "markdown",
   "metadata": {
    "pycharm": {
     "name": "#%% md\n"
    }
   },
   "source": [
    "After curating the results we can reload it using the `PhySortingExtractor` and exclude the units that we labeled as `noise`:"
   ]
  },
  {
   "cell_type": "code",
   "execution_count": null,
   "metadata": {},
   "outputs": [],
   "source": [
    "sorting_phy_curated = se.PhySortingExtractor(base_folder / 'phy_KS25/', exclude_cluster_groups=['noise'])"
   ]
  },
  {
   "cell_type": "code",
   "execution_count": null,
   "metadata": {},
   "outputs": [],
   "source": [
    "print(f\"Number of units before curation: {len(sorting.get_unit_ids())}\")\n",
    "print(f\"Number of units after curation: {len(sorting_phy_curated.get_unit_ids())}\")"
   ]
  },
  {
   "cell_type": "markdown",
   "metadata": {},
   "source": [
    "### That's all for today! Thanks!"
   ]
  }
 ],
 "metadata": {
  "kernelspec": {
   "display_name": "Python 3 (ipykernel)",
   "language": "python",
   "name": "python3"
  },
  "language_info": {
   "codemirror_mode": {
    "name": "ipython",
    "version": 3
   },
   "file_extension": ".py",
   "mimetype": "text/x-python",
   "name": "python",
   "nbconvert_exporter": "python",
   "pygments_lexer": "ipython3",
   "version": "3.10.9"
  },
  "pycharm": {
   "stem_cell": {
    "cell_type": "raw",
    "metadata": {
     "collapsed": false
    },
    "source": []
   }
  }
 },
 "nbformat": 4,
 "nbformat_minor": 4
}
